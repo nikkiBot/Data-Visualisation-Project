{
 "cells": [
  {
   "cell_type": "code",
   "execution_count": 1,
   "metadata": {},
   "outputs": [],
   "source": [
    "import pandas as pd\n",
    "import plotly.express as px\n",
    "import plotly.graph_objects as go\n",
    "from plotly.subplots import make_subplots"
   ]
  },
  {
   "cell_type": "markdown",
   "metadata": {},
   "source": [
    "## Data Cleaning and Preparation"
   ]
  },
  {
   "cell_type": "code",
   "execution_count": 2,
   "metadata": {},
   "outputs": [
    {
     "data": {
      "text/html": [
       "<div>\n",
       "<style scoped>\n",
       "    .dataframe tbody tr th:only-of-type {\n",
       "        vertical-align: middle;\n",
       "    }\n",
       "\n",
       "    .dataframe tbody tr th {\n",
       "        vertical-align: top;\n",
       "    }\n",
       "\n",
       "    .dataframe thead th {\n",
       "        text-align: right;\n",
       "    }\n",
       "</style>\n",
       "<table border=\"1\" class=\"dataframe\">\n",
       "  <thead>\n",
       "    <tr style=\"text-align: right;\">\n",
       "      <th></th>\n",
       "      <th>ID</th>\n",
       "      <th>Final_ID</th>\n",
       "      <th>BITSAT_ID</th>\n",
       "      <th>Name</th>\n",
       "      <th>Gender</th>\n",
       "      <th>Board</th>\n",
       "      <th>CGPA</th>\n",
       "      <th>BITSAT Score</th>\n",
       "    </tr>\n",
       "  </thead>\n",
       "  <tbody>\n",
       "    <tr>\n",
       "      <th>0</th>\n",
       "      <td>41120180003</td>\n",
       "      <td>2018A1PS0003H</td>\n",
       "      <td>2018A1PS0003H</td>\n",
       "      <td>RAHUL PRABHAKAR</td>\n",
       "      <td>MALE</td>\n",
       "      <td>Central Board of Secondary Education - All Ind...</td>\n",
       "      <td>6.41</td>\n",
       "      <td>275</td>\n",
       "    </tr>\n",
       "    <tr>\n",
       "      <th>1</th>\n",
       "      <td>41120180006</td>\n",
       "      <td>2018A1PS0006H</td>\n",
       "      <td>2018A1PS0006H</td>\n",
       "      <td>VARUN HEMANT KUMAR PATEL</td>\n",
       "      <td>MALE</td>\n",
       "      <td>Board of Intermediate Education, Telangana - I...</td>\n",
       "      <td>7.34</td>\n",
       "      <td>266</td>\n",
       "    </tr>\n",
       "    <tr>\n",
       "      <th>2</th>\n",
       "      <td>41120180007</td>\n",
       "      <td>2018A1PS0007H</td>\n",
       "      <td>2018A1PS0007H</td>\n",
       "      <td>HARSH SHARMA</td>\n",
       "      <td>MALE</td>\n",
       "      <td>Central Board of Secondary Education - All Ind...</td>\n",
       "      <td>6.94</td>\n",
       "      <td>267</td>\n",
       "    </tr>\n",
       "    <tr>\n",
       "      <th>3</th>\n",
       "      <td>41120180010</td>\n",
       "      <td>2018A1PS0010H</td>\n",
       "      <td>2018A1PS0010H</td>\n",
       "      <td>PRANAV ROY</td>\n",
       "      <td>MALE</td>\n",
       "      <td>Central Board of Secondary Education - All Ind...</td>\n",
       "      <td>8.76</td>\n",
       "      <td>283</td>\n",
       "    </tr>\n",
       "    <tr>\n",
       "      <th>4</th>\n",
       "      <td>41120180011</td>\n",
       "      <td>2018A1PS0011H</td>\n",
       "      <td>2018A1PS0011H</td>\n",
       "      <td>CHENNA SHREE PRIYA</td>\n",
       "      <td>FEMALE</td>\n",
       "      <td>Board of Intermediate Education, Telangana - I...</td>\n",
       "      <td>8.33</td>\n",
       "      <td>286</td>\n",
       "    </tr>\n",
       "  </tbody>\n",
       "</table>\n",
       "</div>"
      ],
      "text/plain": [
       "            ID       Final_ID      BITSAT_ID                      Name  \\\n",
       "0  41120180003  2018A1PS0003H  2018A1PS0003H           RAHUL PRABHAKAR   \n",
       "1  41120180006  2018A1PS0006H  2018A1PS0006H  VARUN HEMANT KUMAR PATEL   \n",
       "2  41120180007  2018A1PS0007H  2018A1PS0007H              HARSH SHARMA   \n",
       "3  41120180010  2018A1PS0010H  2018A1PS0010H                PRANAV ROY   \n",
       "4  41120180011  2018A1PS0011H  2018A1PS0011H        CHENNA SHREE PRIYA   \n",
       "\n",
       "   Gender                                              Board  CGPA  \\\n",
       "0    MALE  Central Board of Secondary Education - All Ind...  6.41   \n",
       "1    MALE  Board of Intermediate Education, Telangana - I...  7.34   \n",
       "2    MALE  Central Board of Secondary Education - All Ind...  6.94   \n",
       "3    MALE  Central Board of Secondary Education - All Ind...  8.76   \n",
       "4  FEMALE  Board of Intermediate Education, Telangana - I...  8.33   \n",
       "\n",
       "  BITSAT Score  \n",
       "0          275  \n",
       "1          266  \n",
       "2          267  \n",
       "3          283  \n",
       "4          286  "
      ]
     },
     "execution_count": 2,
     "metadata": {},
     "output_type": "execute_result"
    }
   ],
   "source": [
    "# Read the CGPA dataset\n",
    "df1 = pd.read_excel(\"CGPA.xlsx\")\n",
    "\n",
    "# Read the BITSAT information dataset\n",
    "df2 = pd.read_excel(\"BITSAT-2018.xlsx\").dropna()\n",
    "\n",
    "\n",
    "# Clean out the 2019 batch data\n",
    "df1[\"first4\"] = df1[\"Campus ID\"].apply(lambda x:x[:4])\n",
    "df1 = df1[df1['first4'] == \"2018\"]\n",
    "\n",
    "# Clean out higher degree data\n",
    "df1 = df1[~df1[\"Campus ID\"].str.contains(\"HS\")]\n",
    "\n",
    "# Join the two datasets based on the last 4 digits of ID number\n",
    "df1[\"last4\"] = df1[\"Campus ID\"].apply(lambda x:x[-5:-1])\n",
    "df2[\"last4\"] = df2[\"ID No.\"].apply(lambda x:x[-5:-1])\n",
    "df = pd.concat([df1.set_index(\"last4\"), df2.set_index(\"last4\")], axis=1, join='inner')\n",
    "df.reset_index(inplace=True)\n",
    "\n",
    "# Filter out and rename useful columns\n",
    "df = df[[\"ID\",\"Campus ID\", \"ID No.\", \"Name\", \"Gender\", \"Board\", \"CGPA\", \"BITSAT Score\"]]\n",
    "df.rename(columns={\"Campus ID\":\"Final_ID\",\"ID No.\":\"BITSAT_ID\"}, inplace=True)\n",
    "df.head()"
   ]
  },
  {
   "cell_type": "code",
   "execution_count": 3,
   "metadata": {},
   "outputs": [],
   "source": [
    "# Function to map branch code to branch name\n",
    "def branch(x):\n",
    "    branchmap = {\n",
    "        \"A1\":\"BE Chemical\",\n",
    "        \"A2\":\"BE Civil\",\n",
    "        \"A3\":\"BE EEE\",\n",
    "        \"A4\":\"BE Mechanical\",\n",
    "        \"A5\":\"BE Pharma\",\n",
    "        \"A7\":\"BE Computer Science\",\n",
    "        \"A8\":\"BE ENI\",\n",
    "        \"AA\":\"BE ECE\",\n",
    "        \"B1\":\"MSc Biology\",\n",
    "        \"B2\":\"MSc Chemistry\",\n",
    "        \"B3\":\"MSc Economics\",\n",
    "        \"B4\":\"MSc Mathematics\",\n",
    "        \"B5\":\"MSc Physics\"\n",
    "    }\n",
    "    return branchmap[x[4:6]]\n",
    "\n",
    "# Function to check whether student is Single degree or Dual Degree\n",
    "def dualite(x):\n",
    "    if x[4:6] in [\"B1\",\"B2\",\"B3\",\"B4\",\"B5\"]:\n",
    "        return \"Dual Degree\"\n",
    "    else:\n",
    "        return \"Single Degree\"\n",
    "    \n",
    "# Function to check whether student converted to thesis\n",
    "def PStoTS(finalid,bitsat):\n",
    "    if bitsat[6:8] == \"PS\" and finalid[6:8] == \"TS\":\n",
    "        return True\n",
    "    return False\n",
    "\n",
    "# Add separate column using each function above\n",
    "df[\"Branch\"] = df[\"BITSAT_ID\"].apply(branch)\n",
    "df[\"Dualite\"] = df[\"BITSAT_ID\"].apply(dualite)\n",
    "df[\"Board\"] = df[\"Board\"].apply(lambda x:x.split(\" - \")[0])\n",
    "df['ConvertedToTS'] = df.apply(lambda x: PStoTS(x.Final_ID, x.BITSAT_ID), axis=1)"
   ]
  },
  {
   "cell_type": "markdown",
   "metadata": {},
   "source": [
    "## Data Visualisation"
   ]
  },
  {
   "cell_type": "code",
   "execution_count": 4,
   "metadata": {},
   "outputs": [
    {
     "data": {
      "application/vnd.plotly.v1+json": {
       "config": {
        "plotlyServerURL": "https://plot.ly"
       },
       "data": [
        {
         "domain": {
          "x": [
           0,
           0.45
          ],
          "y": [
           0,
           1
          ]
         },
         "hovertemplate": "%{label}<br>Number of students: %{value}<br><extra></extra>",
         "labels": [
          "MALE",
          "FEMALE"
         ],
         "legendgroup": "MaleFemale",
         "legendgrouptitle": {
          "text": "Male vs Female"
         },
         "type": "pie",
         "values": [
          806,
          155
         ]
        },
        {
         "domain": {
          "x": [
           0.55,
           1
          ],
          "y": [
           0,
           1
          ]
         },
         "hovertemplate": "%{label}<br>Number of students: %{value}<br><extra></extra>",
         "labels": [
          "Single Degree",
          "Dual Degree"
         ],
         "legendgroup": "SingleDual",
         "legendgrouptitle": {
          "text": "Single vs Dual degree"
         },
         "type": "pie",
         "values": [
          681,
          280
         ]
        }
       ],
       "layout": {
        "annotations": [
         {
          "font": {
           "size": 16
          },
          "showarrow": false,
          "text": "Male and Female Population Distribution in 2018 Batch",
          "x": 0.225,
          "xanchor": "center",
          "xref": "paper",
          "y": 1,
          "yanchor": "bottom",
          "yref": "paper"
         },
         {
          "font": {
           "size": 16
          },
          "showarrow": false,
          "text": "Single and Dual Degree Population Distribution in 2018 Batch",
          "x": 0.775,
          "xanchor": "center",
          "xref": "paper",
          "y": 1,
          "yanchor": "bottom",
          "yref": "paper"
         }
        ],
        "template": {
         "data": {
          "bar": [
           {
            "error_x": {
             "color": "#2a3f5f"
            },
            "error_y": {
             "color": "#2a3f5f"
            },
            "marker": {
             "line": {
              "color": "#E5ECF6",
              "width": 0.5
             },
             "pattern": {
              "fillmode": "overlay",
              "size": 10,
              "solidity": 0.2
             }
            },
            "type": "bar"
           }
          ],
          "barpolar": [
           {
            "marker": {
             "line": {
              "color": "#E5ECF6",
              "width": 0.5
             },
             "pattern": {
              "fillmode": "overlay",
              "size": 10,
              "solidity": 0.2
             }
            },
            "type": "barpolar"
           }
          ],
          "carpet": [
           {
            "aaxis": {
             "endlinecolor": "#2a3f5f",
             "gridcolor": "white",
             "linecolor": "white",
             "minorgridcolor": "white",
             "startlinecolor": "#2a3f5f"
            },
            "baxis": {
             "endlinecolor": "#2a3f5f",
             "gridcolor": "white",
             "linecolor": "white",
             "minorgridcolor": "white",
             "startlinecolor": "#2a3f5f"
            },
            "type": "carpet"
           }
          ],
          "choropleth": [
           {
            "colorbar": {
             "outlinewidth": 0,
             "ticks": ""
            },
            "type": "choropleth"
           }
          ],
          "contour": [
           {
            "colorbar": {
             "outlinewidth": 0,
             "ticks": ""
            },
            "colorscale": [
             [
              0,
              "#0d0887"
             ],
             [
              0.1111111111111111,
              "#46039f"
             ],
             [
              0.2222222222222222,
              "#7201a8"
             ],
             [
              0.3333333333333333,
              "#9c179e"
             ],
             [
              0.4444444444444444,
              "#bd3786"
             ],
             [
              0.5555555555555556,
              "#d8576b"
             ],
             [
              0.6666666666666666,
              "#ed7953"
             ],
             [
              0.7777777777777778,
              "#fb9f3a"
             ],
             [
              0.8888888888888888,
              "#fdca26"
             ],
             [
              1,
              "#f0f921"
             ]
            ],
            "type": "contour"
           }
          ],
          "contourcarpet": [
           {
            "colorbar": {
             "outlinewidth": 0,
             "ticks": ""
            },
            "type": "contourcarpet"
           }
          ],
          "heatmap": [
           {
            "colorbar": {
             "outlinewidth": 0,
             "ticks": ""
            },
            "colorscale": [
             [
              0,
              "#0d0887"
             ],
             [
              0.1111111111111111,
              "#46039f"
             ],
             [
              0.2222222222222222,
              "#7201a8"
             ],
             [
              0.3333333333333333,
              "#9c179e"
             ],
             [
              0.4444444444444444,
              "#bd3786"
             ],
             [
              0.5555555555555556,
              "#d8576b"
             ],
             [
              0.6666666666666666,
              "#ed7953"
             ],
             [
              0.7777777777777778,
              "#fb9f3a"
             ],
             [
              0.8888888888888888,
              "#fdca26"
             ],
             [
              1,
              "#f0f921"
             ]
            ],
            "type": "heatmap"
           }
          ],
          "heatmapgl": [
           {
            "colorbar": {
             "outlinewidth": 0,
             "ticks": ""
            },
            "colorscale": [
             [
              0,
              "#0d0887"
             ],
             [
              0.1111111111111111,
              "#46039f"
             ],
             [
              0.2222222222222222,
              "#7201a8"
             ],
             [
              0.3333333333333333,
              "#9c179e"
             ],
             [
              0.4444444444444444,
              "#bd3786"
             ],
             [
              0.5555555555555556,
              "#d8576b"
             ],
             [
              0.6666666666666666,
              "#ed7953"
             ],
             [
              0.7777777777777778,
              "#fb9f3a"
             ],
             [
              0.8888888888888888,
              "#fdca26"
             ],
             [
              1,
              "#f0f921"
             ]
            ],
            "type": "heatmapgl"
           }
          ],
          "histogram": [
           {
            "marker": {
             "pattern": {
              "fillmode": "overlay",
              "size": 10,
              "solidity": 0.2
             }
            },
            "type": "histogram"
           }
          ],
          "histogram2d": [
           {
            "colorbar": {
             "outlinewidth": 0,
             "ticks": ""
            },
            "colorscale": [
             [
              0,
              "#0d0887"
             ],
             [
              0.1111111111111111,
              "#46039f"
             ],
             [
              0.2222222222222222,
              "#7201a8"
             ],
             [
              0.3333333333333333,
              "#9c179e"
             ],
             [
              0.4444444444444444,
              "#bd3786"
             ],
             [
              0.5555555555555556,
              "#d8576b"
             ],
             [
              0.6666666666666666,
              "#ed7953"
             ],
             [
              0.7777777777777778,
              "#fb9f3a"
             ],
             [
              0.8888888888888888,
              "#fdca26"
             ],
             [
              1,
              "#f0f921"
             ]
            ],
            "type": "histogram2d"
           }
          ],
          "histogram2dcontour": [
           {
            "colorbar": {
             "outlinewidth": 0,
             "ticks": ""
            },
            "colorscale": [
             [
              0,
              "#0d0887"
             ],
             [
              0.1111111111111111,
              "#46039f"
             ],
             [
              0.2222222222222222,
              "#7201a8"
             ],
             [
              0.3333333333333333,
              "#9c179e"
             ],
             [
              0.4444444444444444,
              "#bd3786"
             ],
             [
              0.5555555555555556,
              "#d8576b"
             ],
             [
              0.6666666666666666,
              "#ed7953"
             ],
             [
              0.7777777777777778,
              "#fb9f3a"
             ],
             [
              0.8888888888888888,
              "#fdca26"
             ],
             [
              1,
              "#f0f921"
             ]
            ],
            "type": "histogram2dcontour"
           }
          ],
          "mesh3d": [
           {
            "colorbar": {
             "outlinewidth": 0,
             "ticks": ""
            },
            "type": "mesh3d"
           }
          ],
          "parcoords": [
           {
            "line": {
             "colorbar": {
              "outlinewidth": 0,
              "ticks": ""
             }
            },
            "type": "parcoords"
           }
          ],
          "pie": [
           {
            "automargin": true,
            "type": "pie"
           }
          ],
          "scatter": [
           {
            "fillpattern": {
             "fillmode": "overlay",
             "size": 10,
             "solidity": 0.2
            },
            "type": "scatter"
           }
          ],
          "scatter3d": [
           {
            "line": {
             "colorbar": {
              "outlinewidth": 0,
              "ticks": ""
             }
            },
            "marker": {
             "colorbar": {
              "outlinewidth": 0,
              "ticks": ""
             }
            },
            "type": "scatter3d"
           }
          ],
          "scattercarpet": [
           {
            "marker": {
             "colorbar": {
              "outlinewidth": 0,
              "ticks": ""
             }
            },
            "type": "scattercarpet"
           }
          ],
          "scattergeo": [
           {
            "marker": {
             "colorbar": {
              "outlinewidth": 0,
              "ticks": ""
             }
            },
            "type": "scattergeo"
           }
          ],
          "scattergl": [
           {
            "marker": {
             "colorbar": {
              "outlinewidth": 0,
              "ticks": ""
             }
            },
            "type": "scattergl"
           }
          ],
          "scattermapbox": [
           {
            "marker": {
             "colorbar": {
              "outlinewidth": 0,
              "ticks": ""
             }
            },
            "type": "scattermapbox"
           }
          ],
          "scatterpolar": [
           {
            "marker": {
             "colorbar": {
              "outlinewidth": 0,
              "ticks": ""
             }
            },
            "type": "scatterpolar"
           }
          ],
          "scatterpolargl": [
           {
            "marker": {
             "colorbar": {
              "outlinewidth": 0,
              "ticks": ""
             }
            },
            "type": "scatterpolargl"
           }
          ],
          "scatterternary": [
           {
            "marker": {
             "colorbar": {
              "outlinewidth": 0,
              "ticks": ""
             }
            },
            "type": "scatterternary"
           }
          ],
          "surface": [
           {
            "colorbar": {
             "outlinewidth": 0,
             "ticks": ""
            },
            "colorscale": [
             [
              0,
              "#0d0887"
             ],
             [
              0.1111111111111111,
              "#46039f"
             ],
             [
              0.2222222222222222,
              "#7201a8"
             ],
             [
              0.3333333333333333,
              "#9c179e"
             ],
             [
              0.4444444444444444,
              "#bd3786"
             ],
             [
              0.5555555555555556,
              "#d8576b"
             ],
             [
              0.6666666666666666,
              "#ed7953"
             ],
             [
              0.7777777777777778,
              "#fb9f3a"
             ],
             [
              0.8888888888888888,
              "#fdca26"
             ],
             [
              1,
              "#f0f921"
             ]
            ],
            "type": "surface"
           }
          ],
          "table": [
           {
            "cells": {
             "fill": {
              "color": "#EBF0F8"
             },
             "line": {
              "color": "white"
             }
            },
            "header": {
             "fill": {
              "color": "#C8D4E3"
             },
             "line": {
              "color": "white"
             }
            },
            "type": "table"
           }
          ]
         },
         "layout": {
          "annotationdefaults": {
           "arrowcolor": "#2a3f5f",
           "arrowhead": 0,
           "arrowwidth": 1
          },
          "autotypenumbers": "strict",
          "coloraxis": {
           "colorbar": {
            "outlinewidth": 0,
            "ticks": ""
           }
          },
          "colorscale": {
           "diverging": [
            [
             0,
             "#8e0152"
            ],
            [
             0.1,
             "#c51b7d"
            ],
            [
             0.2,
             "#de77ae"
            ],
            [
             0.3,
             "#f1b6da"
            ],
            [
             0.4,
             "#fde0ef"
            ],
            [
             0.5,
             "#f7f7f7"
            ],
            [
             0.6,
             "#e6f5d0"
            ],
            [
             0.7,
             "#b8e186"
            ],
            [
             0.8,
             "#7fbc41"
            ],
            [
             0.9,
             "#4d9221"
            ],
            [
             1,
             "#276419"
            ]
           ],
           "sequential": [
            [
             0,
             "#0d0887"
            ],
            [
             0.1111111111111111,
             "#46039f"
            ],
            [
             0.2222222222222222,
             "#7201a8"
            ],
            [
             0.3333333333333333,
             "#9c179e"
            ],
            [
             0.4444444444444444,
             "#bd3786"
            ],
            [
             0.5555555555555556,
             "#d8576b"
            ],
            [
             0.6666666666666666,
             "#ed7953"
            ],
            [
             0.7777777777777778,
             "#fb9f3a"
            ],
            [
             0.8888888888888888,
             "#fdca26"
            ],
            [
             1,
             "#f0f921"
            ]
           ],
           "sequentialminus": [
            [
             0,
             "#0d0887"
            ],
            [
             0.1111111111111111,
             "#46039f"
            ],
            [
             0.2222222222222222,
             "#7201a8"
            ],
            [
             0.3333333333333333,
             "#9c179e"
            ],
            [
             0.4444444444444444,
             "#bd3786"
            ],
            [
             0.5555555555555556,
             "#d8576b"
            ],
            [
             0.6666666666666666,
             "#ed7953"
            ],
            [
             0.7777777777777778,
             "#fb9f3a"
            ],
            [
             0.8888888888888888,
             "#fdca26"
            ],
            [
             1,
             "#f0f921"
            ]
           ]
          },
          "colorway": [
           "#636efa",
           "#EF553B",
           "#00cc96",
           "#ab63fa",
           "#FFA15A",
           "#19d3f3",
           "#FF6692",
           "#B6E880",
           "#FF97FF",
           "#FECB52"
          ],
          "font": {
           "color": "#2a3f5f"
          },
          "geo": {
           "bgcolor": "white",
           "lakecolor": "white",
           "landcolor": "#E5ECF6",
           "showlakes": true,
           "showland": true,
           "subunitcolor": "white"
          },
          "hoverlabel": {
           "align": "left"
          },
          "hovermode": "closest",
          "mapbox": {
           "style": "light"
          },
          "paper_bgcolor": "white",
          "plot_bgcolor": "#E5ECF6",
          "polar": {
           "angularaxis": {
            "gridcolor": "white",
            "linecolor": "white",
            "ticks": ""
           },
           "bgcolor": "#E5ECF6",
           "radialaxis": {
            "gridcolor": "white",
            "linecolor": "white",
            "ticks": ""
           }
          },
          "scene": {
           "xaxis": {
            "backgroundcolor": "#E5ECF6",
            "gridcolor": "white",
            "gridwidth": 2,
            "linecolor": "white",
            "showbackground": true,
            "ticks": "",
            "zerolinecolor": "white"
           },
           "yaxis": {
            "backgroundcolor": "#E5ECF6",
            "gridcolor": "white",
            "gridwidth": 2,
            "linecolor": "white",
            "showbackground": true,
            "ticks": "",
            "zerolinecolor": "white"
           },
           "zaxis": {
            "backgroundcolor": "#E5ECF6",
            "gridcolor": "white",
            "gridwidth": 2,
            "linecolor": "white",
            "showbackground": true,
            "ticks": "",
            "zerolinecolor": "white"
           }
          },
          "shapedefaults": {
           "line": {
            "color": "#2a3f5f"
           }
          },
          "ternary": {
           "aaxis": {
            "gridcolor": "white",
            "linecolor": "white",
            "ticks": ""
           },
           "baxis": {
            "gridcolor": "white",
            "linecolor": "white",
            "ticks": ""
           },
           "bgcolor": "#E5ECF6",
           "caxis": {
            "gridcolor": "white",
            "linecolor": "white",
            "ticks": ""
           }
          },
          "title": {
           "x": 0.05
          },
          "xaxis": {
           "automargin": true,
           "gridcolor": "white",
           "linecolor": "white",
           "ticks": "",
           "title": {
            "standoff": 15
           },
           "zerolinecolor": "white",
           "zerolinewidth": 2
          },
          "yaxis": {
           "automargin": true,
           "gridcolor": "white",
           "linecolor": "white",
           "ticks": "",
           "title": {
            "standoff": 15
           },
           "zerolinecolor": "white",
           "zerolinewidth": 2
          }
         }
        }
       }
      }
     },
     "metadata": {},
     "output_type": "display_data"
    }
   ],
   "source": [
    "# Function to plot male vs female and single vs dual degree pie charts\n",
    "def basic_data(df):\n",
    "    # Create 2 subplots, one for each pie chart\n",
    "    fig = make_subplots(rows=1, cols=2, subplot_titles=(\"Male and Female Population Distribution in 2018 Batch\", \"Single and Dual Degree Population Distribution in 2018 Batch\"), specs=[[{'type': 'domain'},{'type': 'domain'}]])\n",
    "    \n",
    "    # Add trace for male vs female graph\n",
    "    fig.add_trace(go.Pie(labels=df['Gender'].value_counts().index,\n",
    "                     values=df['Gender'].value_counts(),\n",
    "                     legendgroup='MaleFemale',\n",
    "                     legendgrouptitle=dict(text='Male vs Female'),\n",
    "                    ),\n",
    "              row=1, col=1)\n",
    "    \n",
    "    # Add trace for single vs dual degree graph\n",
    "    fig.add_trace(go.Pie(labels=df['Dualite'].value_counts().index,\n",
    "                     values=df['Dualite'].value_counts(),\n",
    "                     legendgroup='SingleDual',\n",
    "                     legendgrouptitle=dict(text='Single vs Dual degree')),\n",
    "              row=1, col=2)\n",
    "    \n",
    "    # Custom hover template\n",
    "    fig.update_traces(hovertemplate ='%{label}'+'<br>Number of students: %{value}<br><extra></extra>')\n",
    "    fig.show()\n",
    "basic_data(df)\n"
   ]
  },
  {
   "cell_type": "code",
   "execution_count": 5,
   "metadata": {},
   "outputs": [
    {
     "data": {
      "application/vnd.plotly.v1+json": {
       "config": {
        "plotlyServerURL": "https://plot.ly"
       },
       "data": [
        {
         "domain": {
          "x": [
           0,
           1
          ],
          "y": [
           0,
           1
          ]
         },
         "hovertemplate": "Branch: %{label}<br>Number of students: %{value}<br><extra></extra>",
         "labels": [
          "BE Chemical",
          "BE Chemical",
          "BE Chemical",
          "BE Chemical",
          "BE Chemical",
          "BE Chemical",
          "BE Chemical",
          "BE Chemical",
          "BE Chemical",
          "BE Chemical",
          "BE Chemical",
          "BE Chemical",
          "BE Chemical",
          "BE Chemical",
          "BE Chemical",
          "BE Chemical",
          "BE Chemical",
          "BE Chemical",
          "BE Chemical",
          "BE Chemical",
          "BE Chemical",
          "BE Chemical",
          "BE Chemical",
          "BE Chemical",
          "BE Chemical",
          "BE Chemical",
          "BE Chemical",
          "BE Chemical",
          "BE Chemical",
          "BE Chemical",
          "BE Chemical",
          "BE Chemical",
          "BE Chemical",
          "BE Chemical",
          "BE Chemical",
          "BE Chemical",
          "BE Chemical",
          "BE Chemical",
          "BE Chemical",
          "BE Chemical",
          "BE Chemical",
          "BE Chemical",
          "BE Chemical",
          "BE Chemical",
          "BE Chemical",
          "BE Chemical",
          "BE Chemical",
          "BE Chemical",
          "BE Chemical",
          "BE Civil",
          "BE Civil",
          "BE Civil",
          "BE Civil",
          "BE Civil",
          "BE Civil",
          "BE Civil",
          "BE Civil",
          "BE Civil",
          "BE Civil",
          "BE Civil",
          "BE Civil",
          "BE Civil",
          "BE Civil",
          "BE Civil",
          "BE Civil",
          "BE Civil",
          "BE Civil",
          "BE Civil",
          "BE Civil",
          "BE Civil",
          "BE Civil",
          "BE Civil",
          "BE Civil",
          "BE Civil",
          "BE Civil",
          "BE Civil",
          "BE Civil",
          "BE Civil",
          "BE Civil",
          "BE Civil",
          "BE Civil",
          "BE Civil",
          "BE Civil",
          "BE Civil",
          "BE Civil",
          "BE Civil",
          "BE Civil",
          "BE Civil",
          "BE Civil",
          "BE Civil",
          "BE Civil",
          "BE Civil",
          "BE Civil",
          "BE Civil",
          "BE Civil",
          "BE Civil",
          "BE Civil",
          "BE Civil",
          "BE Civil",
          "BE EEE",
          "BE EEE",
          "BE EEE",
          "BE EEE",
          "BE Civil",
          "BE EEE",
          "BE EEE",
          "BE EEE",
          "BE EEE",
          "BE EEE",
          "BE EEE",
          "BE EEE",
          "BE EEE",
          "BE ENI",
          "BE EEE",
          "BE EEE",
          "BE EEE",
          "BE EEE",
          "BE EEE",
          "BE EEE",
          "BE EEE",
          "BE EEE",
          "BE EEE",
          "BE EEE",
          "BE EEE",
          "BE EEE",
          "BE EEE",
          "BE EEE",
          "BE EEE",
          "BE EEE",
          "BE EEE",
          "BE EEE",
          "BE EEE",
          "BE EEE",
          "BE EEE",
          "BE EEE",
          "BE EEE",
          "BE EEE",
          "BE EEE",
          "BE EEE",
          "BE EEE",
          "BE EEE",
          "BE EEE",
          "BE EEE",
          "BE EEE",
          "BE EEE",
          "BE EEE",
          "BE EEE",
          "BE EEE",
          "BE EEE",
          "BE EEE",
          "BE EEE",
          "BE Mechanical",
          "BE EEE",
          "BE EEE",
          "BE EEE",
          "BE EEE",
          "BE EEE",
          "BE EEE",
          "BE EEE",
          "BE EEE",
          "BE EEE",
          "BE EEE",
          "BE EEE",
          "BE EEE",
          "BE EEE",
          "BE EEE",
          "BE EEE",
          "BE EEE",
          "BE EEE",
          "BE EEE",
          "BE EEE",
          "BE EEE",
          "BE EEE",
          "BE EEE",
          "BE EEE",
          "BE EEE",
          "BE EEE",
          "BE EEE",
          "BE EEE",
          "BE EEE",
          "BE EEE",
          "BE EEE",
          "BE EEE",
          "BE Chemical",
          "BE EEE",
          "BE EEE",
          "BE EEE",
          "BE EEE",
          "BE EEE",
          "BE EEE",
          "BE Chemical",
          "BE EEE",
          "BE EEE",
          "BE EEE",
          "BE EEE",
          "BE EEE",
          "BE EEE",
          "BE Mechanical",
          "BE Mechanical",
          "BE Mechanical",
          "BE Mechanical",
          "BE Mechanical",
          "BE Mechanical",
          "BE Mechanical",
          "BE Mechanical",
          "BE Mechanical",
          "BE Mechanical",
          "BE Mechanical",
          "BE Mechanical",
          "BE Mechanical",
          "BE Mechanical",
          "BE Mechanical",
          "BE Mechanical",
          "BE Mechanical",
          "BE Mechanical",
          "BE Mechanical",
          "BE Mechanical",
          "BE Mechanical",
          "BE Mechanical",
          "BE Mechanical",
          "BE Mechanical",
          "BE Mechanical",
          "BE Mechanical",
          "BE Mechanical",
          "BE Mechanical",
          "BE Mechanical",
          "BE Mechanical",
          "BE Mechanical",
          "BE Mechanical",
          "BE Mechanical",
          "BE Mechanical",
          "BE Mechanical",
          "BE Mechanical",
          "BE Mechanical",
          "BE Mechanical",
          "BE Mechanical",
          "BE Mechanical",
          "BE Mechanical",
          "BE Mechanical",
          "BE Mechanical",
          "BE Mechanical",
          "BE Mechanical",
          "BE Mechanical",
          "BE Mechanical",
          "BE Mechanical",
          "BE Mechanical",
          "BE Mechanical",
          "BE Mechanical",
          "BE Mechanical",
          "BE Mechanical",
          "BE Mechanical",
          "BE Mechanical",
          "BE Mechanical",
          "BE Mechanical",
          "BE Mechanical",
          "BE Mechanical",
          "BE Mechanical",
          "BE Mechanical",
          "BE Mechanical",
          "BE Mechanical",
          "BE Mechanical",
          "BE Mechanical",
          "BE Mechanical",
          "BE Mechanical",
          "BE Mechanical",
          "BE Mechanical",
          "BE Mechanical",
          "BE Mechanical",
          "BE Mechanical",
          "BE Mechanical",
          "BE Mechanical",
          "BE Mechanical",
          "BE Mechanical",
          "BE Mechanical",
          "BE Mechanical",
          "BE Mechanical",
          "BE Mechanical",
          "BE Mechanical",
          "BE Mechanical",
          "BE Mechanical",
          "BE Mechanical",
          "BE Mechanical",
          "BE Mechanical",
          "BE Mechanical",
          "BE Mechanical",
          "BE Mechanical",
          "BE Mechanical",
          "BE Mechanical",
          "BE Mechanical",
          "BE Mechanical",
          "BE Mechanical",
          "BE Mechanical",
          "BE Mechanical",
          "BE Mechanical",
          "BE Mechanical",
          "BE Mechanical",
          "BE Mechanical",
          "BE Mechanical",
          "BE Mechanical",
          "BE Mechanical",
          "BE Mechanical",
          "BE Mechanical",
          "BE Mechanical",
          "BE Mechanical",
          "BE Mechanical",
          "BE Mechanical",
          "BE Mechanical",
          "BE Mechanical",
          "BE Mechanical",
          "BE Mechanical",
          "BE Mechanical",
          "BE Mechanical",
          "BE Pharma",
          "BE Pharma",
          "BE Pharma",
          "BE Pharma",
          "BE Pharma",
          "BE Pharma",
          "BE Pharma",
          "BE Pharma",
          "BE Pharma",
          "BE Pharma",
          "BE Pharma",
          "BE Pharma",
          "BE Pharma",
          "BE Pharma",
          "BE Pharma",
          "BE Pharma",
          "BE Pharma",
          "BE Pharma",
          "BE Pharma",
          "BE Pharma",
          "BE Pharma",
          "BE Pharma",
          "BE Pharma",
          "BE Pharma",
          "BE Pharma",
          "BE Pharma",
          "BE Pharma",
          "BE Pharma",
          "BE Pharma",
          "BE Pharma",
          "BE Pharma",
          "BE Pharma",
          "BE Pharma",
          "BE Pharma",
          "BE Pharma",
          "BE Pharma",
          "BE Pharma",
          "BE Pharma",
          "BE Pharma",
          "BE Computer Science",
          "BE Computer Science",
          "BE Computer Science",
          "BE Computer Science",
          "BE Computer Science",
          "BE Computer Science",
          "BE Computer Science",
          "BE Computer Science",
          "BE Civil",
          "BE Computer Science",
          "BE Computer Science",
          "BE Computer Science",
          "BE Computer Science",
          "BE Computer Science",
          "BE Computer Science",
          "BE Computer Science",
          "BE Computer Science",
          "BE Computer Science",
          "BE Computer Science",
          "BE Computer Science",
          "BE Computer Science",
          "BE Computer Science",
          "BE Computer Science",
          "BE Computer Science",
          "BE Computer Science",
          "BE Computer Science",
          "BE Computer Science",
          "BE Computer Science",
          "BE Computer Science",
          "BE Computer Science",
          "BE Computer Science",
          "BE Computer Science",
          "BE Computer Science",
          "BE Computer Science",
          "BE Computer Science",
          "BE Computer Science",
          "BE Computer Science",
          "BE Computer Science",
          "BE Computer Science",
          "BE Computer Science",
          "BE Computer Science",
          "BE Computer Science",
          "BE Computer Science",
          "BE Computer Science",
          "BE Computer Science",
          "BE Computer Science",
          "BE Computer Science",
          "BE Computer Science",
          "BE Computer Science",
          "BE Computer Science",
          "BE Computer Science",
          "BE Computer Science",
          "BE Computer Science",
          "BE Computer Science",
          "BE Computer Science",
          "BE Computer Science",
          "BE Computer Science",
          "BE Computer Science",
          "BE Computer Science",
          "BE Computer Science",
          "BE Computer Science",
          "BE Computer Science",
          "BE Computer Science",
          "BE Computer Science",
          "BE Computer Science",
          "BE Computer Science",
          "BE Computer Science",
          "BE Computer Science",
          "BE Computer Science",
          "BE Computer Science",
          "BE Computer Science",
          "BE Computer Science",
          "BE Computer Science",
          "BE Computer Science",
          "BE Computer Science",
          "BE Computer Science",
          "BE Computer Science",
          "BE Computer Science",
          "BE Computer Science",
          "BE Computer Science",
          "BE Computer Science",
          "BE Computer Science",
          "BE Computer Science",
          "BE Computer Science",
          "BE Computer Science",
          "BE Computer Science",
          "BE Computer Science",
          "BE Computer Science",
          "BE Computer Science",
          "BE Computer Science",
          "BE Computer Science",
          "BE Computer Science",
          "BE Computer Science",
          "BE Computer Science",
          "BE Computer Science",
          "BE Computer Science",
          "BE Computer Science",
          "BE Computer Science",
          "BE Computer Science",
          "BE Computer Science",
          "BE Computer Science",
          "BE Computer Science",
          "BE Computer Science",
          "BE Computer Science",
          "BE Computer Science",
          "BE Computer Science",
          "BE Computer Science",
          "BE Computer Science",
          "BE Computer Science",
          "BE Computer Science",
          "BE Computer Science",
          "BE Computer Science",
          "BE Computer Science",
          "BE Computer Science",
          "BE Computer Science",
          "BE Computer Science",
          "BE Computer Science",
          "BE Computer Science",
          "BE Computer Science",
          "BE Computer Science",
          "BE Computer Science",
          "BE Computer Science",
          "BE Computer Science",
          "BE Computer Science",
          "BE Computer Science",
          "BE Computer Science",
          "BE Computer Science",
          "BE Computer Science",
          "BE Computer Science",
          "BE Computer Science",
          "BE Computer Science",
          "BE Computer Science",
          "BE Computer Science",
          "BE Computer Science",
          "BE Computer Science",
          "BE Computer Science",
          "BE EEE",
          "BE Computer Science",
          "BE Computer Science",
          "BE Computer Science",
          "BE Computer Science",
          "BE Computer Science",
          "BE Computer Science",
          "BE Computer Science",
          "BE Computer Science",
          "BE Computer Science",
          "BE Computer Science",
          "BE Computer Science",
          "BE Computer Science",
          "BE Computer Science",
          "BE Computer Science",
          "BE Computer Science",
          "BE Computer Science",
          "BE Computer Science",
          "BE ECE",
          "BE Computer Science",
          "BE Computer Science",
          "BE Computer Science",
          "BE Computer Science",
          "BE Computer Science",
          "BE Computer Science",
          "BE Computer Science",
          "BE Computer Science",
          "BE Computer Science",
          "BE ENI",
          "BE Mechanical",
          "BE Computer Science",
          "BE Computer Science",
          "BE Computer Science",
          "BE Computer Science",
          "BE Computer Science",
          "BE Computer Science",
          "BE Computer Science",
          "BE Computer Science",
          "BE Computer Science",
          "BE Computer Science",
          "BE ENI",
          "BE ENI",
          "BE ENI",
          "BE ENI",
          "BE ENI",
          "BE ENI",
          "BE ENI",
          "BE ENI",
          "BE ENI",
          "BE ENI",
          "BE ENI",
          "BE ENI",
          "BE ENI",
          "BE ENI",
          "BE ENI",
          "BE ENI",
          "BE ENI",
          "BE ENI",
          "BE ENI",
          "BE ENI",
          "BE ENI",
          "BE ENI",
          "BE ENI",
          "BE ENI",
          "BE ENI",
          "BE ENI",
          "BE ENI",
          "BE ENI",
          "BE ENI",
          "BE ENI",
          "BE ENI",
          "BE ENI",
          "BE ENI",
          "BE ENI",
          "BE ENI",
          "BE ENI",
          "BE ENI",
          "BE ENI",
          "BE ENI",
          "BE ENI",
          "BE ENI",
          "BE ENI",
          "BE ENI",
          "BE ENI",
          "BE ENI",
          "BE ENI",
          "BE ENI",
          "BE ENI",
          "BE ECE",
          "BE ECE",
          "BE ECE",
          "BE ECE",
          "BE ECE",
          "BE ECE",
          "BE ECE",
          "BE ECE",
          "BE ECE",
          "BE ECE",
          "BE ECE",
          "BE ECE",
          "BE ECE",
          "BE ECE",
          "BE ECE",
          "BE ECE",
          "BE ECE",
          "BE ECE",
          "BE ECE",
          "BE ECE",
          "BE ECE",
          "BE ECE",
          "BE ECE",
          "BE ECE",
          "BE ECE",
          "BE ECE",
          "BE ECE",
          "BE ECE",
          "BE ECE",
          "BE ECE",
          "BE ECE",
          "BE ECE",
          "BE ECE",
          "BE ECE",
          "BE ECE",
          "BE ECE",
          "BE ECE",
          "BE ECE",
          "BE ECE",
          "BE ECE",
          "BE ECE",
          "BE ECE",
          "BE ECE",
          "BE ECE",
          "BE ECE",
          "BE ECE",
          "BE ECE",
          "BE ECE",
          "BE ECE",
          "BE ECE",
          "BE ECE",
          "BE ECE",
          "BE ECE",
          "BE ECE",
          "BE ECE",
          "BE ECE",
          "BE ECE",
          "BE ECE",
          "BE ECE",
          "BE ECE",
          "BE ECE",
          "BE ECE",
          "BE ECE",
          "BE ECE",
          "BE ECE",
          "BE ECE",
          "BE ECE",
          "BE ECE",
          "BE ECE",
          "BE ECE",
          "BE ECE",
          "BE ECE",
          "BE ECE",
          "BE ECE",
          "BE ECE",
          "BE ECE",
          "BE ECE",
          "BE ECE",
          "BE ECE",
          "BE ECE",
          "BE ECE",
          "BE ECE",
          "BE ECE",
          "BE ECE",
          "BE ECE",
          "BE ECE",
          "BE ECE",
          "BE ENI",
          "BE EEE",
          "BE ECE",
          "BE ECE",
          "BE ECE",
          "BE ECE",
          "BE ECE",
          "BE ECE",
          "BE ECE",
          "BE ECE",
          "BE ECE",
          "BE ECE",
          "BE ECE",
          "BE ECE",
          "BE ECE",
          "BE ECE",
          "BE Chemical",
          "MSc Economics",
          "MSc Economics",
          "MSc Mathematics",
          "MSc Mathematics",
          "MSc Mathematics",
          "MSc Mathematics",
          "MSc Physics",
          "MSc Physics",
          "BE Pharma",
          "BE Pharma",
          "MSc Biology",
          "MSc Biology",
          "MSc Biology",
          "MSc Biology",
          "MSc Biology",
          "MSc Biology",
          "MSc Biology",
          "MSc Biology",
          "MSc Biology",
          "MSc Biology",
          "MSc Biology",
          "MSc Biology",
          "MSc Biology",
          "MSc Biology",
          "MSc Biology",
          "MSc Biology",
          "MSc Biology",
          "MSc Biology",
          "MSc Biology",
          "MSc Biology",
          "MSc Biology",
          "MSc Biology",
          "MSc Biology",
          "MSc Biology",
          "MSc Biology",
          "MSc Biology",
          "MSc Biology",
          "MSc Biology",
          "MSc Biology",
          "MSc Biology",
          "MSc Biology",
          "MSc Biology",
          "MSc Biology",
          "MSc Biology",
          "MSc Biology",
          "MSc Chemistry",
          "MSc Chemistry",
          "MSc Chemistry",
          "MSc Chemistry",
          "MSc Chemistry",
          "MSc Chemistry",
          "MSc Chemistry",
          "MSc Chemistry",
          "MSc Chemistry",
          "MSc Chemistry",
          "MSc Chemistry",
          "MSc Chemistry",
          "MSc Chemistry",
          "MSc Chemistry",
          "MSc Chemistry",
          "MSc Chemistry",
          "MSc Chemistry",
          "MSc Chemistry",
          "MSc Chemistry",
          "MSc Chemistry",
          "MSc Chemistry",
          "MSc Chemistry",
          "MSc Chemistry",
          "MSc Chemistry",
          "MSc Chemistry",
          "MSc Chemistry",
          "MSc Chemistry",
          "MSc Chemistry",
          "MSc Chemistry",
          "MSc Chemistry",
          "MSc Chemistry",
          "MSc Chemistry",
          "MSc Chemistry",
          "MSc Chemistry",
          "MSc Chemistry",
          "MSc Chemistry",
          "MSc Chemistry",
          "MSc Chemistry",
          "MSc Chemistry",
          "MSc Chemistry",
          "MSc Economics",
          "MSc Economics",
          "MSc Economics",
          "MSc Economics",
          "MSc Economics",
          "MSc Economics",
          "MSc Economics",
          "MSc Economics",
          "MSc Economics",
          "MSc Economics",
          "MSc Economics",
          "MSc Economics",
          "MSc Economics",
          "MSc Economics",
          "MSc Economics",
          "MSc Economics",
          "MSc Economics",
          "MSc Economics",
          "MSc Economics",
          "MSc Economics",
          "MSc Economics",
          "MSc Economics",
          "MSc Economics",
          "MSc Economics",
          "MSc Economics",
          "MSc Economics",
          "MSc Economics",
          "MSc Economics",
          "MSc Economics",
          "MSc Economics",
          "MSc Economics",
          "MSc Economics",
          "MSc Economics",
          "MSc Economics",
          "MSc Economics",
          "MSc Economics",
          "MSc Economics",
          "MSc Economics",
          "MSc Economics",
          "MSc Economics",
          "MSc Economics",
          "MSc Economics",
          "MSc Economics",
          "MSc Economics",
          "MSc Economics",
          "MSc Economics",
          "MSc Economics",
          "MSc Economics",
          "MSc Economics",
          "MSc Economics",
          "MSc Economics",
          "MSc Economics",
          "MSc Physics",
          "MSc Physics",
          "MSc Economics",
          "MSc Economics",
          "MSc Economics",
          "MSc Economics",
          "MSc Economics",
          "MSc Economics",
          "MSc Economics",
          "MSc Economics",
          "MSc Economics",
          "MSc Economics",
          "MSc Economics",
          "MSc Economics",
          "MSc Economics",
          "MSc Economics",
          "MSc Economics",
          "MSc Economics",
          "MSc Economics",
          "MSc Economics",
          "MSc Economics",
          "MSc Economics",
          "MSc Economics",
          "MSc Economics",
          "MSc Mathematics",
          "MSc Mathematics",
          "MSc Mathematics",
          "MSc Mathematics",
          "MSc Mathematics",
          "MSc Mathematics",
          "MSc Mathematics",
          "MSc Mathematics",
          "MSc Mathematics",
          "MSc Mathematics",
          "MSc Mathematics",
          "MSc Mathematics",
          "MSc Mathematics",
          "MSc Mathematics",
          "MSc Mathematics",
          "MSc Mathematics",
          "MSc Mathematics",
          "MSc Mathematics",
          "MSc Mathematics",
          "MSc Mathematics",
          "MSc Mathematics",
          "MSc Mathematics",
          "MSc Mathematics",
          "MSc Mathematics",
          "MSc Mathematics",
          "MSc Mathematics",
          "MSc Mathematics",
          "MSc Mathematics",
          "MSc Mathematics",
          "MSc Mathematics",
          "MSc Mathematics",
          "MSc Mathematics",
          "MSc Mathematics",
          "MSc Mathematics",
          "MSc Mathematics",
          "MSc Mathematics",
          "MSc Mathematics",
          "MSc Biology",
          "MSc Chemistry",
          "MSc Mathematics",
          "MSc Mathematics",
          "MSc Mathematics",
          "MSc Chemistry",
          "MSc Mathematics",
          "MSc Mathematics",
          "MSc Mathematics",
          "MSc Mathematics",
          "MSc Mathematics",
          "MSc Mathematics",
          "MSc Chemistry",
          "MSc Mathematics",
          "MSc Mathematics",
          "MSc Mathematics",
          "MSc Mathematics",
          "MSc Mathematics",
          "MSc Mathematics",
          "MSc Mathematics",
          "MSc Mathematics",
          "MSc Mathematics",
          "MSc Mathematics",
          "MSc Mathematics",
          "MSc Mathematics",
          "MSc Mathematics",
          "MSc Mathematics",
          "MSc Mathematics",
          "MSc Mathematics",
          "MSc Mathematics",
          "MSc Mathematics",
          "MSc Mathematics",
          "MSc Mathematics",
          "MSc Mathematics",
          "MSc Mathematics",
          "MSc Mathematics",
          "MSc Physics",
          "MSc Physics",
          "MSc Physics",
          "MSc Physics",
          "MSc Physics",
          "MSc Physics",
          "MSc Physics",
          "MSc Physics",
          "MSc Physics",
          "MSc Physics",
          "MSc Physics",
          "MSc Physics",
          "MSc Physics",
          "MSc Physics",
          "MSc Physics",
          "MSc Physics",
          "MSc Physics",
          "MSc Physics",
          "MSc Physics",
          "MSc Physics",
          "MSc Physics",
          "MSc Physics",
          "MSc Physics",
          "MSc Physics",
          "MSc Physics",
          "MSc Physics",
          "MSc Physics",
          "MSc Physics",
          "MSc Physics",
          "MSc Physics",
          "MSc Physics",
          "MSc Physics",
          "MSc Physics",
          "MSc Biology",
          "MSc Physics",
          "MSc Physics",
          "MSc Physics",
          "MSc Physics",
          "MSc Physics",
          "MSc Physics",
          "MSc Physics",
          "MSc Physics",
          "MSc Physics",
          "MSc Physics",
          "MSc Physics",
          "MSc Physics",
          "MSc Physics",
          "MSc Physics"
         ],
         "legendgroup": "",
         "name": "",
         "showlegend": true,
         "type": "pie"
        }
       ],
       "layout": {
        "legend": {
         "tracegroupgap": 0
        },
        "margin": {
         "t": 60
        },
        "template": {
         "data": {
          "bar": [
           {
            "error_x": {
             "color": "#2a3f5f"
            },
            "error_y": {
             "color": "#2a3f5f"
            },
            "marker": {
             "line": {
              "color": "#E5ECF6",
              "width": 0.5
             },
             "pattern": {
              "fillmode": "overlay",
              "size": 10,
              "solidity": 0.2
             }
            },
            "type": "bar"
           }
          ],
          "barpolar": [
           {
            "marker": {
             "line": {
              "color": "#E5ECF6",
              "width": 0.5
             },
             "pattern": {
              "fillmode": "overlay",
              "size": 10,
              "solidity": 0.2
             }
            },
            "type": "barpolar"
           }
          ],
          "carpet": [
           {
            "aaxis": {
             "endlinecolor": "#2a3f5f",
             "gridcolor": "white",
             "linecolor": "white",
             "minorgridcolor": "white",
             "startlinecolor": "#2a3f5f"
            },
            "baxis": {
             "endlinecolor": "#2a3f5f",
             "gridcolor": "white",
             "linecolor": "white",
             "minorgridcolor": "white",
             "startlinecolor": "#2a3f5f"
            },
            "type": "carpet"
           }
          ],
          "choropleth": [
           {
            "colorbar": {
             "outlinewidth": 0,
             "ticks": ""
            },
            "type": "choropleth"
           }
          ],
          "contour": [
           {
            "colorbar": {
             "outlinewidth": 0,
             "ticks": ""
            },
            "colorscale": [
             [
              0,
              "#0d0887"
             ],
             [
              0.1111111111111111,
              "#46039f"
             ],
             [
              0.2222222222222222,
              "#7201a8"
             ],
             [
              0.3333333333333333,
              "#9c179e"
             ],
             [
              0.4444444444444444,
              "#bd3786"
             ],
             [
              0.5555555555555556,
              "#d8576b"
             ],
             [
              0.6666666666666666,
              "#ed7953"
             ],
             [
              0.7777777777777778,
              "#fb9f3a"
             ],
             [
              0.8888888888888888,
              "#fdca26"
             ],
             [
              1,
              "#f0f921"
             ]
            ],
            "type": "contour"
           }
          ],
          "contourcarpet": [
           {
            "colorbar": {
             "outlinewidth": 0,
             "ticks": ""
            },
            "type": "contourcarpet"
           }
          ],
          "heatmap": [
           {
            "colorbar": {
             "outlinewidth": 0,
             "ticks": ""
            },
            "colorscale": [
             [
              0,
              "#0d0887"
             ],
             [
              0.1111111111111111,
              "#46039f"
             ],
             [
              0.2222222222222222,
              "#7201a8"
             ],
             [
              0.3333333333333333,
              "#9c179e"
             ],
             [
              0.4444444444444444,
              "#bd3786"
             ],
             [
              0.5555555555555556,
              "#d8576b"
             ],
             [
              0.6666666666666666,
              "#ed7953"
             ],
             [
              0.7777777777777778,
              "#fb9f3a"
             ],
             [
              0.8888888888888888,
              "#fdca26"
             ],
             [
              1,
              "#f0f921"
             ]
            ],
            "type": "heatmap"
           }
          ],
          "heatmapgl": [
           {
            "colorbar": {
             "outlinewidth": 0,
             "ticks": ""
            },
            "colorscale": [
             [
              0,
              "#0d0887"
             ],
             [
              0.1111111111111111,
              "#46039f"
             ],
             [
              0.2222222222222222,
              "#7201a8"
             ],
             [
              0.3333333333333333,
              "#9c179e"
             ],
             [
              0.4444444444444444,
              "#bd3786"
             ],
             [
              0.5555555555555556,
              "#d8576b"
             ],
             [
              0.6666666666666666,
              "#ed7953"
             ],
             [
              0.7777777777777778,
              "#fb9f3a"
             ],
             [
              0.8888888888888888,
              "#fdca26"
             ],
             [
              1,
              "#f0f921"
             ]
            ],
            "type": "heatmapgl"
           }
          ],
          "histogram": [
           {
            "marker": {
             "pattern": {
              "fillmode": "overlay",
              "size": 10,
              "solidity": 0.2
             }
            },
            "type": "histogram"
           }
          ],
          "histogram2d": [
           {
            "colorbar": {
             "outlinewidth": 0,
             "ticks": ""
            },
            "colorscale": [
             [
              0,
              "#0d0887"
             ],
             [
              0.1111111111111111,
              "#46039f"
             ],
             [
              0.2222222222222222,
              "#7201a8"
             ],
             [
              0.3333333333333333,
              "#9c179e"
             ],
             [
              0.4444444444444444,
              "#bd3786"
             ],
             [
              0.5555555555555556,
              "#d8576b"
             ],
             [
              0.6666666666666666,
              "#ed7953"
             ],
             [
              0.7777777777777778,
              "#fb9f3a"
             ],
             [
              0.8888888888888888,
              "#fdca26"
             ],
             [
              1,
              "#f0f921"
             ]
            ],
            "type": "histogram2d"
           }
          ],
          "histogram2dcontour": [
           {
            "colorbar": {
             "outlinewidth": 0,
             "ticks": ""
            },
            "colorscale": [
             [
              0,
              "#0d0887"
             ],
             [
              0.1111111111111111,
              "#46039f"
             ],
             [
              0.2222222222222222,
              "#7201a8"
             ],
             [
              0.3333333333333333,
              "#9c179e"
             ],
             [
              0.4444444444444444,
              "#bd3786"
             ],
             [
              0.5555555555555556,
              "#d8576b"
             ],
             [
              0.6666666666666666,
              "#ed7953"
             ],
             [
              0.7777777777777778,
              "#fb9f3a"
             ],
             [
              0.8888888888888888,
              "#fdca26"
             ],
             [
              1,
              "#f0f921"
             ]
            ],
            "type": "histogram2dcontour"
           }
          ],
          "mesh3d": [
           {
            "colorbar": {
             "outlinewidth": 0,
             "ticks": ""
            },
            "type": "mesh3d"
           }
          ],
          "parcoords": [
           {
            "line": {
             "colorbar": {
              "outlinewidth": 0,
              "ticks": ""
             }
            },
            "type": "parcoords"
           }
          ],
          "pie": [
           {
            "automargin": true,
            "type": "pie"
           }
          ],
          "scatter": [
           {
            "fillpattern": {
             "fillmode": "overlay",
             "size": 10,
             "solidity": 0.2
            },
            "type": "scatter"
           }
          ],
          "scatter3d": [
           {
            "line": {
             "colorbar": {
              "outlinewidth": 0,
              "ticks": ""
             }
            },
            "marker": {
             "colorbar": {
              "outlinewidth": 0,
              "ticks": ""
             }
            },
            "type": "scatter3d"
           }
          ],
          "scattercarpet": [
           {
            "marker": {
             "colorbar": {
              "outlinewidth": 0,
              "ticks": ""
             }
            },
            "type": "scattercarpet"
           }
          ],
          "scattergeo": [
           {
            "marker": {
             "colorbar": {
              "outlinewidth": 0,
              "ticks": ""
             }
            },
            "type": "scattergeo"
           }
          ],
          "scattergl": [
           {
            "marker": {
             "colorbar": {
              "outlinewidth": 0,
              "ticks": ""
             }
            },
            "type": "scattergl"
           }
          ],
          "scattermapbox": [
           {
            "marker": {
             "colorbar": {
              "outlinewidth": 0,
              "ticks": ""
             }
            },
            "type": "scattermapbox"
           }
          ],
          "scatterpolar": [
           {
            "marker": {
             "colorbar": {
              "outlinewidth": 0,
              "ticks": ""
             }
            },
            "type": "scatterpolar"
           }
          ],
          "scatterpolargl": [
           {
            "marker": {
             "colorbar": {
              "outlinewidth": 0,
              "ticks": ""
             }
            },
            "type": "scatterpolargl"
           }
          ],
          "scatterternary": [
           {
            "marker": {
             "colorbar": {
              "outlinewidth": 0,
              "ticks": ""
             }
            },
            "type": "scatterternary"
           }
          ],
          "surface": [
           {
            "colorbar": {
             "outlinewidth": 0,
             "ticks": ""
            },
            "colorscale": [
             [
              0,
              "#0d0887"
             ],
             [
              0.1111111111111111,
              "#46039f"
             ],
             [
              0.2222222222222222,
              "#7201a8"
             ],
             [
              0.3333333333333333,
              "#9c179e"
             ],
             [
              0.4444444444444444,
              "#bd3786"
             ],
             [
              0.5555555555555556,
              "#d8576b"
             ],
             [
              0.6666666666666666,
              "#ed7953"
             ],
             [
              0.7777777777777778,
              "#fb9f3a"
             ],
             [
              0.8888888888888888,
              "#fdca26"
             ],
             [
              1,
              "#f0f921"
             ]
            ],
            "type": "surface"
           }
          ],
          "table": [
           {
            "cells": {
             "fill": {
              "color": "#EBF0F8"
             },
             "line": {
              "color": "white"
             }
            },
            "header": {
             "fill": {
              "color": "#C8D4E3"
             },
             "line": {
              "color": "white"
             }
            },
            "type": "table"
           }
          ]
         },
         "layout": {
          "annotationdefaults": {
           "arrowcolor": "#2a3f5f",
           "arrowhead": 0,
           "arrowwidth": 1
          },
          "autotypenumbers": "strict",
          "coloraxis": {
           "colorbar": {
            "outlinewidth": 0,
            "ticks": ""
           }
          },
          "colorscale": {
           "diverging": [
            [
             0,
             "#8e0152"
            ],
            [
             0.1,
             "#c51b7d"
            ],
            [
             0.2,
             "#de77ae"
            ],
            [
             0.3,
             "#f1b6da"
            ],
            [
             0.4,
             "#fde0ef"
            ],
            [
             0.5,
             "#f7f7f7"
            ],
            [
             0.6,
             "#e6f5d0"
            ],
            [
             0.7,
             "#b8e186"
            ],
            [
             0.8,
             "#7fbc41"
            ],
            [
             0.9,
             "#4d9221"
            ],
            [
             1,
             "#276419"
            ]
           ],
           "sequential": [
            [
             0,
             "#0d0887"
            ],
            [
             0.1111111111111111,
             "#46039f"
            ],
            [
             0.2222222222222222,
             "#7201a8"
            ],
            [
             0.3333333333333333,
             "#9c179e"
            ],
            [
             0.4444444444444444,
             "#bd3786"
            ],
            [
             0.5555555555555556,
             "#d8576b"
            ],
            [
             0.6666666666666666,
             "#ed7953"
            ],
            [
             0.7777777777777778,
             "#fb9f3a"
            ],
            [
             0.8888888888888888,
             "#fdca26"
            ],
            [
             1,
             "#f0f921"
            ]
           ],
           "sequentialminus": [
            [
             0,
             "#0d0887"
            ],
            [
             0.1111111111111111,
             "#46039f"
            ],
            [
             0.2222222222222222,
             "#7201a8"
            ],
            [
             0.3333333333333333,
             "#9c179e"
            ],
            [
             0.4444444444444444,
             "#bd3786"
            ],
            [
             0.5555555555555556,
             "#d8576b"
            ],
            [
             0.6666666666666666,
             "#ed7953"
            ],
            [
             0.7777777777777778,
             "#fb9f3a"
            ],
            [
             0.8888888888888888,
             "#fdca26"
            ],
            [
             1,
             "#f0f921"
            ]
           ]
          },
          "colorway": [
           "#636efa",
           "#EF553B",
           "#00cc96",
           "#ab63fa",
           "#FFA15A",
           "#19d3f3",
           "#FF6692",
           "#B6E880",
           "#FF97FF",
           "#FECB52"
          ],
          "font": {
           "color": "#2a3f5f"
          },
          "geo": {
           "bgcolor": "white",
           "lakecolor": "white",
           "landcolor": "#E5ECF6",
           "showlakes": true,
           "showland": true,
           "subunitcolor": "white"
          },
          "hoverlabel": {
           "align": "left"
          },
          "hovermode": "closest",
          "mapbox": {
           "style": "light"
          },
          "paper_bgcolor": "white",
          "plot_bgcolor": "#E5ECF6",
          "polar": {
           "angularaxis": {
            "gridcolor": "white",
            "linecolor": "white",
            "ticks": ""
           },
           "bgcolor": "#E5ECF6",
           "radialaxis": {
            "gridcolor": "white",
            "linecolor": "white",
            "ticks": ""
           }
          },
          "scene": {
           "xaxis": {
            "backgroundcolor": "#E5ECF6",
            "gridcolor": "white",
            "gridwidth": 2,
            "linecolor": "white",
            "showbackground": true,
            "ticks": "",
            "zerolinecolor": "white"
           },
           "yaxis": {
            "backgroundcolor": "#E5ECF6",
            "gridcolor": "white",
            "gridwidth": 2,
            "linecolor": "white",
            "showbackground": true,
            "ticks": "",
            "zerolinecolor": "white"
           },
           "zaxis": {
            "backgroundcolor": "#E5ECF6",
            "gridcolor": "white",
            "gridwidth": 2,
            "linecolor": "white",
            "showbackground": true,
            "ticks": "",
            "zerolinecolor": "white"
           }
          },
          "shapedefaults": {
           "line": {
            "color": "#2a3f5f"
           }
          },
          "ternary": {
           "aaxis": {
            "gridcolor": "white",
            "linecolor": "white",
            "ticks": ""
           },
           "baxis": {
            "gridcolor": "white",
            "linecolor": "white",
            "ticks": ""
           },
           "bgcolor": "#E5ECF6",
           "caxis": {
            "gridcolor": "white",
            "linecolor": "white",
            "ticks": ""
           }
          },
          "title": {
           "x": 0.05
          },
          "xaxis": {
           "automargin": true,
           "gridcolor": "white",
           "linecolor": "white",
           "ticks": "",
           "title": {
            "standoff": 15
           },
           "zerolinecolor": "white",
           "zerolinewidth": 2
          },
          "yaxis": {
           "automargin": true,
           "gridcolor": "white",
           "linecolor": "white",
           "ticks": "",
           "title": {
            "standoff": 15
           },
           "zerolinecolor": "white",
           "zerolinewidth": 2
          }
         }
        },
        "title": {
         "text": "Number of students per Branch"
        }
       }
      }
     },
     "metadata": {},
     "output_type": "display_data"
    }
   ],
   "source": [
    "# Function to plot branch population distribution\n",
    "def students_per_branch(df):\n",
    "    fig = px.pie(df,names=df.Branch)\n",
    "    \n",
    "    # Custom hover template and title\n",
    "    fig.update_traces(hovertemplate ='Branch: %{label}'+'<br>Number of students: %{value}<br><extra></extra>')\n",
    "    fig.update_layout(title=\"Number of students per Branch\")\n",
    "    fig.show()\n",
    "students_per_branch(df)"
   ]
  },
  {
   "cell_type": "code",
   "execution_count": 6,
   "metadata": {},
   "outputs": [
    {
     "data": {
      "application/vnd.plotly.v1+json": {
       "config": {
        "plotlyServerURL": "https://plot.ly"
       },
       "data": [
        {
         "alignmentgroup": "True",
         "bingroup": "x",
         "histfunc": "avg",
         "hovertemplate": "Gender=MALE<br>Branch=%{x}<br>avg of CGPA=%{y}<extra></extra>",
         "legendgroup": "MALE",
         "marker": {
          "color": "#636efa",
          "pattern": {
           "shape": ""
          }
         },
         "name": "MALE",
         "offsetgroup": "MALE",
         "orientation": "v",
         "showlegend": true,
         "type": "histogram",
         "x": [
          "BE Chemical",
          "BE Chemical",
          "BE Chemical",
          "BE Chemical",
          "BE Chemical",
          "BE Chemical",
          "BE Chemical",
          "BE Chemical",
          "BE Chemical",
          "BE Chemical",
          "BE Chemical",
          "BE Chemical",
          "BE Chemical",
          "BE Chemical",
          "BE Chemical",
          "BE Chemical",
          "BE Chemical",
          "BE Chemical",
          "BE Chemical",
          "BE Chemical",
          "BE Chemical",
          "BE Chemical",
          "BE Chemical",
          "BE Chemical",
          "BE Chemical",
          "BE Chemical",
          "BE Chemical",
          "BE Chemical",
          "BE Chemical",
          "BE Chemical",
          "BE Chemical",
          "BE Chemical",
          "BE Chemical",
          "BE Chemical",
          "BE Chemical",
          "BE Chemical",
          "BE Chemical",
          "BE Chemical",
          "BE Chemical",
          "BE Chemical",
          "BE Chemical",
          "BE Civil",
          "BE Civil",
          "BE Civil",
          "BE Civil",
          "BE Civil",
          "BE Civil",
          "BE Civil",
          "BE Civil",
          "BE Civil",
          "BE Civil",
          "BE Civil",
          "BE Civil",
          "BE Civil",
          "BE Civil",
          "BE Civil",
          "BE Civil",
          "BE Civil",
          "BE Civil",
          "BE Civil",
          "BE Civil",
          "BE Civil",
          "BE Civil",
          "BE Civil",
          "BE Civil",
          "BE Civil",
          "BE Civil",
          "BE Civil",
          "BE Civil",
          "BE Civil",
          "BE Civil",
          "BE Civil",
          "BE Civil",
          "BE Civil",
          "BE Civil",
          "BE Civil",
          "BE Civil",
          "BE Civil",
          "BE Civil",
          "BE Civil",
          "BE Civil",
          "BE Civil",
          "BE Civil",
          "BE Civil",
          "BE Civil",
          "BE Civil",
          "BE Civil",
          "BE Civil",
          "BE Civil",
          "BE Civil",
          "BE Civil",
          "BE EEE",
          "BE EEE",
          "BE EEE",
          "BE EEE",
          "BE EEE",
          "BE EEE",
          "BE EEE",
          "BE EEE",
          "BE EEE",
          "BE EEE",
          "BE ENI",
          "BE EEE",
          "BE EEE",
          "BE EEE",
          "BE EEE",
          "BE EEE",
          "BE EEE",
          "BE EEE",
          "BE EEE",
          "BE EEE",
          "BE EEE",
          "BE EEE",
          "BE EEE",
          "BE EEE",
          "BE EEE",
          "BE EEE",
          "BE EEE",
          "BE EEE",
          "BE EEE",
          "BE EEE",
          "BE EEE",
          "BE EEE",
          "BE EEE",
          "BE EEE",
          "BE EEE",
          "BE EEE",
          "BE EEE",
          "BE EEE",
          "BE EEE",
          "BE EEE",
          "BE EEE",
          "BE EEE",
          "BE EEE",
          "BE EEE",
          "BE EEE",
          "BE Mechanical",
          "BE EEE",
          "BE EEE",
          "BE EEE",
          "BE EEE",
          "BE EEE",
          "BE EEE",
          "BE EEE",
          "BE EEE",
          "BE EEE",
          "BE EEE",
          "BE EEE",
          "BE EEE",
          "BE EEE",
          "BE EEE",
          "BE EEE",
          "BE EEE",
          "BE EEE",
          "BE EEE",
          "BE EEE",
          "BE EEE",
          "BE EEE",
          "BE EEE",
          "BE EEE",
          "BE EEE",
          "BE EEE",
          "BE EEE",
          "BE EEE",
          "BE EEE",
          "BE EEE",
          "BE Chemical",
          "BE EEE",
          "BE EEE",
          "BE EEE",
          "BE EEE",
          "BE EEE",
          "BE EEE",
          "BE EEE",
          "BE EEE",
          "BE EEE",
          "BE EEE",
          "BE EEE",
          "BE Mechanical",
          "BE Mechanical",
          "BE Mechanical",
          "BE Mechanical",
          "BE Mechanical",
          "BE Mechanical",
          "BE Mechanical",
          "BE Mechanical",
          "BE Mechanical",
          "BE Mechanical",
          "BE Mechanical",
          "BE Mechanical",
          "BE Mechanical",
          "BE Mechanical",
          "BE Mechanical",
          "BE Mechanical",
          "BE Mechanical",
          "BE Mechanical",
          "BE Mechanical",
          "BE Mechanical",
          "BE Mechanical",
          "BE Mechanical",
          "BE Mechanical",
          "BE Mechanical",
          "BE Mechanical",
          "BE Mechanical",
          "BE Mechanical",
          "BE Mechanical",
          "BE Mechanical",
          "BE Mechanical",
          "BE Mechanical",
          "BE Mechanical",
          "BE Mechanical",
          "BE Mechanical",
          "BE Mechanical",
          "BE Mechanical",
          "BE Mechanical",
          "BE Mechanical",
          "BE Mechanical",
          "BE Mechanical",
          "BE Mechanical",
          "BE Mechanical",
          "BE Mechanical",
          "BE Mechanical",
          "BE Mechanical",
          "BE Mechanical",
          "BE Mechanical",
          "BE Mechanical",
          "BE Mechanical",
          "BE Mechanical",
          "BE Mechanical",
          "BE Mechanical",
          "BE Mechanical",
          "BE Mechanical",
          "BE Mechanical",
          "BE Mechanical",
          "BE Mechanical",
          "BE Mechanical",
          "BE Mechanical",
          "BE Mechanical",
          "BE Mechanical",
          "BE Mechanical",
          "BE Mechanical",
          "BE Mechanical",
          "BE Mechanical",
          "BE Mechanical",
          "BE Mechanical",
          "BE Mechanical",
          "BE Mechanical",
          "BE Mechanical",
          "BE Mechanical",
          "BE Mechanical",
          "BE Mechanical",
          "BE Mechanical",
          "BE Mechanical",
          "BE Mechanical",
          "BE Mechanical",
          "BE Mechanical",
          "BE Mechanical",
          "BE Mechanical",
          "BE Mechanical",
          "BE Mechanical",
          "BE Mechanical",
          "BE Mechanical",
          "BE Mechanical",
          "BE Mechanical",
          "BE Mechanical",
          "BE Mechanical",
          "BE Mechanical",
          "BE Mechanical",
          "BE Mechanical",
          "BE Mechanical",
          "BE Mechanical",
          "BE Mechanical",
          "BE Mechanical",
          "BE Mechanical",
          "BE Mechanical",
          "BE Mechanical",
          "BE Mechanical",
          "BE Mechanical",
          "BE Mechanical",
          "BE Mechanical",
          "BE Mechanical",
          "BE Mechanical",
          "BE Mechanical",
          "BE Mechanical",
          "BE Mechanical",
          "BE Pharma",
          "BE Pharma",
          "BE Pharma",
          "BE Pharma",
          "BE Pharma",
          "BE Pharma",
          "BE Pharma",
          "BE Pharma",
          "BE Pharma",
          "BE Pharma",
          "BE Pharma",
          "BE Pharma",
          "BE Pharma",
          "BE Pharma",
          "BE Computer Science",
          "BE Computer Science",
          "BE Computer Science",
          "BE Computer Science",
          "BE Computer Science",
          "BE Computer Science",
          "BE Civil",
          "BE Computer Science",
          "BE Computer Science",
          "BE Computer Science",
          "BE Computer Science",
          "BE Computer Science",
          "BE Computer Science",
          "BE Computer Science",
          "BE Computer Science",
          "BE Computer Science",
          "BE Computer Science",
          "BE Computer Science",
          "BE Computer Science",
          "BE Computer Science",
          "BE Computer Science",
          "BE Computer Science",
          "BE Computer Science",
          "BE Computer Science",
          "BE Computer Science",
          "BE Computer Science",
          "BE Computer Science",
          "BE Computer Science",
          "BE Computer Science",
          "BE Computer Science",
          "BE Computer Science",
          "BE Computer Science",
          "BE Computer Science",
          "BE Computer Science",
          "BE Computer Science",
          "BE Computer Science",
          "BE Computer Science",
          "BE Computer Science",
          "BE Computer Science",
          "BE Computer Science",
          "BE Computer Science",
          "BE Computer Science",
          "BE Computer Science",
          "BE Computer Science",
          "BE Computer Science",
          "BE Computer Science",
          "BE Computer Science",
          "BE Computer Science",
          "BE Computer Science",
          "BE Computer Science",
          "BE Computer Science",
          "BE Computer Science",
          "BE Computer Science",
          "BE Computer Science",
          "BE Computer Science",
          "BE Computer Science",
          "BE Computer Science",
          "BE Computer Science",
          "BE Computer Science",
          "BE Computer Science",
          "BE Computer Science",
          "BE Computer Science",
          "BE Computer Science",
          "BE Computer Science",
          "BE Computer Science",
          "BE Computer Science",
          "BE Computer Science",
          "BE Computer Science",
          "BE Computer Science",
          "BE Computer Science",
          "BE Computer Science",
          "BE Computer Science",
          "BE Computer Science",
          "BE Computer Science",
          "BE Computer Science",
          "BE Computer Science",
          "BE Computer Science",
          "BE Computer Science",
          "BE Computer Science",
          "BE Computer Science",
          "BE Computer Science",
          "BE Computer Science",
          "BE Computer Science",
          "BE Computer Science",
          "BE Computer Science",
          "BE Computer Science",
          "BE Computer Science",
          "BE Computer Science",
          "BE Computer Science",
          "BE Computer Science",
          "BE Computer Science",
          "BE Computer Science",
          "BE Computer Science",
          "BE Computer Science",
          "BE Computer Science",
          "BE Computer Science",
          "BE Computer Science",
          "BE Computer Science",
          "BE Computer Science",
          "BE Computer Science",
          "BE Computer Science",
          "BE Computer Science",
          "BE Computer Science",
          "BE Computer Science",
          "BE Computer Science",
          "BE Computer Science",
          "BE Computer Science",
          "BE Computer Science",
          "BE Computer Science",
          "BE Computer Science",
          "BE Computer Science",
          "BE Computer Science",
          "BE Computer Science",
          "BE Computer Science",
          "BE Computer Science",
          "BE Computer Science",
          "BE Computer Science",
          "BE Computer Science",
          "BE Computer Science",
          "BE Computer Science",
          "BE Computer Science",
          "BE Computer Science",
          "BE Computer Science",
          "BE Computer Science",
          "BE Computer Science",
          "BE Computer Science",
          "BE Computer Science",
          "BE Computer Science",
          "BE Computer Science",
          "BE Computer Science",
          "BE Computer Science",
          "BE Computer Science",
          "BE Computer Science",
          "BE Computer Science",
          "BE Computer Science",
          "BE Computer Science",
          "BE Computer Science",
          "BE Computer Science",
          "BE Computer Science",
          "BE Computer Science",
          "BE Computer Science",
          "BE Computer Science",
          "BE Computer Science",
          "BE Computer Science",
          "BE ENI",
          "BE Mechanical",
          "BE Computer Science",
          "BE Computer Science",
          "BE Computer Science",
          "BE Computer Science",
          "BE Computer Science",
          "BE Computer Science",
          "BE Computer Science",
          "BE Computer Science",
          "BE Computer Science",
          "BE ENI",
          "BE ENI",
          "BE ENI",
          "BE ENI",
          "BE ENI",
          "BE ENI",
          "BE ENI",
          "BE ENI",
          "BE ENI",
          "BE ENI",
          "BE ENI",
          "BE ENI",
          "BE ENI",
          "BE ENI",
          "BE ENI",
          "BE ENI",
          "BE ENI",
          "BE ENI",
          "BE ENI",
          "BE ENI",
          "BE ENI",
          "BE ENI",
          "BE ENI",
          "BE ENI",
          "BE ENI",
          "BE ENI",
          "BE ENI",
          "BE ENI",
          "BE ENI",
          "BE ENI",
          "BE ENI",
          "BE ENI",
          "BE ENI",
          "BE ENI",
          "BE ENI",
          "BE ENI",
          "BE ENI",
          "BE ENI",
          "BE ECE",
          "BE ECE",
          "BE ECE",
          "BE ECE",
          "BE ECE",
          "BE ECE",
          "BE ECE",
          "BE ECE",
          "BE ECE",
          "BE ECE",
          "BE ECE",
          "BE ECE",
          "BE ECE",
          "BE ECE",
          "BE ECE",
          "BE ECE",
          "BE ECE",
          "BE ECE",
          "BE ECE",
          "BE ECE",
          "BE ECE",
          "BE ECE",
          "BE ECE",
          "BE ECE",
          "BE ECE",
          "BE ECE",
          "BE ECE",
          "BE ECE",
          "BE ECE",
          "BE ECE",
          "BE ECE",
          "BE ECE",
          "BE ECE",
          "BE ECE",
          "BE ECE",
          "BE ECE",
          "BE ECE",
          "BE ECE",
          "BE ECE",
          "BE ECE",
          "BE ECE",
          "BE ECE",
          "BE ECE",
          "BE ECE",
          "BE ECE",
          "BE ECE",
          "BE ECE",
          "BE ECE",
          "BE ECE",
          "BE ECE",
          "BE ECE",
          "BE ECE",
          "BE ECE",
          "BE ECE",
          "BE ECE",
          "BE ECE",
          "BE ECE",
          "BE ECE",
          "BE ECE",
          "BE ECE",
          "BE ECE",
          "BE ECE",
          "BE ECE",
          "BE ECE",
          "BE ECE",
          "BE ECE",
          "BE ECE",
          "BE ECE",
          "BE ECE",
          "BE ECE",
          "BE ECE",
          "BE ECE",
          "BE ECE",
          "BE ECE",
          "BE ECE",
          "BE ECE",
          "BE ENI",
          "BE EEE",
          "BE ECE",
          "BE ECE",
          "BE ECE",
          "BE ECE",
          "BE ECE",
          "BE ECE",
          "BE ECE",
          "BE ECE",
          "BE ECE",
          "BE ECE",
          "BE Chemical",
          "MSc Economics",
          "MSc Mathematics",
          "MSc Mathematics",
          "MSc Mathematics",
          "MSc Physics",
          "MSc Physics",
          "BE Pharma",
          "MSc Biology",
          "MSc Biology",
          "MSc Biology",
          "MSc Biology",
          "MSc Biology",
          "MSc Biology",
          "MSc Biology",
          "MSc Biology",
          "MSc Biology",
          "MSc Biology",
          "MSc Biology",
          "MSc Biology",
          "MSc Biology",
          "MSc Biology",
          "MSc Biology",
          "MSc Biology",
          "MSc Biology",
          "MSc Biology",
          "MSc Biology",
          "MSc Biology",
          "MSc Biology",
          "MSc Biology",
          "MSc Biology",
          "MSc Biology",
          "MSc Biology",
          "MSc Biology",
          "MSc Biology",
          "MSc Biology",
          "MSc Biology",
          "MSc Biology",
          "MSc Chemistry",
          "MSc Chemistry",
          "MSc Chemistry",
          "MSc Chemistry",
          "MSc Chemistry",
          "MSc Chemistry",
          "MSc Chemistry",
          "MSc Chemistry",
          "MSc Chemistry",
          "MSc Chemistry",
          "MSc Chemistry",
          "MSc Chemistry",
          "MSc Chemistry",
          "MSc Chemistry",
          "MSc Chemistry",
          "MSc Chemistry",
          "MSc Chemistry",
          "MSc Chemistry",
          "MSc Chemistry",
          "MSc Chemistry",
          "MSc Chemistry",
          "MSc Chemistry",
          "MSc Chemistry",
          "MSc Chemistry",
          "MSc Chemistry",
          "MSc Chemistry",
          "MSc Chemistry",
          "MSc Chemistry",
          "MSc Economics",
          "MSc Economics",
          "MSc Economics",
          "MSc Economics",
          "MSc Economics",
          "MSc Economics",
          "MSc Economics",
          "MSc Economics",
          "MSc Economics",
          "MSc Economics",
          "MSc Economics",
          "MSc Economics",
          "MSc Economics",
          "MSc Economics",
          "MSc Economics",
          "MSc Economics",
          "MSc Economics",
          "MSc Economics",
          "MSc Economics",
          "MSc Economics",
          "MSc Economics",
          "MSc Economics",
          "MSc Economics",
          "MSc Economics",
          "MSc Economics",
          "MSc Economics",
          "MSc Economics",
          "MSc Economics",
          "MSc Economics",
          "MSc Economics",
          "MSc Economics",
          "MSc Economics",
          "MSc Economics",
          "MSc Economics",
          "MSc Economics",
          "MSc Economics",
          "MSc Economics",
          "MSc Economics",
          "MSc Economics",
          "MSc Economics",
          "MSc Economics",
          "MSc Economics",
          "MSc Physics",
          "MSc Physics",
          "MSc Economics",
          "MSc Economics",
          "MSc Economics",
          "MSc Economics",
          "MSc Economics",
          "MSc Economics",
          "MSc Economics",
          "MSc Economics",
          "MSc Economics",
          "MSc Economics",
          "MSc Economics",
          "MSc Economics",
          "MSc Economics",
          "MSc Economics",
          "MSc Economics",
          "MSc Economics",
          "MSc Economics",
          "MSc Economics",
          "MSc Mathematics",
          "MSc Mathematics",
          "MSc Mathematics",
          "MSc Mathematics",
          "MSc Mathematics",
          "MSc Mathematics",
          "MSc Mathematics",
          "MSc Mathematics",
          "MSc Mathematics",
          "MSc Mathematics",
          "MSc Mathematics",
          "MSc Mathematics",
          "MSc Mathematics",
          "MSc Mathematics",
          "MSc Mathematics",
          "MSc Mathematics",
          "MSc Mathematics",
          "MSc Mathematics",
          "MSc Mathematics",
          "MSc Mathematics",
          "MSc Mathematics",
          "MSc Mathematics",
          "MSc Mathematics",
          "MSc Mathematics",
          "MSc Mathematics",
          "MSc Mathematics",
          "MSc Mathematics",
          "MSc Mathematics",
          "MSc Mathematics",
          "MSc Mathematics",
          "MSc Mathematics",
          "MSc Mathematics",
          "MSc Mathematics",
          "MSc Mathematics",
          "MSc Mathematics",
          "MSc Chemistry",
          "MSc Mathematics",
          "MSc Mathematics",
          "MSc Chemistry",
          "MSc Mathematics",
          "MSc Mathematics",
          "MSc Mathematics",
          "MSc Mathematics",
          "MSc Chemistry",
          "MSc Mathematics",
          "MSc Mathematics",
          "MSc Mathematics",
          "MSc Mathematics",
          "MSc Mathematics",
          "MSc Mathematics",
          "MSc Mathematics",
          "MSc Mathematics",
          "MSc Mathematics",
          "MSc Mathematics",
          "MSc Mathematics",
          "MSc Mathematics",
          "MSc Mathematics",
          "MSc Mathematics",
          "MSc Mathematics",
          "MSc Mathematics",
          "MSc Mathematics",
          "MSc Physics",
          "MSc Physics",
          "MSc Physics",
          "MSc Physics",
          "MSc Physics",
          "MSc Physics",
          "MSc Physics",
          "MSc Physics",
          "MSc Physics",
          "MSc Physics",
          "MSc Physics",
          "MSc Physics",
          "MSc Physics",
          "MSc Physics",
          "MSc Physics",
          "MSc Physics",
          "MSc Physics",
          "MSc Physics",
          "MSc Physics",
          "MSc Physics",
          "MSc Physics",
          "MSc Physics",
          "MSc Physics",
          "MSc Physics",
          "MSc Physics",
          "MSc Physics",
          "MSc Physics",
          "MSc Physics",
          "MSc Physics",
          "MSc Physics",
          "MSc Physics",
          "MSc Physics",
          "MSc Physics",
          "MSc Physics",
          "MSc Physics",
          "MSc Physics",
          "MSc Physics"
         ],
         "xaxis": "x",
         "y": [
          6.41,
          7.34,
          6.94,
          8.76,
          6.18,
          9,
          7.01,
          7.72,
          8.29,
          8.62,
          7.33,
          7.03,
          7.49,
          7.63,
          8.15,
          8.04,
          7.4,
          8.07,
          7.7,
          7.89,
          8.86,
          7.07,
          7.7,
          7.99,
          7.61,
          8.07,
          7.52,
          9.16,
          8.12,
          8.8,
          6.9,
          7.76,
          7.04,
          7.37,
          6.57,
          8.63,
          8.12,
          8.38,
          8.3,
          7.77,
          8.05,
          8.07,
          8.85,
          7.41,
          7.98,
          7.01,
          9.43,
          8.25,
          8.38,
          8.17,
          8.01,
          6.75,
          9.09,
          8.68,
          7.12,
          5.81,
          8.1,
          8.19,
          7.64,
          8.18,
          8.7,
          6.7,
          5.81,
          6.12,
          8.54,
          7.68,
          9.34,
          7.17,
          9.2,
          9.4,
          7.39,
          8.4,
          7.96,
          5.17,
          7.49,
          7.84,
          8.75,
          5.88,
          9.11,
          7.85,
          8.71,
          7.71,
          8.51,
          7.73,
          8.08,
          8.53,
          7.81,
          8.12,
          8.15,
          8.53,
          7.56,
          7.7,
          7.49,
          8.24,
          7.21,
          8.17,
          8.16,
          8.59,
          8.07,
          8.07,
          7.78,
          9.64,
          8.37,
          7.47,
          7.84,
          7.55,
          7.49,
          6.46,
          7.68,
          8.13,
          8.24,
          7.05,
          8.68,
          7.98,
          6.18,
          7.81,
          8.41,
          7.28,
          8.39,
          7.45,
          7.55,
          8.52,
          8.17,
          6.97,
          7.64,
          6.96,
          9,
          7.14,
          8.53,
          7.1,
          5.26,
          6.94,
          7.89,
          7.92,
          7.82,
          8.31,
          8.92,
          8.35,
          7.55,
          7.17,
          8.63,
          8.06,
          8.32,
          8.26,
          7.62,
          8.43,
          7.13,
          7.15,
          8.43,
          8.13,
          8.16,
          8.01,
          7.99,
          8.01,
          7.66,
          7.4,
          7.69,
          6.79,
          6.59,
          8.29,
          8.28,
          6.59,
          6.97,
          6.1,
          8.53,
          8.3,
          8.86,
          8.61,
          6.17,
          8.8,
          6.89,
          8.6,
          8.44,
          8.15,
          7.1,
          7.3,
          8.32,
          8.88,
          8.39,
          7.34,
          8.25,
          6.67,
          7.54,
          8.49,
          7.38,
          7.48,
          8.5,
          8.32,
          8.49,
          7.62,
          8.05,
          8.25,
          7.74,
          7.57,
          6.15,
          8.04,
          7.61,
          8.42,
          7.94,
          7.97,
          7.15,
          7.59,
          9.25,
          6.94,
          8.28,
          8.29,
          7.38,
          7.78,
          7.6,
          7.45,
          6.45,
          7.9,
          8.7,
          7.6,
          7.67,
          7.53,
          8.21,
          8.36,
          8.51,
          8.41,
          8.39,
          8.01,
          7.89,
          6.95,
          7.23,
          7.53,
          8.65,
          7.51,
          7.38,
          6.89,
          8.16,
          7.04,
          7.61,
          8.03,
          7.75,
          8.78,
          8.48,
          8.09,
          8.01,
          7.09,
          8.37,
          7.56,
          8.69,
          9.17,
          6.53,
          8.86,
          7.46,
          7.41,
          6.89,
          8.08,
          7.5,
          6.36,
          7.99,
          5.74,
          8.9,
          8.41,
          8.32,
          8.57,
          7.4,
          8.05,
          7.39,
          7.79,
          6.74,
          7.7,
          6.47,
          7.12,
          7.21,
          8.48,
          7.56,
          5.85,
          8.17,
          8.29,
          8.77,
          7.92,
          7.64,
          8.42,
          7.56,
          7.51,
          5.85,
          6.1,
          7.73,
          9.24,
          6.9,
          9.35,
          8.39,
          7,
          8,
          7.4,
          6.59,
          7.08,
          6.04,
          6.06,
          6.61,
          7.25,
          5.99,
          8.52,
          6.77,
          7.72,
          7.2,
          7.98,
          5.68,
          8.41,
          8.05,
          8.53,
          8.15,
          9.57,
          7.51,
          8.15,
          8.04,
          9.53,
          8.09,
          7.96,
          8.39,
          8.74,
          9.05,
          9.58,
          8.37,
          7.61,
          8.25,
          8.42,
          8.94,
          8.63,
          7.06,
          7.49,
          8.52,
          7.01,
          6.92,
          8.48,
          7.77,
          6.39,
          7.57,
          8.35,
          7.43,
          6.99,
          8.65,
          7.84,
          7.88,
          8.95,
          8.32,
          9.06,
          8.97,
          8.74,
          9.02,
          8.62,
          9.42,
          9.09,
          8.8,
          8.73,
          7.44,
          7.91,
          8.9,
          7.51,
          7.05,
          7.76,
          7.41,
          9.37,
          8.44,
          8.33,
          8.26,
          7.6,
          9.16,
          7.52,
          7.95,
          8.54,
          8.2,
          8.13,
          9.63,
          7.71,
          7.45,
          8.25,
          9.06,
          8.68,
          8.11,
          8.6,
          8.82,
          8.23,
          7.66,
          8.16,
          8.17,
          7.32,
          8.37,
          7.93,
          8.1,
          8.35,
          7.39,
          8.88,
          8.56,
          7.84,
          7.64,
          9.41,
          9.72,
          7.22,
          8.05,
          7.44,
          6.7,
          9.38,
          8.2,
          8.41,
          8.46,
          9.42,
          6.09,
          6.97,
          8.5,
          8.02,
          8.43,
          8.03,
          7.86,
          9.17,
          7.5,
          7.99,
          9.63,
          8.17,
          5.98,
          6.83,
          8.78,
          8.74,
          9.4,
          7.39,
          7.2,
          8.72,
          7.66,
          8.07,
          8.79,
          6.98,
          7.94,
          8.27,
          7.04,
          8.56,
          8.26,
          6.75,
          9.17,
          8.49,
          8.01,
          6.9,
          8.11,
          8.32,
          7.12,
          8.33,
          6.98,
          8.34,
          9.57,
          8,
          8.32,
          9.57,
          9.22,
          7.53,
          9.52,
          8.4,
          7.79,
          8.66,
          8.26,
          8.5,
          9.12,
          9.04,
          7.57,
          8.02,
          8.06,
          6.36,
          6.37,
          8.07,
          7.88,
          7.37,
          7.19,
          8.34,
          7.14,
          6.77,
          6.78,
          7.61,
          7.18,
          7.19,
          7.61,
          7.89,
          7.98,
          8.19,
          8.1,
          8.74,
          8.11,
          8.14,
          8.15,
          8.86,
          6.62,
          7.41,
          7.17,
          7.36,
          7.27,
          7.3,
          6.55,
          8.25,
          8.29,
          8.32,
          7.93,
          8.45,
          8.06,
          7.35,
          8.9,
          7.11,
          6.91,
          8.66,
          7.67,
          9.08,
          7.56,
          8.97,
          6.31,
          8.64,
          9.36,
          6.96,
          9.24,
          7.75,
          7.46,
          8.75,
          8.21,
          8.24,
          8.01,
          7.68,
          5.69,
          7.88,
          7.44,
          8.85,
          8.74,
          7.95,
          6.61,
          7.14,
          7.73,
          6.28,
          7.95,
          8.07,
          8.76,
          7.6,
          6.93,
          6.59,
          8.13,
          7.31,
          6.71,
          6.62,
          8.18,
          7.7,
          7.56,
          7.16,
          7.86,
          8.68,
          8.6,
          9.18,
          8.29,
          6.39,
          8.48,
          8.38,
          7.41,
          8.55,
          8.22,
          9.1,
          7.85,
          9.1,
          8.9,
          7.18,
          7.62,
          8.04,
          7.84,
          8.5,
          7.37,
          8.5,
          7.06,
          8.01,
          8.13,
          8.79,
          8.48,
          7.91,
          6.67,
          8.42,
          9.08,
          9.35,
          7.08,
          7.58,
          7.82,
          8.85,
          7.04,
          8.43,
          7.18,
          8.7,
          7.16,
          7.9,
          9.73,
          8.19,
          7.6,
          7.95,
          6.57,
          6.5,
          8.81,
          9.17,
          6.76,
          6.61,
          7.64,
          7.77,
          8.06,
          6.68,
          6.56,
          5.61,
          8.49,
          8.68,
          7.52,
          7.7,
          7.45,
          7.64,
          8.09,
          7.88,
          7.08,
          7.96,
          9.62,
          8.74,
          8.83,
          8.76,
          8.09,
          8.04,
          6.75,
          7.43,
          7.8,
          8.09,
          7.96,
          9.11,
          7.66,
          7.59,
          8.56,
          7.48,
          7.48,
          6.81,
          5.11,
          7.49,
          7.85,
          6.91,
          5.91,
          7.15,
          8.02,
          7.67,
          7.57,
          7.5,
          7.93,
          8.77,
          6.74,
          7.58,
          7.49,
          7.35,
          7.59,
          8.3,
          8.44,
          8.55,
          7.85,
          9.37,
          8.12,
          7.86,
          7.42,
          6.99,
          6.73,
          6.97,
          8.93,
          8.05,
          8.32,
          7.81,
          8.11,
          7.72,
          8.01,
          7.34,
          8.31,
          7.84,
          7.43,
          7.38,
          7.91,
          7.24,
          8.31,
          7.41,
          8.31,
          7.75,
          8.99,
          8.41,
          8.57,
          8.65,
          8.47,
          8.29,
          9.08,
          8.91,
          9.49,
          8.8,
          8.72,
          9.02,
          8.25,
          8.49,
          8.64,
          8.79,
          8.74,
          8.4,
          9.41,
          8.84,
          7.61,
          7.69,
          8.24,
          8.22,
          7.26,
          8.14,
          7.4,
          8.57,
          8.63,
          8.38,
          8.41,
          8.64,
          8.52,
          8.9,
          8.55,
          8.45,
          8.58,
          8.17,
          6.39,
          7.26,
          6.25,
          7.05,
          7.09,
          5.55,
          7.43,
          6.83,
          7.7,
          6.18,
          5.67,
          5.54,
          7.67,
          7.79,
          8.33,
          7.82,
          7.8,
          8.38,
          7.66,
          7.64,
          7.89,
          7.74,
          7.57,
          8.51,
          7.52,
          8.07,
          7.4,
          7.55,
          8.04,
          7.32,
          7.79,
          7.08,
          7.67,
          7.47,
          7.36,
          8.93,
          8.9,
          8.68,
          8.22,
          9.12,
          8.84,
          7.93,
          8.94,
          8.48,
          9.15,
          8.06,
          8.8,
          8.13,
          8.15,
          9.01,
          8.61,
          8.15,
          7.75,
          8.3,
          8.18,
          8.68,
          8.86,
          7.69,
          8.07,
          8.35,
          8.38,
          7.41,
          6.34,
          7.52,
          8.32,
          8.08,
          8,
          7.76,
          6.29,
          7.99,
          8.43,
          7.17,
          8.19,
          7.77,
          7.28,
          7.46,
          7.92,
          7.65,
          8.13,
          7.64,
          8.37,
          7.99,
          8.6,
          8.56,
          8.51,
          7.35,
          8.46,
          8.7,
          8.88,
          8.49,
          8.95,
          8.07,
          6.93,
          8.11,
          8.74,
          8.08,
          8.41,
          8.36
         ],
         "yaxis": "y"
        },
        {
         "alignmentgroup": "True",
         "bingroup": "x",
         "histfunc": "avg",
         "hovertemplate": "Gender=FEMALE<br>Branch=%{x}<br>avg of CGPA=%{y}<extra></extra>",
         "legendgroup": "FEMALE",
         "marker": {
          "color": "#EF553B",
          "pattern": {
           "shape": ""
          }
         },
         "name": "FEMALE",
         "offsetgroup": "FEMALE",
         "orientation": "v",
         "showlegend": true,
         "type": "histogram",
         "x": [
          "BE Chemical",
          "BE Chemical",
          "BE Chemical",
          "BE Chemical",
          "BE Chemical",
          "BE Chemical",
          "BE Chemical",
          "BE Chemical",
          "BE EEE",
          "BE EEE",
          "BE Civil",
          "BE EEE",
          "BE EEE",
          "BE EEE",
          "BE EEE",
          "BE EEE",
          "BE EEE",
          "BE Chemical",
          "BE EEE",
          "BE Mechanical",
          "BE Mechanical",
          "BE Mechanical",
          "BE Mechanical",
          "BE Mechanical",
          "BE Mechanical",
          "BE Mechanical",
          "BE Mechanical",
          "BE Pharma",
          "BE Pharma",
          "BE Pharma",
          "BE Pharma",
          "BE Pharma",
          "BE Pharma",
          "BE Pharma",
          "BE Pharma",
          "BE Pharma",
          "BE Pharma",
          "BE Pharma",
          "BE Pharma",
          "BE Pharma",
          "BE Pharma",
          "BE Pharma",
          "BE Pharma",
          "BE Pharma",
          "BE Pharma",
          "BE Pharma",
          "BE Pharma",
          "BE Pharma",
          "BE Pharma",
          "BE Pharma",
          "BE Pharma",
          "BE Pharma",
          "BE Computer Science",
          "BE Computer Science",
          "BE Computer Science",
          "BE Computer Science",
          "BE Computer Science",
          "BE Computer Science",
          "BE Computer Science",
          "BE Computer Science",
          "BE Computer Science",
          "BE Computer Science",
          "BE Computer Science",
          "BE Computer Science",
          "BE Computer Science",
          "BE Computer Science",
          "BE Computer Science",
          "BE EEE",
          "BE Computer Science",
          "BE Computer Science",
          "BE Computer Science",
          "BE ECE",
          "BE Computer Science",
          "BE ENI",
          "BE ENI",
          "BE ENI",
          "BE ENI",
          "BE ENI",
          "BE ENI",
          "BE ENI",
          "BE ENI",
          "BE ENI",
          "BE ENI",
          "BE ECE",
          "BE ECE",
          "BE ECE",
          "BE ECE",
          "BE ECE",
          "BE ECE",
          "BE ECE",
          "BE ECE",
          "BE ECE",
          "BE ECE",
          "BE ECE",
          "BE ECE",
          "BE ECE",
          "BE ECE",
          "BE ECE",
          "MSc Economics",
          "MSc Mathematics",
          "BE Pharma",
          "MSc Biology",
          "MSc Biology",
          "MSc Biology",
          "MSc Biology",
          "MSc Biology",
          "MSc Chemistry",
          "MSc Chemistry",
          "MSc Chemistry",
          "MSc Chemistry",
          "MSc Chemistry",
          "MSc Chemistry",
          "MSc Chemistry",
          "MSc Chemistry",
          "MSc Chemistry",
          "MSc Chemistry",
          "MSc Chemistry",
          "MSc Chemistry",
          "MSc Economics",
          "MSc Economics",
          "MSc Economics",
          "MSc Economics",
          "MSc Economics",
          "MSc Economics",
          "MSc Economics",
          "MSc Economics",
          "MSc Economics",
          "MSc Economics",
          "MSc Economics",
          "MSc Economics",
          "MSc Economics",
          "MSc Economics",
          "MSc Mathematics",
          "MSc Mathematics",
          "MSc Biology",
          "MSc Mathematics",
          "MSc Mathematics",
          "MSc Mathematics",
          "MSc Mathematics",
          "MSc Mathematics",
          "MSc Mathematics",
          "MSc Mathematics",
          "MSc Mathematics",
          "MSc Mathematics",
          "MSc Physics",
          "MSc Physics",
          "MSc Physics",
          "MSc Physics",
          "MSc Physics",
          "MSc Physics",
          "MSc Physics",
          "MSc Biology",
          "MSc Physics",
          "MSc Physics",
          "MSc Physics"
         ],
         "xaxis": "x",
         "y": [
          8.33,
          8.15,
          8.1,
          7.73,
          7.94,
          8.89,
          8.34,
          8.11,
          8.63,
          8.32,
          9.28,
          8.75,
          9.1,
          6.67,
          7.81,
          9,
          8.79,
          9.01,
          8.34,
          8.46,
          8.16,
          8.63,
          8.39,
          8.09,
          9.07,
          8.73,
          8.89,
          6.94,
          7.7,
          7.85,
          8.22,
          6.73,
          6.84,
          7.06,
          8.06,
          8.34,
          8.67,
          7.82,
          6.21,
          5,
          6.86,
          7.21,
          6.99,
          8.28,
          9.16,
          6.51,
          8.36,
          8.93,
          8.55,
          9.12,
          8.32,
          8.08,
          8.92,
          6.9,
          5.77,
          7.54,
          7.2,
          9.09,
          8.52,
          8.6,
          8.99,
          7.26,
          8.32,
          9.24,
          8.33,
          9.01,
          8.7,
          9.42,
          8.38,
          8.08,
          8.4,
          9.45,
          7.13,
          7.89,
          7.79,
          8.23,
          8.35,
          8.45,
          7.76,
          7.9,
          9.06,
          7.91,
          7.63,
          8.4,
          9.6,
          8.65,
          7.18,
          8.6,
          7.56,
          9.8,
          8.07,
          8.85,
          5.53,
          7.51,
          9.07,
          9.55,
          9.4,
          9.23,
          7.12,
          7.47,
          8.13,
          8.42,
          7.12,
          8.11,
          8.57,
          8.6,
          8.17,
          7.83,
          7.7,
          8,
          8.03,
          8.73,
          9.19,
          7.87,
          8.22,
          8.65,
          8.76,
          8.5,
          6.97,
          7.46,
          8.17,
          8.07,
          8.75,
          9.51,
          8.99,
          9.25,
          8.29,
          8.68,
          8.37,
          9.22,
          9.25,
          8.58,
          7.79,
          7.69,
          8.32,
          8.87,
          8.92,
          8.7,
          8.42,
          7.49,
          8,
          8.66,
          8.25,
          8.32,
          7.85,
          6.87,
          8.19,
          9.04,
          8.95,
          9.1,
          8.74,
          8.26,
          8.52,
          8.79,
          8.13
         ],
         "yaxis": "y"
        }
       ],
       "layout": {
        "barmode": "group",
        "legend": {
         "title": {
          "text": "Gender"
         },
         "tracegroupgap": 0
        },
        "margin": {
         "t": 60
        },
        "template": {
         "data": {
          "bar": [
           {
            "error_x": {
             "color": "#2a3f5f"
            },
            "error_y": {
             "color": "#2a3f5f"
            },
            "marker": {
             "line": {
              "color": "#E5ECF6",
              "width": 0.5
             },
             "pattern": {
              "fillmode": "overlay",
              "size": 10,
              "solidity": 0.2
             }
            },
            "type": "bar"
           }
          ],
          "barpolar": [
           {
            "marker": {
             "line": {
              "color": "#E5ECF6",
              "width": 0.5
             },
             "pattern": {
              "fillmode": "overlay",
              "size": 10,
              "solidity": 0.2
             }
            },
            "type": "barpolar"
           }
          ],
          "carpet": [
           {
            "aaxis": {
             "endlinecolor": "#2a3f5f",
             "gridcolor": "white",
             "linecolor": "white",
             "minorgridcolor": "white",
             "startlinecolor": "#2a3f5f"
            },
            "baxis": {
             "endlinecolor": "#2a3f5f",
             "gridcolor": "white",
             "linecolor": "white",
             "minorgridcolor": "white",
             "startlinecolor": "#2a3f5f"
            },
            "type": "carpet"
           }
          ],
          "choropleth": [
           {
            "colorbar": {
             "outlinewidth": 0,
             "ticks": ""
            },
            "type": "choropleth"
           }
          ],
          "contour": [
           {
            "colorbar": {
             "outlinewidth": 0,
             "ticks": ""
            },
            "colorscale": [
             [
              0,
              "#0d0887"
             ],
             [
              0.1111111111111111,
              "#46039f"
             ],
             [
              0.2222222222222222,
              "#7201a8"
             ],
             [
              0.3333333333333333,
              "#9c179e"
             ],
             [
              0.4444444444444444,
              "#bd3786"
             ],
             [
              0.5555555555555556,
              "#d8576b"
             ],
             [
              0.6666666666666666,
              "#ed7953"
             ],
             [
              0.7777777777777778,
              "#fb9f3a"
             ],
             [
              0.8888888888888888,
              "#fdca26"
             ],
             [
              1,
              "#f0f921"
             ]
            ],
            "type": "contour"
           }
          ],
          "contourcarpet": [
           {
            "colorbar": {
             "outlinewidth": 0,
             "ticks": ""
            },
            "type": "contourcarpet"
           }
          ],
          "heatmap": [
           {
            "colorbar": {
             "outlinewidth": 0,
             "ticks": ""
            },
            "colorscale": [
             [
              0,
              "#0d0887"
             ],
             [
              0.1111111111111111,
              "#46039f"
             ],
             [
              0.2222222222222222,
              "#7201a8"
             ],
             [
              0.3333333333333333,
              "#9c179e"
             ],
             [
              0.4444444444444444,
              "#bd3786"
             ],
             [
              0.5555555555555556,
              "#d8576b"
             ],
             [
              0.6666666666666666,
              "#ed7953"
             ],
             [
              0.7777777777777778,
              "#fb9f3a"
             ],
             [
              0.8888888888888888,
              "#fdca26"
             ],
             [
              1,
              "#f0f921"
             ]
            ],
            "type": "heatmap"
           }
          ],
          "heatmapgl": [
           {
            "colorbar": {
             "outlinewidth": 0,
             "ticks": ""
            },
            "colorscale": [
             [
              0,
              "#0d0887"
             ],
             [
              0.1111111111111111,
              "#46039f"
             ],
             [
              0.2222222222222222,
              "#7201a8"
             ],
             [
              0.3333333333333333,
              "#9c179e"
             ],
             [
              0.4444444444444444,
              "#bd3786"
             ],
             [
              0.5555555555555556,
              "#d8576b"
             ],
             [
              0.6666666666666666,
              "#ed7953"
             ],
             [
              0.7777777777777778,
              "#fb9f3a"
             ],
             [
              0.8888888888888888,
              "#fdca26"
             ],
             [
              1,
              "#f0f921"
             ]
            ],
            "type": "heatmapgl"
           }
          ],
          "histogram": [
           {
            "marker": {
             "pattern": {
              "fillmode": "overlay",
              "size": 10,
              "solidity": 0.2
             }
            },
            "type": "histogram"
           }
          ],
          "histogram2d": [
           {
            "colorbar": {
             "outlinewidth": 0,
             "ticks": ""
            },
            "colorscale": [
             [
              0,
              "#0d0887"
             ],
             [
              0.1111111111111111,
              "#46039f"
             ],
             [
              0.2222222222222222,
              "#7201a8"
             ],
             [
              0.3333333333333333,
              "#9c179e"
             ],
             [
              0.4444444444444444,
              "#bd3786"
             ],
             [
              0.5555555555555556,
              "#d8576b"
             ],
             [
              0.6666666666666666,
              "#ed7953"
             ],
             [
              0.7777777777777778,
              "#fb9f3a"
             ],
             [
              0.8888888888888888,
              "#fdca26"
             ],
             [
              1,
              "#f0f921"
             ]
            ],
            "type": "histogram2d"
           }
          ],
          "histogram2dcontour": [
           {
            "colorbar": {
             "outlinewidth": 0,
             "ticks": ""
            },
            "colorscale": [
             [
              0,
              "#0d0887"
             ],
             [
              0.1111111111111111,
              "#46039f"
             ],
             [
              0.2222222222222222,
              "#7201a8"
             ],
             [
              0.3333333333333333,
              "#9c179e"
             ],
             [
              0.4444444444444444,
              "#bd3786"
             ],
             [
              0.5555555555555556,
              "#d8576b"
             ],
             [
              0.6666666666666666,
              "#ed7953"
             ],
             [
              0.7777777777777778,
              "#fb9f3a"
             ],
             [
              0.8888888888888888,
              "#fdca26"
             ],
             [
              1,
              "#f0f921"
             ]
            ],
            "type": "histogram2dcontour"
           }
          ],
          "mesh3d": [
           {
            "colorbar": {
             "outlinewidth": 0,
             "ticks": ""
            },
            "type": "mesh3d"
           }
          ],
          "parcoords": [
           {
            "line": {
             "colorbar": {
              "outlinewidth": 0,
              "ticks": ""
             }
            },
            "type": "parcoords"
           }
          ],
          "pie": [
           {
            "automargin": true,
            "type": "pie"
           }
          ],
          "scatter": [
           {
            "fillpattern": {
             "fillmode": "overlay",
             "size": 10,
             "solidity": 0.2
            },
            "type": "scatter"
           }
          ],
          "scatter3d": [
           {
            "line": {
             "colorbar": {
              "outlinewidth": 0,
              "ticks": ""
             }
            },
            "marker": {
             "colorbar": {
              "outlinewidth": 0,
              "ticks": ""
             }
            },
            "type": "scatter3d"
           }
          ],
          "scattercarpet": [
           {
            "marker": {
             "colorbar": {
              "outlinewidth": 0,
              "ticks": ""
             }
            },
            "type": "scattercarpet"
           }
          ],
          "scattergeo": [
           {
            "marker": {
             "colorbar": {
              "outlinewidth": 0,
              "ticks": ""
             }
            },
            "type": "scattergeo"
           }
          ],
          "scattergl": [
           {
            "marker": {
             "colorbar": {
              "outlinewidth": 0,
              "ticks": ""
             }
            },
            "type": "scattergl"
           }
          ],
          "scattermapbox": [
           {
            "marker": {
             "colorbar": {
              "outlinewidth": 0,
              "ticks": ""
             }
            },
            "type": "scattermapbox"
           }
          ],
          "scatterpolar": [
           {
            "marker": {
             "colorbar": {
              "outlinewidth": 0,
              "ticks": ""
             }
            },
            "type": "scatterpolar"
           }
          ],
          "scatterpolargl": [
           {
            "marker": {
             "colorbar": {
              "outlinewidth": 0,
              "ticks": ""
             }
            },
            "type": "scatterpolargl"
           }
          ],
          "scatterternary": [
           {
            "marker": {
             "colorbar": {
              "outlinewidth": 0,
              "ticks": ""
             }
            },
            "type": "scatterternary"
           }
          ],
          "surface": [
           {
            "colorbar": {
             "outlinewidth": 0,
             "ticks": ""
            },
            "colorscale": [
             [
              0,
              "#0d0887"
             ],
             [
              0.1111111111111111,
              "#46039f"
             ],
             [
              0.2222222222222222,
              "#7201a8"
             ],
             [
              0.3333333333333333,
              "#9c179e"
             ],
             [
              0.4444444444444444,
              "#bd3786"
             ],
             [
              0.5555555555555556,
              "#d8576b"
             ],
             [
              0.6666666666666666,
              "#ed7953"
             ],
             [
              0.7777777777777778,
              "#fb9f3a"
             ],
             [
              0.8888888888888888,
              "#fdca26"
             ],
             [
              1,
              "#f0f921"
             ]
            ],
            "type": "surface"
           }
          ],
          "table": [
           {
            "cells": {
             "fill": {
              "color": "#EBF0F8"
             },
             "line": {
              "color": "white"
             }
            },
            "header": {
             "fill": {
              "color": "#C8D4E3"
             },
             "line": {
              "color": "white"
             }
            },
            "type": "table"
           }
          ]
         },
         "layout": {
          "annotationdefaults": {
           "arrowcolor": "#2a3f5f",
           "arrowhead": 0,
           "arrowwidth": 1
          },
          "autotypenumbers": "strict",
          "coloraxis": {
           "colorbar": {
            "outlinewidth": 0,
            "ticks": ""
           }
          },
          "colorscale": {
           "diverging": [
            [
             0,
             "#8e0152"
            ],
            [
             0.1,
             "#c51b7d"
            ],
            [
             0.2,
             "#de77ae"
            ],
            [
             0.3,
             "#f1b6da"
            ],
            [
             0.4,
             "#fde0ef"
            ],
            [
             0.5,
             "#f7f7f7"
            ],
            [
             0.6,
             "#e6f5d0"
            ],
            [
             0.7,
             "#b8e186"
            ],
            [
             0.8,
             "#7fbc41"
            ],
            [
             0.9,
             "#4d9221"
            ],
            [
             1,
             "#276419"
            ]
           ],
           "sequential": [
            [
             0,
             "#0d0887"
            ],
            [
             0.1111111111111111,
             "#46039f"
            ],
            [
             0.2222222222222222,
             "#7201a8"
            ],
            [
             0.3333333333333333,
             "#9c179e"
            ],
            [
             0.4444444444444444,
             "#bd3786"
            ],
            [
             0.5555555555555556,
             "#d8576b"
            ],
            [
             0.6666666666666666,
             "#ed7953"
            ],
            [
             0.7777777777777778,
             "#fb9f3a"
            ],
            [
             0.8888888888888888,
             "#fdca26"
            ],
            [
             1,
             "#f0f921"
            ]
           ],
           "sequentialminus": [
            [
             0,
             "#0d0887"
            ],
            [
             0.1111111111111111,
             "#46039f"
            ],
            [
             0.2222222222222222,
             "#7201a8"
            ],
            [
             0.3333333333333333,
             "#9c179e"
            ],
            [
             0.4444444444444444,
             "#bd3786"
            ],
            [
             0.5555555555555556,
             "#d8576b"
            ],
            [
             0.6666666666666666,
             "#ed7953"
            ],
            [
             0.7777777777777778,
             "#fb9f3a"
            ],
            [
             0.8888888888888888,
             "#fdca26"
            ],
            [
             1,
             "#f0f921"
            ]
           ]
          },
          "colorway": [
           "#636efa",
           "#EF553B",
           "#00cc96",
           "#ab63fa",
           "#FFA15A",
           "#19d3f3",
           "#FF6692",
           "#B6E880",
           "#FF97FF",
           "#FECB52"
          ],
          "font": {
           "color": "#2a3f5f"
          },
          "geo": {
           "bgcolor": "white",
           "lakecolor": "white",
           "landcolor": "#E5ECF6",
           "showlakes": true,
           "showland": true,
           "subunitcolor": "white"
          },
          "hoverlabel": {
           "align": "left"
          },
          "hovermode": "closest",
          "mapbox": {
           "style": "light"
          },
          "paper_bgcolor": "white",
          "plot_bgcolor": "#E5ECF6",
          "polar": {
           "angularaxis": {
            "gridcolor": "white",
            "linecolor": "white",
            "ticks": ""
           },
           "bgcolor": "#E5ECF6",
           "radialaxis": {
            "gridcolor": "white",
            "linecolor": "white",
            "ticks": ""
           }
          },
          "scene": {
           "xaxis": {
            "backgroundcolor": "#E5ECF6",
            "gridcolor": "white",
            "gridwidth": 2,
            "linecolor": "white",
            "showbackground": true,
            "ticks": "",
            "zerolinecolor": "white"
           },
           "yaxis": {
            "backgroundcolor": "#E5ECF6",
            "gridcolor": "white",
            "gridwidth": 2,
            "linecolor": "white",
            "showbackground": true,
            "ticks": "",
            "zerolinecolor": "white"
           },
           "zaxis": {
            "backgroundcolor": "#E5ECF6",
            "gridcolor": "white",
            "gridwidth": 2,
            "linecolor": "white",
            "showbackground": true,
            "ticks": "",
            "zerolinecolor": "white"
           }
          },
          "shapedefaults": {
           "line": {
            "color": "#2a3f5f"
           }
          },
          "ternary": {
           "aaxis": {
            "gridcolor": "white",
            "linecolor": "white",
            "ticks": ""
           },
           "baxis": {
            "gridcolor": "white",
            "linecolor": "white",
            "ticks": ""
           },
           "bgcolor": "#E5ECF6",
           "caxis": {
            "gridcolor": "white",
            "linecolor": "white",
            "ticks": ""
           }
          },
          "title": {
           "x": 0.05
          },
          "xaxis": {
           "automargin": true,
           "gridcolor": "white",
           "linecolor": "white",
           "ticks": "",
           "title": {
            "standoff": 15
           },
           "zerolinecolor": "white",
           "zerolinewidth": 2
          },
          "yaxis": {
           "automargin": true,
           "gridcolor": "white",
           "linecolor": "white",
           "ticks": "",
           "title": {
            "standoff": 15
           },
           "zerolinecolor": "white",
           "zerolinewidth": 2
          }
         }
        },
        "title": {
         "text": "Average CGPA per branch comparisons between Male and Female"
        },
        "xaxis": {
         "anchor": "y",
         "domain": [
          0,
          1
         ],
         "title": {
          "text": "Branch"
         }
        },
        "yaxis": {
         "anchor": "x",
         "domain": [
          0,
          1
         ],
         "title": {
          "text": "CGPA"
         }
        }
       }
      }
     },
     "metadata": {},
     "output_type": "display_data"
    }
   ],
   "source": [
    "def cgpa_per_branch(df):\n",
    "    \n",
    "    # Histogram to plot average CGPA per branch per gender\n",
    "    fig = px.histogram(df, histfunc=\"avg\", x=\"Branch\", y=\"CGPA\",\n",
    "                color='Gender', barmode='group')\n",
    "    fig.update_layout(title=\"Average CGPA per branch comparisons between Male and Female\", xaxis_title='Branch', yaxis_title='CGPA')\n",
    "    fig.show()\n",
    "cgpa_per_branch(df)"
   ]
  },
  {
   "cell_type": "code",
   "execution_count": 7,
   "metadata": {},
   "outputs": [
    {
     "data": {
      "application/vnd.plotly.v1+json": {
       "config": {
        "plotlyServerURL": "https://plot.ly"
       },
       "data": [
        {
         "histfunc": "count",
         "hovertemplate": "Number of students: %{y}<br>CG range: %{x}<br><extra></extra>",
         "name": "BE Chemical",
         "type": "histogram",
         "x": [
          "(6, 7]",
          "(7, 8]",
          "(6, 7]",
          "(8, 9]",
          "(8, 9]",
          "(6, 7]",
          "(8, 9]",
          "(7, 8]",
          "(7, 8]",
          "(8, 9]",
          "(8, 9]",
          "(7, 8]",
          "(7, 8]",
          "(7, 8]",
          "(8, 9]",
          "(8, 9]",
          "(7, 8]",
          "(7, 8]",
          "(8, 9]",
          "(8, 9]",
          "(7, 8]",
          "(8, 9]",
          "(7, 8]",
          "(7, 8]",
          "(8, 9]",
          "(7, 8]",
          "(7, 8]",
          "(7, 8]",
          "(7, 8]",
          "(8, 9]",
          "(7, 8]",
          "(8, 9]",
          "(7, 8]",
          "(8, 9]",
          "(9, 10]",
          "(8, 9]",
          "(8, 9]",
          "(6, 7]",
          "(7, 8]",
          "(7, 8]",
          "(7, 8]",
          "(6, 7]",
          "(8, 9]",
          "(8, 9]",
          "(8, 9]",
          "(8, 9]",
          "(8, 9]",
          "(7, 8]",
          "(8, 9]",
          "(8, 9]",
          "(9, 10]",
          "(9, 10]"
         ],
         "y": [
          41120180003,
          41120180006,
          41120180007,
          41120180010,
          41120180011,
          41120180018,
          41120180021,
          41120180028,
          41120180038,
          41120180041,
          41120180043,
          41120180055,
          41120180057,
          41120180060,
          41120180063,
          41120180065,
          41120180068,
          41120180075,
          41120180078,
          41120180082,
          41120180083,
          41120180088,
          41120180709,
          41120180711,
          41120180725,
          41120180727,
          41120180733,
          41120180748,
          41120180756,
          41120180767,
          41120180799,
          41120180803,
          41120180810,
          41120180817,
          41120180822,
          41120180828,
          41120180835,
          41120180840,
          41120180849,
          41120180863,
          41120180897,
          41120180932,
          41120180942,
          41120180952,
          41120180005,
          41120180008,
          41120180089,
          41120180776,
          41120180793,
          41120180786,
          41120180032,
          41120180802
         ]
        },
        {
         "histfunc": "count",
         "hovertemplate": "Number of students: %{y}<br>CG range: %{x}<br><extra></extra>",
         "name": "BE Civil",
         "type": "histogram",
         "x": [
          "(8, 9]",
          "(8, 9]",
          "(7, 8]",
          "(7, 8]",
          "(7, 8]",
          "(9, 10]",
          "(8, 9]",
          "(8, 9]",
          "(8, 9]",
          "(8, 9]",
          "(6, 7]",
          "(9, 10]",
          "(8, 9]",
          "(7, 8]",
          "(5, 6]",
          "(8, 9]",
          "(8, 9]",
          "(7, 8]",
          "(8, 9]",
          "(8, 9]",
          "(6, 7]",
          "(5, 6]",
          "(6, 7]",
          "(8, 9]",
          "(7, 8]",
          "(9, 10]",
          "(7, 8]",
          "(9, 10]",
          "(9, 10]",
          "(7, 8]",
          "(8, 9]",
          "(7, 8]",
          "(5, 6]",
          "(7, 8]",
          "(7, 8]",
          "(8, 9]",
          "(5, 6]",
          "(9, 10]",
          "(7, 8]",
          "(8, 9]",
          "(7, 8]",
          "(8, 9]",
          "(7, 8]",
          "(8, 9]",
          "(8, 9]",
          "(7, 8]",
          "(8, 9]",
          "(8, 9]",
          "(8, 9]",
          "(7, 8]",
          "(9, 10]",
          "(9, 10]"
         ],
         "y": [
          41120180016,
          41120180034,
          41120180066,
          41120180096,
          41120180102,
          41120180105,
          41120180108,
          41120180109,
          41120180110,
          41120180116,
          41120180118,
          41120180119,
          41120180124,
          41120180126,
          41120180130,
          41120180145,
          41120180148,
          41120180149,
          41120180150,
          41120180151,
          41120180157,
          41120180158,
          41120180159,
          41120180200,
          41120180222,
          41120180226,
          41120180227,
          41120180230,
          41120180300,
          41120180435,
          41120180449,
          41120180675,
          41120180718,
          41120180726,
          41120180735,
          41120180736,
          41120180762,
          41120180765,
          41120180791,
          41120180815,
          41120180825,
          41120180834,
          41120180836,
          41120180842,
          41120180845,
          41120180883,
          41120180902,
          41120180954,
          41120180140,
          41120180792,
          41120180154,
          41120180099
         ]
        },
        {
         "histfunc": "count",
         "hovertemplate": "Number of students: %{y}<br>CG range: %{x}<br><extra></extra>",
         "name": "BE EEE",
         "type": "histogram",
         "x": [
          "(7, 8]",
          "(7, 8]",
          "(8, 9]",
          "(8, 9]",
          "(8, 9]",
          "(7, 8]",
          "(8, 9]",
          "(8, 9]",
          "(8, 9]",
          "(8, 9]",
          "(8, 9]",
          "(7, 8]",
          "(8, 9]",
          "(7, 8]",
          "(7, 8]",
          "(8, 9]",
          "(7, 8]",
          "(7, 8]",
          "(6, 7]",
          "(7, 8]",
          "(8, 9]",
          "(8, 9]",
          "(7, 8]",
          "(8, 9]",
          "(7, 8]",
          "(6, 7]",
          "(9, 10]",
          "(7, 8]",
          "(8, 9]",
          "(7, 8]",
          "(8, 9]",
          "(7, 8]",
          "(7, 8]",
          "(8, 9]",
          "(8, 9]",
          "(6, 7]",
          "(7, 8]",
          "(6, 7]",
          "(6, 7]",
          "(8, 9]",
          "(7, 8]",
          "(8, 9]",
          "(7, 8]",
          "(5, 6]",
          "(6, 7]",
          "(7, 8]",
          "(7, 8]",
          "(7, 8]",
          "(7, 8]",
          "(8, 9]",
          "(8, 9]",
          "(7, 8]",
          "(7, 8]",
          "(8, 9]",
          "(8, 9]",
          "(8, 9]",
          "(8, 9]",
          "(7, 8]",
          "(8, 9]",
          "(7, 8]",
          "(7, 8]",
          "(8, 9]",
          "(8, 9]",
          "(8, 9]",
          "(8, 9]",
          "(8, 9]",
          "(8, 9]",
          "(7, 8]",
          "(8, 9]",
          "(7, 8]",
          "(7, 8]",
          "(7, 8]",
          "(6, 7]",
          "(6, 7]",
          "(8, 9]",
          "(8, 9]",
          "(6, 7]",
          "(6, 7]",
          "(6, 7]",
          "(8, 9]",
          "(8, 9]",
          "(8, 9]",
          "(6, 7]",
          "(8, 9]",
          "(6, 7]",
          "(8, 9]",
          "(8, 9]",
          "(8, 9]",
          "(7, 8]",
          "(7, 8]",
          "(8, 9]",
          "(8, 9]",
          "(8, 9]",
          "(9, 10]",
          "(9, 10]"
         ],
         "y": [
          41120180033,
          41120180044,
          41120180134,
          41120180138,
          41120180174,
          41120180186,
          41120180197,
          41120180251,
          41120180261,
          41120180273,
          41120180277,
          41120180284,
          41120180329,
          41120180337,
          41120180350,
          41120180354,
          41120180358,
          41120180360,
          41120180401,
          41120180402,
          41120180405,
          41120180516,
          41120180517,
          41120180523,
          41120180525,
          41120180526,
          41120180528,
          41120180532,
          41120180533,
          41120180534,
          41120180536,
          41120180537,
          41120180538,
          41120180541,
          41120180544,
          41120180546,
          41120180549,
          41120180550,
          41120180553,
          41120180554,
          41120180555,
          41120180556,
          41120180557,
          41120180558,
          41120180562,
          41120180563,
          41120180565,
          41120180567,
          41120180568,
          41120180579,
          41120180590,
          41120180596,
          41120180597,
          41120180602,
          41120180604,
          41120180605,
          41120180607,
          41120180609,
          41120180610,
          41120180613,
          41120180614,
          41120180619,
          41120180620,
          41120180621,
          41120180624,
          41120180636,
          41120180638,
          41120180639,
          41120180642,
          41120180649,
          41120180655,
          41120180659,
          41120180662,
          41120180663,
          41120180664,
          41120180667,
          41120180679,
          41120180681,
          41120180684,
          41120180685,
          41120180686,
          41120180839,
          41120180909,
          41120180910,
          41120180915,
          41120181076,
          41120181100,
          41120180081,
          41120180515,
          41120180518,
          41120180531,
          41120180852,
          41120180874,
          41120180376,
          41120180530
         ]
        },
        {
         "histfunc": "count",
         "hovertemplate": "Number of students: %{y}<br>CG range: %{x}<br><extra></extra>",
         "name": "BE Mechanical",
         "type": "histogram",
         "x": [
          "(8, 9]",
          "(8, 9]",
          "(7, 8]",
          "(8, 9]",
          "(6, 7]",
          "(7, 8]",
          "(8, 9]",
          "(7, 8]",
          "(7, 8]",
          "(8, 9]",
          "(8, 9]",
          "(8, 9]",
          "(8, 9]",
          "(7, 8]",
          "(8, 9]",
          "(8, 9]",
          "(7, 8]",
          "(7, 8]",
          "(6, 7]",
          "(8, 9]",
          "(7, 8]",
          "(8, 9]",
          "(8, 9]",
          "(7, 8]",
          "(8, 9]",
          "(7, 8]",
          "(7, 8]",
          "(7, 8]",
          "(9, 10]",
          "(6, 7]",
          "(8, 9]",
          "(8, 9]",
          "(7, 8]",
          "(7, 8]",
          "(7, 8]",
          "(7, 8]",
          "(8, 9]",
          "(6, 7]",
          "(7, 8]",
          "(8, 9]",
          "(7, 8]",
          "(7, 8]",
          "(7, 8]",
          "(8, 9]",
          "(8, 9]",
          "(8, 9]",
          "(8, 9]",
          "(8, 9]",
          "(8, 9]",
          "(7, 8]",
          "(6, 7]",
          "(7, 8]",
          "(7, 8]",
          "(8, 9]",
          "(7, 8]",
          "(7, 8]",
          "(6, 7]",
          "(8, 9]",
          "(7, 8]",
          "(7, 8]",
          "(8, 9]",
          "(7, 8]",
          "(8, 9]",
          "(8, 9]",
          "(8, 9]",
          "(8, 9]",
          "(7, 8]",
          "(8, 9]",
          "(7, 8]",
          "(8, 9]",
          "(9, 10]",
          "(6, 7]",
          "(8, 9]",
          "(7, 8]",
          "(7, 8]",
          "(6, 7]",
          "(8, 9]",
          "(7, 8]",
          "(6, 7]",
          "(7, 8]",
          "(5, 6]",
          "(8, 9]",
          "(8, 9]",
          "(8, 9]",
          "(8, 9]",
          "(7, 8]",
          "(8, 9]",
          "(7, 8]",
          "(7, 8]",
          "(6, 7]",
          "(7, 8]",
          "(6, 7]",
          "(7, 8]",
          "(7, 8]",
          "(8, 9]",
          "(7, 8]",
          "(5, 6]",
          "(8, 9]",
          "(8, 9]",
          "(9, 10]",
          "(8, 9]",
          "(8, 9]",
          "(7, 8]",
          "(7, 8]",
          "(8, 9]",
          "(7, 8]",
          "(7, 8]",
          "(8, 9]",
          "(5, 6]",
          "(6, 7]",
          "(8, 9]",
          "(7, 8]",
          "(9, 10]",
          "(6, 7]",
          "(9, 10]",
          "(8, 9]",
          "(9, 10]"
         ],
         "y": [
          41120180586,
          41120180002,
          41120180004,
          41120180014,
          41120180017,
          41120180023,
          41120180025,
          41120180026,
          41120180031,
          41120180035,
          41120180036,
          41120180042,
          41120180047,
          41120180049,
          41120180050,
          41120180051,
          41120180052,
          41120180053,
          41120180059,
          41120180064,
          41120180076,
          41120180077,
          41120180080,
          41120180085,
          41120180090,
          41120180111,
          41120180112,
          41120180113,
          41120180117,
          41120180122,
          41120180125,
          41120180127,
          41120180129,
          41120180131,
          41120180132,
          41120180135,
          41120180136,
          41120180155,
          41120180229,
          41120180296,
          41120180326,
          41120180327,
          41120180332,
          41120180335,
          41120180340,
          41120180346,
          41120180349,
          41120180355,
          41120180378,
          41120180381,
          41120180399,
          41120180426,
          41120180447,
          41120180572,
          41120180577,
          41120180581,
          41120180583,
          41120180591,
          41120180593,
          41120180595,
          41120180600,
          41120180603,
          41120180617,
          41120180618,
          41120180622,
          41120180625,
          41120180626,
          41120180628,
          41120180629,
          41120180633,
          41120180634,
          41120180635,
          41120180637,
          41120180647,
          41120180648,
          41120180650,
          41120180652,
          41120180654,
          41120180657,
          41120180658,
          41120180661,
          41120180668,
          41120180671,
          41120180672,
          41120180676,
          41120180678,
          41120180682,
          41120180683,
          41120180689,
          41120180690,
          41120180693,
          41120180694,
          41120180696,
          41120180729,
          41120180737,
          41120180771,
          41120180811,
          41120180821,
          41120180875,
          41120180925,
          41120180933,
          41120180947,
          41120180971,
          41120180982,
          41120180994,
          41120181023,
          41120181027,
          41120181047,
          41120180056,
          41120180142,
          41120180153,
          41120180156,
          41120180342,
          41120180616,
          41120180653,
          41120181005,
          41120180991
         ]
        },
        {
         "histfunc": "count",
         "hovertemplate": "Number of students: %{y}<br>CG range: %{x}<br><extra></extra>",
         "name": "BE Pharma",
         "type": "histogram",
         "x": [
          "(6, 7]",
          "(7, 8]",
          "(7, 8]",
          "(8, 9]",
          "(6, 7]",
          "(6, 7]",
          "(7, 8]",
          "(6, 7]",
          "(7, 8]",
          "(7, 8]",
          "(8, 9]",
          "(6, 7]",
          "(7, 8]",
          "(8, 9]",
          "(6, 7]",
          "(6, 7]",
          "(8, 9]",
          "(7, 8]",
          "(6, 7]",
          "(6, 7]",
          "(4, 5]",
          "(6, 7]",
          "(7, 8]",
          "(7, 8]",
          "(6, 7]",
          "(8, 9]",
          "(5, 6]",
          "(9, 10]",
          "(6, 7]",
          "(8, 9]",
          "(8, 9]",
          "(6, 7]",
          "(8, 9]",
          "(8, 9]",
          "(9, 10]",
          "(7, 8]",
          "(8, 9]",
          "(8, 9]",
          "(7, 8]",
          "(9, 10]",
          "(8, 9]"
         ],
         "y": [
          41120180499,
          41120180704,
          41120180705,
          41120180716,
          41120180719,
          41120180720,
          41120181063,
          41120181065,
          41120181066,
          41120181067,
          41120181068,
          41120181070,
          41120181072,
          41120181080,
          41120181082,
          41120181083,
          41120181093,
          41120181094,
          41120181101,
          41120181102,
          41120181107,
          41120181108,
          41120181110,
          41120181111,
          41120181112,
          41120181113,
          41120181114,
          41120180490,
          41120180710,
          41120181073,
          41120181074,
          41120181075,
          41120181084,
          41120181086,
          41120181090,
          41120181096,
          41120181099,
          41120181103,
          41120181106,
          41120181064,
          41120181069
         ]
        },
        {
         "histfunc": "count",
         "hovertemplate": "Number of students: %{y}<br>CG range: %{x}<br><extra></extra>",
         "name": "BE Computer Science",
         "type": "histogram",
         "x": [
          "(7, 8]",
          "(5, 6]",
          "(8, 9]",
          "(8, 9]",
          "(8, 9]",
          "(8, 9]",
          "(8, 9]",
          "(6, 7]",
          "(7, 8]",
          "(8, 9]",
          "(8, 9]",
          "(9, 10]",
          "(8, 9]",
          "(7, 8]",
          "(5, 6]",
          "(8, 9]",
          "(8, 9]",
          "(9, 10]",
          "(9, 10]",
          "(8, 9]",
          "(7, 8]",
          "(8, 9]",
          "(8, 9]",
          "(8, 9]",
          "(8, 9]",
          "(7, 8]",
          "(7, 8]",
          "(8, 9]",
          "(7, 8]",
          "(6, 7]",
          "(8, 9]",
          "(7, 8]",
          "(6, 7]",
          "(7, 8]",
          "(8, 9]",
          "(7, 8]",
          "(6, 7]",
          "(8, 9]",
          "(7, 8]",
          "(7, 8]",
          "(8, 9]",
          "(8, 9]",
          "(9, 10]",
          "(8, 9]",
          "(8, 9]",
          "(9, 10]",
          "(8, 9]",
          "(9, 10]",
          "(9, 10]",
          "(8, 9]",
          "(8, 9]",
          "(7, 8]",
          "(7, 8]",
          "(8, 9]",
          "(7, 8]",
          "(7, 8]",
          "(7, 8]",
          "(7, 8]",
          "(9, 10]",
          "(8, 9]",
          "(8, 9]",
          "(8, 9]",
          "(7, 8]",
          "(7, 8]",
          "(7, 8]",
          "(9, 10]",
          "(9, 10]",
          "(7, 8]",
          "(7, 8]",
          "(8, 9]",
          "(8, 9]",
          "(8, 9]",
          "(8, 9]",
          "(9, 10]",
          "(7, 8]",
          "(7, 8]",
          "(8, 9]",
          "(8, 9]",
          "(8, 9]",
          "(9, 10]",
          "(8, 9]",
          "(8, 9]",
          "(7, 8]",
          "(8, 9]",
          "(8, 9]",
          "(8, 9]",
          "(7, 8]",
          "(8, 9]",
          "(8, 9]",
          "(8, 9]",
          "(7, 8]",
          "(8, 9]",
          "(7, 8]",
          "(8, 9]",
          "(8, 9]",
          "(7, 8]",
          "(8, 9]",
          "(8, 9]",
          "(7, 8]",
          "(7, 8]",
          "(9, 10]",
          "(9, 10]",
          "(8, 9]",
          "(9, 10]",
          "(7, 8]",
          "(8, 9]",
          "(9, 10]",
          "(7, 8]",
          "(6, 7]",
          "(9, 10]",
          "(8, 9]",
          "(8, 9]",
          "(8, 9]",
          "(9, 10]",
          "(6, 7]",
          "(8, 9]",
          "(6, 7]",
          "(8, 9]",
          "(8, 9]",
          "(8, 9]",
          "(8, 9]",
          "(7, 8]",
          "(9, 10]",
          "(7, 8]",
          "(7, 8]",
          "(9, 10]",
          "(8, 9]",
          "(5, 6]",
          "(6, 7]",
          "(8, 9]",
          "(8, 9]",
          "(9, 10]",
          "(7, 8]",
          "(7, 8]",
          "(8, 9]",
          "(7, 8]",
          "(8, 9]",
          "(8, 9]",
          "(6, 7]",
          "(7, 8]",
          "(8, 9]",
          "(8, 9]",
          "(7, 8]",
          "(8, 9]",
          "(8, 9]",
          "(8, 9]",
          "(8, 9]",
          "(6, 7]",
          "(9, 10]",
          "(8, 9]",
          "(8, 9]",
          "(6, 7]",
          "(8, 9]",
          "(8, 9]",
          "(7, 8]",
          "(8, 9]",
          "(6, 7]",
          "(8, 9]",
          "(9, 10]",
          "(7, 8]",
          "(8, 9]",
          "(7, 8]",
          "(9, 10]",
          "(8, 9]",
          "(7, 8]",
          "(7, 8]",
          "(8, 9]",
          "(8, 9]",
          "(8, 9]",
          "(9, 10]",
          "(9, 10]"
         ],
         "y": [
          41120180009,
          41120180019,
          41120180020,
          41120180027,
          41120180029,
          41120180040,
          41120180062,
          41120180097,
          41120180100,
          41120180101,
          41120180114,
          41120180115,
          41120180141,
          41120180146,
          41120180160,
          41120180161,
          41120180162,
          41120180163,
          41120180164,
          41120180166,
          41120180167,
          41120180168,
          41120180170,
          41120180171,
          41120180173,
          41120180175,
          41120180176,
          41120180177,
          41120180179,
          41120180180,
          41120180181,
          41120180182,
          41120180183,
          41120180184,
          41120180185,
          41120180187,
          41120180188,
          41120180189,
          41120180190,
          41120180191,
          41120180192,
          41120180193,
          41120180194,
          41120180195,
          41120180198,
          41120180199,
          41120180201,
          41120180202,
          41120180203,
          41120180205,
          41120180206,
          41120180207,
          41120180208,
          41120180209,
          41120180210,
          41120180211,
          41120180212,
          41120180213,
          41120180215,
          41120180216,
          41120180217,
          41120180218,
          41120180219,
          41120180220,
          41120180221,
          41120180223,
          41120180225,
          41120180228,
          41120180231,
          41120180232,
          41120180234,
          41120180235,
          41120180236,
          41120180237,
          41120180239,
          41120180240,
          41120180241,
          41120180242,
          41120180243,
          41120180244,
          41120180245,
          41120180246,
          41120180247,
          41120180248,
          41120180249,
          41120180250,
          41120180252,
          41120180253,
          41120180254,
          41120180256,
          41120180257,
          41120180259,
          41120180260,
          41120180262,
          41120180266,
          41120180268,
          41120180270,
          41120180271,
          41120180272,
          41120180275,
          41120180276,
          41120180278,
          41120180279,
          41120180280,
          41120180282,
          41120180283,
          41120180286,
          41120180287,
          41120180288,
          41120180289,
          41120180290,
          41120180292,
          41120180295,
          41120180297,
          41120180298,
          41120180299,
          41120180301,
          41120180302,
          41120180303,
          41120180304,
          41120180305,
          41120180306,
          41120180307,
          41120180308,
          41120180309,
          41120180312,
          41120180313,
          41120180314,
          41120180315,
          41120180316,
          41120180323,
          41120180338,
          41120180367,
          41120180372,
          41120180375,
          41120180385,
          41120180417,
          41120180430,
          41120180431,
          41120180434,
          41120180438,
          41120180439,
          41120180446,
          41120180462,
          41120180471,
          41120180473,
          41120180482,
          41120180486,
          41120180487,
          41120180496,
          41120180498,
          41120180503,
          41120180510,
          41120180521,
          41120180545,
          41120180551,
          41120180575,
          41120180584,
          41120180623,
          41120180631,
          41120180673,
          41120180103,
          41120180165,
          41120180169,
          41120180238,
          41120180255,
          41120180265,
          41120180267,
          41120180281,
          41120180294,
          41120180433
         ]
        },
        {
         "histfunc": "count",
         "hovertemplate": "Number of students: %{y}<br>CG range: %{x}<br><extra></extra>",
         "name": "BE ENI",
         "type": "histogram",
         "x": [
          "(9, 10]",
          "(9, 10]",
          "(7, 8]",
          "(7, 8]",
          "(8, 9]",
          "(8, 9]",
          "(7, 8]",
          "(6, 7]",
          "(6, 7]",
          "(8, 9]",
          "(7, 8]",
          "(7, 8]",
          "(7, 8]",
          "(8, 9]",
          "(7, 8]",
          "(8, 9]",
          "(6, 7]",
          "(6, 7]",
          "(7, 8]",
          "(7, 8]",
          "(7, 8]",
          "(7, 8]",
          "(7, 8]",
          "(7, 8]",
          "(8, 9]",
          "(8, 9]",
          "(8, 9]",
          "(8, 9]",
          "(8, 9]",
          "(8, 9]",
          "(8, 9]",
          "(8, 9]",
          "(7, 8]",
          "(8, 9]",
          "(6, 7]",
          "(7, 8]",
          "(7, 8]",
          "(7, 8]",
          "(7, 8]",
          "(9, 10]",
          "(7, 8]",
          "(7, 8]",
          "(7, 8]",
          "(6, 7]",
          "(8, 9]",
          "(8, 9]",
          "(8, 9]",
          "(7, 8]",
          "(8, 9]",
          "(7, 8]",
          "(9, 10]"
         ],
         "y": [
          41120180310,
          41120180966,
          41120180046,
          41120180048,
          41120180079,
          41120180104,
          41120180120,
          41120180128,
          41120180319,
          41120180320,
          41120180324,
          41120180524,
          41120180547,
          41120180574,
          41120180582,
          41120180587,
          41120180588,
          41120180589,
          41120180606,
          41120180612,
          41120180630,
          41120180640,
          41120180641,
          41120180651,
          41120180680,
          41120180688,
          41120180691,
          41120180695,
          41120180844,
          41120180854,
          41120180855,
          41120180862,
          41120180885,
          41120180900,
          41120180901,
          41120180911,
          41120180929,
          41120180945,
          41120180946,
          41120180953,
          41120180962,
          41120180975,
          41120180986,
          41120181002,
          41120181016,
          41120181032,
          41120181041,
          41120181046,
          41120181092,
          41120180876,
          41120180527
         ]
        },
        {
         "histfunc": "count",
         "hovertemplate": "Number of students: %{y}<br>CG range: %{x}<br><extra></extra>",
         "name": "BE ECE",
         "type": "histogram",
         "x": [
          "(9, 10]",
          "(8, 9]",
          "(8, 9]",
          "(7, 8]",
          "(8, 9]",
          "(9, 10]",
          "(7, 8]",
          "(6, 7]",
          "(8, 9]",
          "(7, 8]",
          "(8, 9]",
          "(9, 10]",
          "(7, 8]",
          "(8, 9]",
          "(6, 7]",
          "(8, 9]",
          "(9, 10]",
          "(6, 7]",
          "(9, 10]",
          "(7, 8]",
          "(7, 8]",
          "(8, 9]",
          "(8, 9]",
          "(8, 9]",
          "(8, 9]",
          "(7, 8]",
          "(5, 6]",
          "(7, 8]",
          "(7, 8]",
          "(7, 8]",
          "(8, 9]",
          "(8, 9]",
          "(7, 8]",
          "(6, 7]",
          "(7, 8]",
          "(7, 8]",
          "(6, 7]",
          "(7, 8]",
          "(8, 9]",
          "(8, 9]",
          "(8, 9]",
          "(7, 8]",
          "(6, 7]",
          "(7, 8]",
          "(6, 7]",
          "(8, 9]",
          "(7, 8]",
          "(6, 7]",
          "(6, 7]",
          "(9, 10]",
          "(8, 9]",
          "(7, 8]",
          "(7, 8]",
          "(7, 8]",
          "(7, 8]",
          "(8, 9]",
          "(8, 9]",
          "(9, 10]",
          "(8, 9]",
          "(6, 7]",
          "(8, 9]",
          "(8, 9]",
          "(7, 8]",
          "(8, 9]",
          "(8, 9]",
          "(8, 9]",
          "(8, 9]",
          "(9, 10]",
          "(7, 8]",
          "(9, 10]",
          "(8, 9]",
          "(7, 8]",
          "(7, 8]",
          "(8, 9]",
          "(7, 8]",
          "(8, 9]",
          "(7, 8]",
          "(8, 9]",
          "(7, 8]",
          "(8, 9]",
          "(5, 6]",
          "(8, 9]",
          "(8, 9]",
          "(8, 9]",
          "(7, 8]",
          "(7, 8]",
          "(6, 7]",
          "(8, 9]",
          "(7, 8]",
          "(7, 8]",
          "(7, 8]",
          "(8, 9]",
          "(7, 8]",
          "(8, 9]",
          "(7, 8]",
          "(9, 10]",
          "(9, 10]",
          "(9, 10]",
          "(8, 9]",
          "(7, 8]",
          "(7, 8]",
          "(9, 10]"
         ],
         "y": [
          41120180507,
          41120180106,
          41120180317,
          41120180322,
          41120180325,
          41120180328,
          41120180333,
          41120180334,
          41120180336,
          41120180339,
          41120180341,
          41120180343,
          41120180344,
          41120180347,
          41120180348,
          41120180352,
          41120180353,
          41120180357,
          41120180359,
          41120180361,
          41120180365,
          41120180368,
          41120180369,
          41120180370,
          41120180374,
          41120180377,
          41120180379,
          41120180380,
          41120180382,
          41120180383,
          41120180384,
          41120180386,
          41120180387,
          41120180389,
          41120180390,
          41120180391,
          41120180392,
          41120180393,
          41120180394,
          41120180396,
          41120180398,
          41120180403,
          41120180404,
          41120180407,
          41120180408,
          41120180410,
          41120180411,
          41120180412,
          41120180413,
          41120180415,
          41120180418,
          41120180419,
          41120180420,
          41120180422,
          41120180424,
          41120180427,
          41120180428,
          41120180436,
          41120180437,
          41120180440,
          41120180441,
          41120180444,
          41120180458,
          41120180459,
          41120180461,
          41120180467,
          41120180468,
          41120180469,
          41120180475,
          41120180476,
          41120180480,
          41120180481,
          41120180483,
          41120180484,
          41120180485,
          41120180488,
          41120180492,
          41120180493,
          41120180497,
          41120180500,
          41120180501,
          41120180502,
          41120180504,
          41120180505,
          41120180506,
          41120180508,
          41120180511,
          41120180512,
          41120180543,
          41120180592,
          41120180656,
          41120180893,
          41120180896,
          41120180321,
          41120180371,
          41120180395,
          41120180421,
          41120180423,
          41120180448,
          41120180460,
          41120180478,
          41120180627
         ]
        },
        {
         "histfunc": "count",
         "hovertemplate": "Number of students: %{y}<br>CG range: %{x}<br><extra></extra>",
         "name": "MSc Biology",
         "type": "histogram",
         "x": [
          "(6, 7]",
          "(6, 7]",
          "(8, 9]",
          "(7, 8]",
          "(7, 8]",
          "(8, 9]",
          "(6, 7]",
          "(6, 7]",
          "(5, 6]",
          "(8, 9]",
          "(8, 9]",
          "(7, 8]",
          "(7, 8]",
          "(7, 8]",
          "(7, 8]",
          "(8, 9]",
          "(7, 8]",
          "(7, 8]",
          "(7, 8]",
          "(7, 8]",
          "(8, 9]",
          "(9, 10]",
          "(8, 9]",
          "(8, 9]",
          "(8, 9]",
          "(8, 9]",
          "(8, 9]",
          "(6, 7]",
          "(7, 8]",
          "(8, 9]",
          "(7, 8]",
          "(8, 9]",
          "(8, 9]",
          "(7, 8]",
          "(9, 10]",
          "(8, 9]",
          "(8, 9]"
         ],
         "y": [
          41120180542,
          41120180564,
          41120180789,
          41120180814,
          41120180443,
          41120180494,
          41120180529,
          41120180722,
          41120180747,
          41120180491,
          41120180519,
          41120180860,
          41120180560,
          41120180632,
          41120180752,
          41120180761,
          41120180768,
          41120180856,
          41120180904,
          41120180920,
          41120180950,
          41120180645,
          41120180757,
          41120180775,
          41120180794,
          41120180949,
          41120180552,
          41120180831,
          41120180465,
          41120180569,
          41120180576,
          41120180578,
          41120180758,
          41120180759,
          41120180851,
          41120180454,
          41120180934
         ]
        },
        {
         "histfunc": "count",
         "hovertemplate": "Number of students: %{y}<br>CG range: %{x}<br><extra></extra>",
         "name": "MSc Chemistry",
         "type": "histogram",
         "x": [
          "(7, 8]",
          "(7, 8]",
          "(8, 9]",
          "(7, 8]",
          "(7, 8]",
          "(6, 7]",
          "(5, 6]",
          "(7, 8]",
          "(7, 8]",
          "(6, 7]",
          "(5, 6]",
          "(7, 8]",
          "(8, 9]",
          "(7, 8]",
          "(7, 8]",
          "(8, 9]",
          "(7, 8]",
          "(7, 8]",
          "(8, 9]",
          "(6, 7]",
          "(7, 8]",
          "(7, 8]",
          "(7, 8]",
          "(7, 8]",
          "(7, 8]",
          "(7, 8]",
          "(8, 9]",
          "(8, 9]",
          "(9, 10]",
          "(7, 8]",
          "(7, 8]",
          "(8, 9]",
          "(8, 9]",
          "(8, 9]",
          "(8, 9]",
          "(8, 9]",
          "(7, 8]",
          "(8, 9]",
          "(8, 9]",
          "(9, 10]",
          "(8, 9]",
          "(8, 9]",
          "(8, 9]"
         ],
         "y": [
          41120180571,
          41120180692,
          41120180721,
          41120180770,
          41120180782,
          41120180784,
          41120180841,
          41120180850,
          41120180442,
          41120180457,
          41120180466,
          41120180608,
          41120180388,
          41120180522,
          41120180548,
          41120180728,
          41120180753,
          41120180764,
          41120180830,
          41120180397,
          41120180432,
          41120180535,
          41120180559,
          41120180599,
          41120180677,
          41120180697,
          41120180766,
          41120180730,
          41120180739,
          41120180674,
          41120180734,
          41120180749,
          41120180464,
          41120180585,
          41120180702,
          41120180772,
          41120180781,
          41120180783,
          41120180808,
          41120180809,
          41120180611,
          41120180779,
          41120180927
         ]
        },
        {
         "histfunc": "count",
         "hovertemplate": "Number of students: %{y}<br>CG range: %{x}<br><extra></extra>",
         "name": "MSc Economics",
         "type": "histogram",
         "x": [
          "(7, 8]",
          "(8, 9]",
          "(8, 9]",
          "(7, 8]",
          "(7, 8]",
          "(6, 7]",
          "(6, 7]",
          "(6, 7]",
          "(6, 7]",
          "(8, 9]",
          "(8, 9]",
          "(8, 9]",
          "(7, 8]",
          "(8, 9]",
          "(7, 8]",
          "(8, 9]",
          "(7, 8]",
          "(8, 9]",
          "(7, 8]",
          "(7, 8]",
          "(7, 8]",
          "(7, 8]",
          "(7, 8]",
          "(7, 8]",
          "(8, 9]",
          "(8, 9]",
          "(7, 8]",
          "(8, 9]",
          "(8, 9]",
          "(7, 8]",
          "(8, 9]",
          "(8, 9]",
          "(8, 9]",
          "(9, 10]",
          "(8, 9]",
          "(8, 9]",
          "(8, 9]",
          "(8, 9]",
          "(9, 10]",
          "(8, 9]",
          "(8, 9]",
          "(9, 10]",
          "(9, 10]",
          "(8, 9]",
          "(8, 9]",
          "(9, 10]",
          "(8, 9]",
          "(8, 9]",
          "(8, 9]",
          "(8, 9]",
          "(8, 9]",
          "(8, 9]",
          "(8, 9]",
          "(8, 9]",
          "(7, 8]",
          "(7, 8]",
          "(8, 9]",
          "(8, 9]",
          "(7, 8]",
          "(8, 9]",
          "(8, 9]",
          "(7, 8]",
          "(9, 10]",
          "(8, 9]",
          "(8, 9]",
          "(8, 9]",
          "(8, 9]",
          "(8, 9]",
          "(8, 9]",
          "(8, 9]",
          "(9, 10]",
          "(8, 9]",
          "(8, 9]",
          "(8, 9]",
          "(8, 9]",
          "(8, 9]"
         ],
         "y": [
          41120180969,
          41120180997,
          41120180264,
          41120180870,
          41120180944,
          41120180453,
          41120180858,
          41120180907,
          41120180977,
          41120181053,
          41120180196,
          41120180846,
          41120180859,
          41120180889,
          41120180890,
          41120180892,
          41120180955,
          41120180957,
          41120180869,
          41120180877,
          41120180881,
          41120180888,
          41120180898,
          41120180928,
          41120180983,
          41120180987,
          41120180993,
          41120180995,
          41120181009,
          41120181018,
          41120180022,
          41120180258,
          41120180356,
          41120180843,
          41120180847,
          41120180848,
          41120180864,
          41120180873,
          41120180880,
          41120180887,
          41120180894,
          41120180895,
          41120180903,
          41120180905,
          41120180912,
          41120180914,
          41120180916,
          41120180917,
          41120180921,
          41120180948,
          41120180973,
          41120180984,
          41120180992,
          41120181004,
          41120180024,
          41120180865,
          41120180913,
          41120180923,
          41120180938,
          41120180976,
          41120180988,
          41120180996,
          41120180037,
          41120180087,
          41120180331,
          41120180351,
          41120180665,
          41120180878,
          41120180908,
          41120180940,
          41120180943,
          41120180958,
          41120180974,
          41120180978,
          41120180981,
          41120180985
         ]
        },
        {
         "histfunc": "count",
         "hovertemplate": "Number of students: %{y}<br>CG range: %{x}<br><extra></extra>",
         "name": "MSc Mathematics",
         "type": "histogram",
         "x": [
          "(7, 8]",
          "(7, 8]",
          "(6, 7]",
          "(7, 8]",
          "(6, 7]",
          "(7, 8]",
          "(6, 7]",
          "(7, 8]",
          "(7, 8]",
          "(5, 6]",
          "(7, 8]",
          "(6, 7]",
          "(7, 8]",
          "(6, 7]",
          "(5, 6]",
          "(5, 6]",
          "(7, 8]",
          "(7, 8]",
          "(8, 9]",
          "(7, 8]",
          "(7, 8]",
          "(8, 9]",
          "(7, 8]",
          "(7, 8]",
          "(7, 8]",
          "(7, 8]",
          "(7, 8]",
          "(7, 8]",
          "(8, 9]",
          "(7, 8]",
          "(8, 9]",
          "(7, 8]",
          "(7, 8]",
          "(7, 8]",
          "(8, 9]",
          "(7, 8]",
          "(7, 8]",
          "(7, 8]",
          "(7, 8]",
          "(7, 8]",
          "(7, 8]",
          "(8, 9]",
          "(8, 9]",
          "(8, 9]",
          "(9, 10]",
          "(8, 9]",
          "(7, 8]",
          "(8, 9]",
          "(8, 9]",
          "(8, 9]",
          "(9, 10]",
          "(8, 9]",
          "(8, 9]",
          "(8, 9]",
          "(8, 9]",
          "(8, 9]",
          "(7, 8]",
          "(9, 10]",
          "(8, 9]",
          "(8, 9]",
          "(7, 8]",
          "(7, 8]",
          "(8, 9]",
          "(8, 9]",
          "(8, 9]",
          "(8, 9]",
          "(8, 9]",
          "(7, 8]",
          "(8, 9]",
          "(8, 9]",
          "(8, 9]",
          "(8, 9]",
          "(8, 9]"
         ],
         "y": [
          41120180092,
          41120180139,
          41120180818,
          41120180941,
          41120180012,
          41120180293,
          41120180861,
          41120180951,
          41120180990,
          41120180778,
          41120180805,
          41120180819,
          41120180824,
          41120180826,
          41120180879,
          41120180918,
          41120180204,
          41120180263,
          41120180311,
          41120180594,
          41120180751,
          41120180777,
          41120180823,
          41120180853,
          41120180882,
          41120180924,
          41120180939,
          41120180956,
          41120180964,
          41120180452,
          41120180714,
          41120180743,
          41120180780,
          41120180827,
          41120180837,
          41120180838,
          41120180930,
          41120180963,
          41120180972,
          41120180989,
          41120181000,
          41120180701,
          41120180713,
          41120180774,
          41120180797,
          41120180812,
          41120180813,
          41120180857,
          41120180886,
          41120180922,
          41120180936,
          41120180937,
          41120181024,
          41120181050,
          41120180086,
          41120180147,
          41120180731,
          41120180800,
          41120180807,
          41120180039,
          41120180094,
          41120180406,
          41120180787,
          41120180795,
          41120180829,
          41120180867,
          41120180868,
          41120180891,
          41120180899,
          41120180919,
          41120180931,
          41120181042,
          41120181077
         ]
        },
        {
         "histfunc": "count",
         "hovertemplate": "Number of students: %{y}<br>CG range: %{x}<br><extra></extra>",
         "name": "MSc Physics",
         "type": "histogram",
         "x": [
          "(6, 7]",
          "(8, 9]",
          "(9, 10]",
          "(8, 9]",
          "(7, 8]",
          "(6, 7]",
          "(7, 8]",
          "(7, 8]",
          "(8, 9]",
          "(8, 9]",
          "(7, 8]",
          "(7, 8]",
          "(6, 7]",
          "(7, 8]",
          "(8, 9]",
          "(7, 8]",
          "(8, 9]",
          "(7, 8]",
          "(7, 8]",
          "(7, 8]",
          "(7, 8]",
          "(7, 8]",
          "(8, 9]",
          "(6, 7]",
          "(7, 8]",
          "(8, 9]",
          "(8, 9]",
          "(9, 10]",
          "(7, 8]",
          "(8, 9]",
          "(8, 9]",
          "(8, 9]",
          "(8, 9]",
          "(7, 8]",
          "(9, 10]",
          "(8, 9]",
          "(8, 9]",
          "(8, 9]",
          "(8, 9]",
          "(8, 9]",
          "(8, 9]",
          "(8, 9]",
          "(8, 9]",
          "(8, 9]",
          "(6, 7]",
          "(8, 9]",
          "(8, 9]",
          "(8, 9]",
          "(8, 9]",
          "(8, 9]",
          "(8, 9]"
         ],
         "y": [
          41120180760,
          41120181105,
          41120181011,
          41120181051,
          41120180072,
          41120180744,
          41120181029,
          41120180474,
          41120180801,
          41120180965,
          41120180979,
          41120180998,
          41120181058,
          41120181061,
          41120180706,
          41120180712,
          41120180723,
          41120180806,
          41120181022,
          41120181026,
          41120181037,
          41120181039,
          41120181085,
          41120181088,
          41120181098,
          41120181104,
          41120181118,
          41120180013,
          41120180429,
          41120180456,
          41120180477,
          41120180601,
          41120180707,
          41120180785,
          41120180790,
          41120180796,
          41120180816,
          41120181003,
          41120181044,
          41120181054,
          41120181055,
          41120181056,
          41120181062,
          41120181089,
          41120180224,
          41120180274,
          41120181014,
          41120181015,
          41120181043,
          41120181071,
          41120181081
         ]
        }
       ],
       "layout": {
        "template": {
         "data": {
          "bar": [
           {
            "error_x": {
             "color": "#2a3f5f"
            },
            "error_y": {
             "color": "#2a3f5f"
            },
            "marker": {
             "line": {
              "color": "#E5ECF6",
              "width": 0.5
             },
             "pattern": {
              "fillmode": "overlay",
              "size": 10,
              "solidity": 0.2
             }
            },
            "type": "bar"
           }
          ],
          "barpolar": [
           {
            "marker": {
             "line": {
              "color": "#E5ECF6",
              "width": 0.5
             },
             "pattern": {
              "fillmode": "overlay",
              "size": 10,
              "solidity": 0.2
             }
            },
            "type": "barpolar"
           }
          ],
          "carpet": [
           {
            "aaxis": {
             "endlinecolor": "#2a3f5f",
             "gridcolor": "white",
             "linecolor": "white",
             "minorgridcolor": "white",
             "startlinecolor": "#2a3f5f"
            },
            "baxis": {
             "endlinecolor": "#2a3f5f",
             "gridcolor": "white",
             "linecolor": "white",
             "minorgridcolor": "white",
             "startlinecolor": "#2a3f5f"
            },
            "type": "carpet"
           }
          ],
          "choropleth": [
           {
            "colorbar": {
             "outlinewidth": 0,
             "ticks": ""
            },
            "type": "choropleth"
           }
          ],
          "contour": [
           {
            "colorbar": {
             "outlinewidth": 0,
             "ticks": ""
            },
            "colorscale": [
             [
              0,
              "#0d0887"
             ],
             [
              0.1111111111111111,
              "#46039f"
             ],
             [
              0.2222222222222222,
              "#7201a8"
             ],
             [
              0.3333333333333333,
              "#9c179e"
             ],
             [
              0.4444444444444444,
              "#bd3786"
             ],
             [
              0.5555555555555556,
              "#d8576b"
             ],
             [
              0.6666666666666666,
              "#ed7953"
             ],
             [
              0.7777777777777778,
              "#fb9f3a"
             ],
             [
              0.8888888888888888,
              "#fdca26"
             ],
             [
              1,
              "#f0f921"
             ]
            ],
            "type": "contour"
           }
          ],
          "contourcarpet": [
           {
            "colorbar": {
             "outlinewidth": 0,
             "ticks": ""
            },
            "type": "contourcarpet"
           }
          ],
          "heatmap": [
           {
            "colorbar": {
             "outlinewidth": 0,
             "ticks": ""
            },
            "colorscale": [
             [
              0,
              "#0d0887"
             ],
             [
              0.1111111111111111,
              "#46039f"
             ],
             [
              0.2222222222222222,
              "#7201a8"
             ],
             [
              0.3333333333333333,
              "#9c179e"
             ],
             [
              0.4444444444444444,
              "#bd3786"
             ],
             [
              0.5555555555555556,
              "#d8576b"
             ],
             [
              0.6666666666666666,
              "#ed7953"
             ],
             [
              0.7777777777777778,
              "#fb9f3a"
             ],
             [
              0.8888888888888888,
              "#fdca26"
             ],
             [
              1,
              "#f0f921"
             ]
            ],
            "type": "heatmap"
           }
          ],
          "heatmapgl": [
           {
            "colorbar": {
             "outlinewidth": 0,
             "ticks": ""
            },
            "colorscale": [
             [
              0,
              "#0d0887"
             ],
             [
              0.1111111111111111,
              "#46039f"
             ],
             [
              0.2222222222222222,
              "#7201a8"
             ],
             [
              0.3333333333333333,
              "#9c179e"
             ],
             [
              0.4444444444444444,
              "#bd3786"
             ],
             [
              0.5555555555555556,
              "#d8576b"
             ],
             [
              0.6666666666666666,
              "#ed7953"
             ],
             [
              0.7777777777777778,
              "#fb9f3a"
             ],
             [
              0.8888888888888888,
              "#fdca26"
             ],
             [
              1,
              "#f0f921"
             ]
            ],
            "type": "heatmapgl"
           }
          ],
          "histogram": [
           {
            "marker": {
             "pattern": {
              "fillmode": "overlay",
              "size": 10,
              "solidity": 0.2
             }
            },
            "type": "histogram"
           }
          ],
          "histogram2d": [
           {
            "colorbar": {
             "outlinewidth": 0,
             "ticks": ""
            },
            "colorscale": [
             [
              0,
              "#0d0887"
             ],
             [
              0.1111111111111111,
              "#46039f"
             ],
             [
              0.2222222222222222,
              "#7201a8"
             ],
             [
              0.3333333333333333,
              "#9c179e"
             ],
             [
              0.4444444444444444,
              "#bd3786"
             ],
             [
              0.5555555555555556,
              "#d8576b"
             ],
             [
              0.6666666666666666,
              "#ed7953"
             ],
             [
              0.7777777777777778,
              "#fb9f3a"
             ],
             [
              0.8888888888888888,
              "#fdca26"
             ],
             [
              1,
              "#f0f921"
             ]
            ],
            "type": "histogram2d"
           }
          ],
          "histogram2dcontour": [
           {
            "colorbar": {
             "outlinewidth": 0,
             "ticks": ""
            },
            "colorscale": [
             [
              0,
              "#0d0887"
             ],
             [
              0.1111111111111111,
              "#46039f"
             ],
             [
              0.2222222222222222,
              "#7201a8"
             ],
             [
              0.3333333333333333,
              "#9c179e"
             ],
             [
              0.4444444444444444,
              "#bd3786"
             ],
             [
              0.5555555555555556,
              "#d8576b"
             ],
             [
              0.6666666666666666,
              "#ed7953"
             ],
             [
              0.7777777777777778,
              "#fb9f3a"
             ],
             [
              0.8888888888888888,
              "#fdca26"
             ],
             [
              1,
              "#f0f921"
             ]
            ],
            "type": "histogram2dcontour"
           }
          ],
          "mesh3d": [
           {
            "colorbar": {
             "outlinewidth": 0,
             "ticks": ""
            },
            "type": "mesh3d"
           }
          ],
          "parcoords": [
           {
            "line": {
             "colorbar": {
              "outlinewidth": 0,
              "ticks": ""
             }
            },
            "type": "parcoords"
           }
          ],
          "pie": [
           {
            "automargin": true,
            "type": "pie"
           }
          ],
          "scatter": [
           {
            "fillpattern": {
             "fillmode": "overlay",
             "size": 10,
             "solidity": 0.2
            },
            "type": "scatter"
           }
          ],
          "scatter3d": [
           {
            "line": {
             "colorbar": {
              "outlinewidth": 0,
              "ticks": ""
             }
            },
            "marker": {
             "colorbar": {
              "outlinewidth": 0,
              "ticks": ""
             }
            },
            "type": "scatter3d"
           }
          ],
          "scattercarpet": [
           {
            "marker": {
             "colorbar": {
              "outlinewidth": 0,
              "ticks": ""
             }
            },
            "type": "scattercarpet"
           }
          ],
          "scattergeo": [
           {
            "marker": {
             "colorbar": {
              "outlinewidth": 0,
              "ticks": ""
             }
            },
            "type": "scattergeo"
           }
          ],
          "scattergl": [
           {
            "marker": {
             "colorbar": {
              "outlinewidth": 0,
              "ticks": ""
             }
            },
            "type": "scattergl"
           }
          ],
          "scattermapbox": [
           {
            "marker": {
             "colorbar": {
              "outlinewidth": 0,
              "ticks": ""
             }
            },
            "type": "scattermapbox"
           }
          ],
          "scatterpolar": [
           {
            "marker": {
             "colorbar": {
              "outlinewidth": 0,
              "ticks": ""
             }
            },
            "type": "scatterpolar"
           }
          ],
          "scatterpolargl": [
           {
            "marker": {
             "colorbar": {
              "outlinewidth": 0,
              "ticks": ""
             }
            },
            "type": "scatterpolargl"
           }
          ],
          "scatterternary": [
           {
            "marker": {
             "colorbar": {
              "outlinewidth": 0,
              "ticks": ""
             }
            },
            "type": "scatterternary"
           }
          ],
          "surface": [
           {
            "colorbar": {
             "outlinewidth": 0,
             "ticks": ""
            },
            "colorscale": [
             [
              0,
              "#0d0887"
             ],
             [
              0.1111111111111111,
              "#46039f"
             ],
             [
              0.2222222222222222,
              "#7201a8"
             ],
             [
              0.3333333333333333,
              "#9c179e"
             ],
             [
              0.4444444444444444,
              "#bd3786"
             ],
             [
              0.5555555555555556,
              "#d8576b"
             ],
             [
              0.6666666666666666,
              "#ed7953"
             ],
             [
              0.7777777777777778,
              "#fb9f3a"
             ],
             [
              0.8888888888888888,
              "#fdca26"
             ],
             [
              1,
              "#f0f921"
             ]
            ],
            "type": "surface"
           }
          ],
          "table": [
           {
            "cells": {
             "fill": {
              "color": "#EBF0F8"
             },
             "line": {
              "color": "white"
             }
            },
            "header": {
             "fill": {
              "color": "#C8D4E3"
             },
             "line": {
              "color": "white"
             }
            },
            "type": "table"
           }
          ]
         },
         "layout": {
          "annotationdefaults": {
           "arrowcolor": "#2a3f5f",
           "arrowhead": 0,
           "arrowwidth": 1
          },
          "autotypenumbers": "strict",
          "coloraxis": {
           "colorbar": {
            "outlinewidth": 0,
            "ticks": ""
           }
          },
          "colorscale": {
           "diverging": [
            [
             0,
             "#8e0152"
            ],
            [
             0.1,
             "#c51b7d"
            ],
            [
             0.2,
             "#de77ae"
            ],
            [
             0.3,
             "#f1b6da"
            ],
            [
             0.4,
             "#fde0ef"
            ],
            [
             0.5,
             "#f7f7f7"
            ],
            [
             0.6,
             "#e6f5d0"
            ],
            [
             0.7,
             "#b8e186"
            ],
            [
             0.8,
             "#7fbc41"
            ],
            [
             0.9,
             "#4d9221"
            ],
            [
             1,
             "#276419"
            ]
           ],
           "sequential": [
            [
             0,
             "#0d0887"
            ],
            [
             0.1111111111111111,
             "#46039f"
            ],
            [
             0.2222222222222222,
             "#7201a8"
            ],
            [
             0.3333333333333333,
             "#9c179e"
            ],
            [
             0.4444444444444444,
             "#bd3786"
            ],
            [
             0.5555555555555556,
             "#d8576b"
            ],
            [
             0.6666666666666666,
             "#ed7953"
            ],
            [
             0.7777777777777778,
             "#fb9f3a"
            ],
            [
             0.8888888888888888,
             "#fdca26"
            ],
            [
             1,
             "#f0f921"
            ]
           ],
           "sequentialminus": [
            [
             0,
             "#0d0887"
            ],
            [
             0.1111111111111111,
             "#46039f"
            ],
            [
             0.2222222222222222,
             "#7201a8"
            ],
            [
             0.3333333333333333,
             "#9c179e"
            ],
            [
             0.4444444444444444,
             "#bd3786"
            ],
            [
             0.5555555555555556,
             "#d8576b"
            ],
            [
             0.6666666666666666,
             "#ed7953"
            ],
            [
             0.7777777777777778,
             "#fb9f3a"
            ],
            [
             0.8888888888888888,
             "#fdca26"
            ],
            [
             1,
             "#f0f921"
            ]
           ]
          },
          "colorway": [
           "#636efa",
           "#EF553B",
           "#00cc96",
           "#ab63fa",
           "#FFA15A",
           "#19d3f3",
           "#FF6692",
           "#B6E880",
           "#FF97FF",
           "#FECB52"
          ],
          "font": {
           "color": "#2a3f5f"
          },
          "geo": {
           "bgcolor": "white",
           "lakecolor": "white",
           "landcolor": "#E5ECF6",
           "showlakes": true,
           "showland": true,
           "subunitcolor": "white"
          },
          "hoverlabel": {
           "align": "left"
          },
          "hovermode": "closest",
          "mapbox": {
           "style": "light"
          },
          "paper_bgcolor": "white",
          "plot_bgcolor": "#E5ECF6",
          "polar": {
           "angularaxis": {
            "gridcolor": "white",
            "linecolor": "white",
            "ticks": ""
           },
           "bgcolor": "#E5ECF6",
           "radialaxis": {
            "gridcolor": "white",
            "linecolor": "white",
            "ticks": ""
           }
          },
          "scene": {
           "xaxis": {
            "backgroundcolor": "#E5ECF6",
            "gridcolor": "white",
            "gridwidth": 2,
            "linecolor": "white",
            "showbackground": true,
            "ticks": "",
            "zerolinecolor": "white"
           },
           "yaxis": {
            "backgroundcolor": "#E5ECF6",
            "gridcolor": "white",
            "gridwidth": 2,
            "linecolor": "white",
            "showbackground": true,
            "ticks": "",
            "zerolinecolor": "white"
           },
           "zaxis": {
            "backgroundcolor": "#E5ECF6",
            "gridcolor": "white",
            "gridwidth": 2,
            "linecolor": "white",
            "showbackground": true,
            "ticks": "",
            "zerolinecolor": "white"
           }
          },
          "shapedefaults": {
           "line": {
            "color": "#2a3f5f"
           }
          },
          "ternary": {
           "aaxis": {
            "gridcolor": "white",
            "linecolor": "white",
            "ticks": ""
           },
           "baxis": {
            "gridcolor": "white",
            "linecolor": "white",
            "ticks": ""
           },
           "bgcolor": "#E5ECF6",
           "caxis": {
            "gridcolor": "white",
            "linecolor": "white",
            "ticks": ""
           }
          },
          "title": {
           "x": 0.05
          },
          "xaxis": {
           "automargin": true,
           "gridcolor": "white",
           "linecolor": "white",
           "ticks": "",
           "title": {
            "standoff": 15
           },
           "zerolinecolor": "white",
           "zerolinewidth": 2
          },
          "yaxis": {
           "automargin": true,
           "gridcolor": "white",
           "linecolor": "white",
           "ticks": "",
           "title": {
            "standoff": 15
           },
           "zerolinecolor": "white",
           "zerolinewidth": 2
          }
         }
        },
        "title": {
         "text": "CGPA Ranges vs Number of students for All Branches"
        },
        "updatemenus": [
         {
          "active": 0,
          "buttons": [
           {
            "args": [
             {
              "visible": [
               true,
               true,
               true,
               true,
               true,
               true,
               true,
               true,
               true,
               true,
               true,
               true,
               true
              ]
             },
             {
              "annotations": [],
              "title": "CGPA Ranges vs Number of students for All Branches"
             }
            ],
            "label": "All Branches",
            "method": "update"
           },
           {
            "args": [
             {
              "visible": [
               true,
               false,
               false,
               false,
               false,
               false,
               false,
               false,
               false,
               false,
               false,
               false,
               false
              ]
             },
             {
              "annotations": [],
              "title": "CGPA Ranges vs Number of students for BE Chemical"
             }
            ],
            "label": "BE Chemical",
            "method": "update"
           },
           {
            "args": [
             {
              "visible": [
               false,
               true,
               false,
               false,
               false,
               false,
               false,
               false,
               false,
               false,
               false,
               false,
               false
              ]
             },
             {
              "annotations": [],
              "title": "CGPA Ranges vs Number of students for BE Civil"
             }
            ],
            "label": "BE Civil",
            "method": "update"
           },
           {
            "args": [
             {
              "visible": [
               false,
               false,
               true,
               false,
               false,
               false,
               false,
               false,
               false,
               false,
               false,
               false,
               false
              ]
             },
             {
              "annotations": [],
              "title": "CGPA Ranges vs Number of students for BE EEE"
             }
            ],
            "label": "BE EEE",
            "method": "update"
           },
           {
            "args": [
             {
              "visible": [
               false,
               false,
               false,
               true,
               false,
               false,
               false,
               false,
               false,
               false,
               false,
               false,
               false
              ]
             },
             {
              "annotations": [],
              "title": "CGPA Ranges vs Number of students for BE Mechanical"
             }
            ],
            "label": "BE Mechanical",
            "method": "update"
           },
           {
            "args": [
             {
              "visible": [
               false,
               false,
               false,
               false,
               true,
               false,
               false,
               false,
               false,
               false,
               false,
               false,
               false
              ]
             },
             {
              "annotations": [],
              "title": "CGPA Ranges vs Number of students for BE Pharma"
             }
            ],
            "label": "BE Pharma",
            "method": "update"
           },
           {
            "args": [
             {
              "visible": [
               false,
               false,
               false,
               false,
               false,
               true,
               false,
               false,
               false,
               false,
               false,
               false,
               false
              ]
             },
             {
              "annotations": [],
              "title": "CGPA Ranges vs Number of students for BE Computer Science"
             }
            ],
            "label": "BE Computer Science",
            "method": "update"
           },
           {
            "args": [
             {
              "visible": [
               false,
               false,
               false,
               false,
               false,
               false,
               true,
               false,
               false,
               false,
               false,
               false,
               false
              ]
             },
             {
              "annotations": [],
              "title": "CGPA Ranges vs Number of students for BE ENI"
             }
            ],
            "label": "BE ENI",
            "method": "update"
           },
           {
            "args": [
             {
              "visible": [
               false,
               false,
               false,
               false,
               false,
               false,
               false,
               true,
               false,
               false,
               false,
               false,
               false
              ]
             },
             {
              "annotations": [],
              "title": "CGPA Ranges vs Number of students for BE ECE"
             }
            ],
            "label": "BE ECE",
            "method": "update"
           },
           {
            "args": [
             {
              "visible": [
               false,
               false,
               false,
               false,
               false,
               false,
               false,
               false,
               true,
               false,
               false,
               false,
               false
              ]
             },
             {
              "annotations": [],
              "title": "CGPA Ranges vs Number of students for MSc Biology"
             }
            ],
            "label": "MSc Biology",
            "method": "update"
           },
           {
            "args": [
             {
              "visible": [
               false,
               false,
               false,
               false,
               false,
               false,
               false,
               false,
               false,
               true,
               false,
               false,
               false
              ]
             },
             {
              "annotations": [],
              "title": "CGPA Ranges vs Number of students for MSc Chemistry"
             }
            ],
            "label": "MSc Chemistry",
            "method": "update"
           },
           {
            "args": [
             {
              "visible": [
               false,
               false,
               false,
               false,
               false,
               false,
               false,
               false,
               false,
               false,
               true,
               false,
               false
              ]
             },
             {
              "annotations": [],
              "title": "CGPA Ranges vs Number of students for MSc Economics"
             }
            ],
            "label": "MSc Economics",
            "method": "update"
           },
           {
            "args": [
             {
              "visible": [
               false,
               false,
               false,
               false,
               false,
               false,
               false,
               false,
               false,
               false,
               false,
               true,
               false
              ]
             },
             {
              "annotations": [],
              "title": "CGPA Ranges vs Number of students for MSc Mathematics"
             }
            ],
            "label": "MSc Mathematics",
            "method": "update"
           },
           {
            "args": [
             {
              "visible": [
               false,
               false,
               false,
               false,
               false,
               false,
               false,
               false,
               false,
               false,
               false,
               false,
               true
              ]
             },
             {
              "annotations": [],
              "title": "CGPA Ranges vs Number of students for MSc Physics"
             }
            ],
            "label": "MSc Physics",
            "method": "update"
           }
          ]
         }
        ],
        "xaxis": {
         "categoryarray": [
          "(4, 5]",
          "(5, 6]",
          "(6, 7]",
          "(7, 8]",
          "(8, 9]",
          "(9, 10]"
         ],
         "categoryorder": "array",
         "title": {
          "text": "CG Ranges"
         }
        },
        "yaxis": {
         "title": {
          "text": "Number of students"
         }
        }
       }
      }
     },
     "metadata": {},
     "output_type": "display_data"
    }
   ],
   "source": [
    "# Function to plot histogram of number of students per CGPA bracket, with branchwise dropdown\n",
    "def cghistogram(df):\n",
    "    \n",
    "    # Assign each student thier respective CGPA bin using pd.cut()\n",
    "    df[\"label\"] = pd.cut(df[\"CGPA\"], bins=[0,1,2,3,4,5,6,7,8,9,10])\n",
    "    df = df.astype({\"label\":\"str\"})\n",
    "\n",
    "    fig = go.Figure()\n",
    "\n",
    "    # Add a seprate trace for each branch's histogram\n",
    "    fig.add_trace(go.Histogram(histfunc=\"count\",y=df[df[\"Branch\"]==\"BE Chemical\"].ID,x=df[df[\"Branch\"]==\"BE Chemical\"].label,name=\"BE Chemical\"))\n",
    "    fig.add_trace(go.Histogram(histfunc=\"count\",y=df[df[\"Branch\"]==\"BE Civil\"].ID,x=df[df[\"Branch\"]==\"BE Civil\"].label,name=\"BE Civil\"))\n",
    "    fig.add_trace(go.Histogram(histfunc=\"count\",y=df[df[\"Branch\"]==\"BE EEE\"].ID,x=df[df[\"Branch\"]==\"BE EEE\"].label,name=\"BE EEE\"))\n",
    "    fig.add_trace(go.Histogram(histfunc=\"count\",y=df[df[\"Branch\"]==\"BE Mechanical\"].ID,x=df[df[\"Branch\"]==\"BE Mechanical\"].label,name=\"BE Mechanical\"))\n",
    "    fig.add_trace(go.Histogram(histfunc=\"count\",y=df[df[\"Branch\"]==\"BE Pharma\"].ID,x=df[df[\"Branch\"]==\"BE Pharma\"].label,name=\"BE Pharma\"))\n",
    "    fig.add_trace(go.Histogram(histfunc=\"count\",y=df[df[\"Branch\"]==\"BE Computer Science\"].ID,x=df[df[\"Branch\"]==\"BE Computer Science\"].label,name=\"BE Computer Science\"))\n",
    "    fig.add_trace(go.Histogram(histfunc=\"count\",y=df[df[\"Branch\"]==\"BE ENI\"].ID,x=df[df[\"Branch\"]==\"BE ENI\"].label,name=\"BE ENI\"))\n",
    "    fig.add_trace(go.Histogram(histfunc=\"count\",y=df[df[\"Branch\"]==\"BE ECE\"].ID,x=df[df[\"Branch\"]==\"BE ECE\"].label,name=\"BE ECE\"))\n",
    "    fig.add_trace(go.Histogram(histfunc=\"count\",y=df[df[\"Branch\"]==\"MSc Biology\"].ID,x=df[df[\"Branch\"]==\"MSc Biology\"].label,name=\"MSc Biology\"))\n",
    "    fig.add_trace(go.Histogram(histfunc=\"count\",y=df[df[\"Branch\"]==\"MSc Chemistry\"].ID,x=df[df[\"Branch\"]==\"MSc Chemistry\"].label,name=\"MSc Chemistry\"))\n",
    "    fig.add_trace(go.Histogram(histfunc=\"count\",y=df[df[\"Branch\"]==\"MSc Economics\"].ID,x=df[df[\"Branch\"]==\"MSc Economics\"].label,name=\"MSc Economics\"))\n",
    "    fig.add_trace(go.Histogram(histfunc=\"count\",y=df[df[\"Branch\"]==\"MSc Mathematics\"].ID,x=df[df[\"Branch\"]==\"MSc Mathematics\"].label,name=\"MSc Mathematics\"))\n",
    "    fig.add_trace(go.Histogram(histfunc=\"count\",y=df[df[\"Branch\"]==\"MSc Physics\"].ID,x=df[df[\"Branch\"]==\"MSc Physics\"].label,name=\"MSc Physics\"))\n",
    "\n",
    "    # Add buttons and configure dropdown\n",
    "    fig.update_layout(\n",
    "    updatemenus=[\n",
    "        dict(\n",
    "            active=0,\n",
    "            buttons=list([\n",
    "                dict(label=\"All Branches\",\n",
    "                     method=\"update\",\n",
    "                     args=[{\"visible\": [True, True, True, True, True, True, True, True, True, True, True, True, True]},\n",
    "                           {\"title\": \"CGPA Ranges vs Number of students for All Branches\",\n",
    "                            \"annotations\": []}]),\n",
    "                dict(label=\"BE Chemical\",\n",
    "                     method=\"update\",\n",
    "                     args=[{\"visible\": [True, False, False, False, False, False, False, False, False, False, False, False, False]},\n",
    "                           {\"title\": \"CGPA Ranges vs Number of students for BE Chemical\",\n",
    "                            \"annotations\": []}]),\n",
    "                dict(label=\"BE Civil\",\n",
    "                     method=\"update\",\n",
    "                     args=[{\"visible\": [False, True, False, False, False, False, False, False, False, False, False, False, False]},\n",
    "                           {\"title\": \"CGPA Ranges vs Number of students for BE Civil\",\n",
    "                            \"annotations\": []}]),\n",
    "                dict(label=\"BE EEE\",\n",
    "                     method=\"update\",\n",
    "                     args=[{\"visible\": [False, False, True, False, False, False, False, False, False, False, False, False, False]},\n",
    "                           {\"title\": \"CGPA Ranges vs Number of students for BE EEE\",\n",
    "                            \"annotations\": []}]),\n",
    "                dict(label=\"BE Mechanical\",\n",
    "                     method=\"update\",\n",
    "                     args=[{\"visible\": [False, False, False, True, False, False, False, False, False, False, False, False, False]},\n",
    "                           {\"title\": \"CGPA Ranges vs Number of students for BE Mechanical\",\n",
    "                            \"annotations\": []}]),\n",
    "                dict(label=\"BE Pharma\",\n",
    "                     method=\"update\",\n",
    "                     args=[{\"visible\": [False, False, False, False, True, False, False, False, False, False, False, False, False]},\n",
    "                           {\"title\": \"CGPA Ranges vs Number of students for BE Pharma\",\n",
    "                            \"annotations\": []}]),\n",
    "                dict(label=\"BE Computer Science\",\n",
    "                     method=\"update\",\n",
    "                     args=[{\"visible\": [False, False, False, False, False, True, False, False, False, False, False, False, False]},\n",
    "                           {\"title\": \"CGPA Ranges vs Number of students for BE Computer Science\",\n",
    "                            \"annotations\": []}]),\n",
    "                dict(label=\"BE ENI\",\n",
    "                     method=\"update\",\n",
    "                     args=[{\"visible\": [False, False, False, False, False, False, True, False, False, False, False, False, False]},\n",
    "                           {\"title\": \"CGPA Ranges vs Number of students for BE ENI\",\n",
    "                            \"annotations\": []}]),\n",
    "                dict(label=\"BE ECE\",\n",
    "                     method=\"update\",\n",
    "                     args=[{\"visible\": [False, False, False, False, False, False, False, True, False, False, False, False, False]},\n",
    "                           {\"title\": \"CGPA Ranges vs Number of students for BE ECE\",\n",
    "                            \"annotations\": []}]),\n",
    "                dict(label=\"MSc Biology\",\n",
    "                     method=\"update\",\n",
    "                     args=[{\"visible\": [False, False, False, False, False, False, False, False, True, False, False, False, False]},\n",
    "                           {\"title\": \"CGPA Ranges vs Number of students for MSc Biology\",\n",
    "                            \"annotations\": []}]),\n",
    "                dict(label=\"MSc Chemistry\",\n",
    "                     method=\"update\",\n",
    "                     args=[{\"visible\": [False, False, False, False, False, False, False, False, False, True, False, False, False]},\n",
    "                           {\"title\": \"CGPA Ranges vs Number of students for MSc Chemistry\",\n",
    "                            \"annotations\": []}]),\n",
    "                dict(label=\"MSc Economics\",\n",
    "                     method=\"update\",\n",
    "                     args=[{\"visible\": [False, False, False, False, False, False, False, False, False, False, True, False, False]},\n",
    "                           {\"title\": \"CGPA Ranges vs Number of students for MSc Economics\",\n",
    "                            \"annotations\": []}]),\n",
    "                dict(label=\"MSc Mathematics\",\n",
    "                     method=\"update\",\n",
    "                     args=[{\"visible\": [False, False, False, False, False, False, False, False, False, False, False, True, False]},\n",
    "                           {\"title\": \"CGPA Ranges vs Number of students for MSc Mathematics\",\n",
    "                            \"annotations\": []}]),\n",
    "                dict(label=\"MSc Physics\",\n",
    "                     method=\"update\",\n",
    "                     args=[{\"visible\": [False, False, False, False, False, False, False, False, False, False, False, False, True]},\n",
    "                           {\"title\": \"CGPA Ranges vs Number of students for MSc Physics\",\n",
    "                            \"annotations\": []}]),\n",
    "            ]),\n",
    "        )\n",
    "    ])\n",
    "\n",
    "    # Final Touches\n",
    "    fig.update_layout(title=\"CGPA Ranges vs Number of students for All Branches\",xaxis_title='CG Ranges', yaxis_title='Number of students')\n",
    "    fig.update_xaxes(categoryorder='array', categoryarray=[\"(4, 5]\", \"(5, 6]\", \"(6, 7]\", \"(7, 8]\",\"(8, 9]\",\"(9, 10]\"])\n",
    "    fig.update_traces(hovertemplate =\n",
    "    'Number of students: %{y}'+'<br>CG range: %{x}<br><extra></extra>')\n",
    "    fig.show()\n",
    "\n",
    "cghistogram(df)\n"
   ]
  },
  {
   "cell_type": "code",
   "execution_count": 8,
   "metadata": {},
   "outputs": [
    {
     "data": {
      "application/vnd.plotly.v1+json": {
       "config": {
        "plotlyServerURL": "https://plot.ly"
       },
       "data": [
        {
         "alignmentgroup": "True",
         "hovertemplate": "Number of students: %{y}<br>Branch: %{x}<br>",
         "legendgroup": "",
         "marker": {
          "color": "#636efa",
          "pattern": {
           "shape": ""
          }
         },
         "name": "",
         "offsetgroup": "",
         "orientation": "v",
         "showlegend": false,
         "textposition": "auto",
         "texttemplate": "%{y}",
         "type": "bar",
         "x": [
          "BE Chemical",
          "BE Civil",
          "BE Computer Science",
          "BE ECE",
          "BE EEE",
          "BE ENI",
          "BE Mechanical",
          "BE Pharma",
          "MSc Economics",
          "MSc Mathematics",
          "MSc Physics"
         ],
         "xaxis": "x",
         "y": [
          7,
          2,
          10,
          9,
          6,
          1,
          8,
          12,
          1,
          1,
          2
         ],
         "yaxis": "y"
        }
       ],
       "layout": {
        "barmode": "relative",
        "legend": {
         "tracegroupgap": 0
        },
        "margin": {
         "t": 60
        },
        "template": {
         "data": {
          "bar": [
           {
            "error_x": {
             "color": "#2a3f5f"
            },
            "error_y": {
             "color": "#2a3f5f"
            },
            "marker": {
             "line": {
              "color": "#E5ECF6",
              "width": 0.5
             },
             "pattern": {
              "fillmode": "overlay",
              "size": 10,
              "solidity": 0.2
             }
            },
            "type": "bar"
           }
          ],
          "barpolar": [
           {
            "marker": {
             "line": {
              "color": "#E5ECF6",
              "width": 0.5
             },
             "pattern": {
              "fillmode": "overlay",
              "size": 10,
              "solidity": 0.2
             }
            },
            "type": "barpolar"
           }
          ],
          "carpet": [
           {
            "aaxis": {
             "endlinecolor": "#2a3f5f",
             "gridcolor": "white",
             "linecolor": "white",
             "minorgridcolor": "white",
             "startlinecolor": "#2a3f5f"
            },
            "baxis": {
             "endlinecolor": "#2a3f5f",
             "gridcolor": "white",
             "linecolor": "white",
             "minorgridcolor": "white",
             "startlinecolor": "#2a3f5f"
            },
            "type": "carpet"
           }
          ],
          "choropleth": [
           {
            "colorbar": {
             "outlinewidth": 0,
             "ticks": ""
            },
            "type": "choropleth"
           }
          ],
          "contour": [
           {
            "colorbar": {
             "outlinewidth": 0,
             "ticks": ""
            },
            "colorscale": [
             [
              0,
              "#0d0887"
             ],
             [
              0.1111111111111111,
              "#46039f"
             ],
             [
              0.2222222222222222,
              "#7201a8"
             ],
             [
              0.3333333333333333,
              "#9c179e"
             ],
             [
              0.4444444444444444,
              "#bd3786"
             ],
             [
              0.5555555555555556,
              "#d8576b"
             ],
             [
              0.6666666666666666,
              "#ed7953"
             ],
             [
              0.7777777777777778,
              "#fb9f3a"
             ],
             [
              0.8888888888888888,
              "#fdca26"
             ],
             [
              1,
              "#f0f921"
             ]
            ],
            "type": "contour"
           }
          ],
          "contourcarpet": [
           {
            "colorbar": {
             "outlinewidth": 0,
             "ticks": ""
            },
            "type": "contourcarpet"
           }
          ],
          "heatmap": [
           {
            "colorbar": {
             "outlinewidth": 0,
             "ticks": ""
            },
            "colorscale": [
             [
              0,
              "#0d0887"
             ],
             [
              0.1111111111111111,
              "#46039f"
             ],
             [
              0.2222222222222222,
              "#7201a8"
             ],
             [
              0.3333333333333333,
              "#9c179e"
             ],
             [
              0.4444444444444444,
              "#bd3786"
             ],
             [
              0.5555555555555556,
              "#d8576b"
             ],
             [
              0.6666666666666666,
              "#ed7953"
             ],
             [
              0.7777777777777778,
              "#fb9f3a"
             ],
             [
              0.8888888888888888,
              "#fdca26"
             ],
             [
              1,
              "#f0f921"
             ]
            ],
            "type": "heatmap"
           }
          ],
          "heatmapgl": [
           {
            "colorbar": {
             "outlinewidth": 0,
             "ticks": ""
            },
            "colorscale": [
             [
              0,
              "#0d0887"
             ],
             [
              0.1111111111111111,
              "#46039f"
             ],
             [
              0.2222222222222222,
              "#7201a8"
             ],
             [
              0.3333333333333333,
              "#9c179e"
             ],
             [
              0.4444444444444444,
              "#bd3786"
             ],
             [
              0.5555555555555556,
              "#d8576b"
             ],
             [
              0.6666666666666666,
              "#ed7953"
             ],
             [
              0.7777777777777778,
              "#fb9f3a"
             ],
             [
              0.8888888888888888,
              "#fdca26"
             ],
             [
              1,
              "#f0f921"
             ]
            ],
            "type": "heatmapgl"
           }
          ],
          "histogram": [
           {
            "marker": {
             "pattern": {
              "fillmode": "overlay",
              "size": 10,
              "solidity": 0.2
             }
            },
            "type": "histogram"
           }
          ],
          "histogram2d": [
           {
            "colorbar": {
             "outlinewidth": 0,
             "ticks": ""
            },
            "colorscale": [
             [
              0,
              "#0d0887"
             ],
             [
              0.1111111111111111,
              "#46039f"
             ],
             [
              0.2222222222222222,
              "#7201a8"
             ],
             [
              0.3333333333333333,
              "#9c179e"
             ],
             [
              0.4444444444444444,
              "#bd3786"
             ],
             [
              0.5555555555555556,
              "#d8576b"
             ],
             [
              0.6666666666666666,
              "#ed7953"
             ],
             [
              0.7777777777777778,
              "#fb9f3a"
             ],
             [
              0.8888888888888888,
              "#fdca26"
             ],
             [
              1,
              "#f0f921"
             ]
            ],
            "type": "histogram2d"
           }
          ],
          "histogram2dcontour": [
           {
            "colorbar": {
             "outlinewidth": 0,
             "ticks": ""
            },
            "colorscale": [
             [
              0,
              "#0d0887"
             ],
             [
              0.1111111111111111,
              "#46039f"
             ],
             [
              0.2222222222222222,
              "#7201a8"
             ],
             [
              0.3333333333333333,
              "#9c179e"
             ],
             [
              0.4444444444444444,
              "#bd3786"
             ],
             [
              0.5555555555555556,
              "#d8576b"
             ],
             [
              0.6666666666666666,
              "#ed7953"
             ],
             [
              0.7777777777777778,
              "#fb9f3a"
             ],
             [
              0.8888888888888888,
              "#fdca26"
             ],
             [
              1,
              "#f0f921"
             ]
            ],
            "type": "histogram2dcontour"
           }
          ],
          "mesh3d": [
           {
            "colorbar": {
             "outlinewidth": 0,
             "ticks": ""
            },
            "type": "mesh3d"
           }
          ],
          "parcoords": [
           {
            "line": {
             "colorbar": {
              "outlinewidth": 0,
              "ticks": ""
             }
            },
            "type": "parcoords"
           }
          ],
          "pie": [
           {
            "automargin": true,
            "type": "pie"
           }
          ],
          "scatter": [
           {
            "fillpattern": {
             "fillmode": "overlay",
             "size": 10,
             "solidity": 0.2
            },
            "type": "scatter"
           }
          ],
          "scatter3d": [
           {
            "line": {
             "colorbar": {
              "outlinewidth": 0,
              "ticks": ""
             }
            },
            "marker": {
             "colorbar": {
              "outlinewidth": 0,
              "ticks": ""
             }
            },
            "type": "scatter3d"
           }
          ],
          "scattercarpet": [
           {
            "marker": {
             "colorbar": {
              "outlinewidth": 0,
              "ticks": ""
             }
            },
            "type": "scattercarpet"
           }
          ],
          "scattergeo": [
           {
            "marker": {
             "colorbar": {
              "outlinewidth": 0,
              "ticks": ""
             }
            },
            "type": "scattergeo"
           }
          ],
          "scattergl": [
           {
            "marker": {
             "colorbar": {
              "outlinewidth": 0,
              "ticks": ""
             }
            },
            "type": "scattergl"
           }
          ],
          "scattermapbox": [
           {
            "marker": {
             "colorbar": {
              "outlinewidth": 0,
              "ticks": ""
             }
            },
            "type": "scattermapbox"
           }
          ],
          "scatterpolar": [
           {
            "marker": {
             "colorbar": {
              "outlinewidth": 0,
              "ticks": ""
             }
            },
            "type": "scatterpolar"
           }
          ],
          "scatterpolargl": [
           {
            "marker": {
             "colorbar": {
              "outlinewidth": 0,
              "ticks": ""
             }
            },
            "type": "scatterpolargl"
           }
          ],
          "scatterternary": [
           {
            "marker": {
             "colorbar": {
              "outlinewidth": 0,
              "ticks": ""
             }
            },
            "type": "scatterternary"
           }
          ],
          "surface": [
           {
            "colorbar": {
             "outlinewidth": 0,
             "ticks": ""
            },
            "colorscale": [
             [
              0,
              "#0d0887"
             ],
             [
              0.1111111111111111,
              "#46039f"
             ],
             [
              0.2222222222222222,
              "#7201a8"
             ],
             [
              0.3333333333333333,
              "#9c179e"
             ],
             [
              0.4444444444444444,
              "#bd3786"
             ],
             [
              0.5555555555555556,
              "#d8576b"
             ],
             [
              0.6666666666666666,
              "#ed7953"
             ],
             [
              0.7777777777777778,
              "#fb9f3a"
             ],
             [
              0.8888888888888888,
              "#fdca26"
             ],
             [
              1,
              "#f0f921"
             ]
            ],
            "type": "surface"
           }
          ],
          "table": [
           {
            "cells": {
             "fill": {
              "color": "#EBF0F8"
             },
             "line": {
              "color": "white"
             }
            },
            "header": {
             "fill": {
              "color": "#C8D4E3"
             },
             "line": {
              "color": "white"
             }
            },
            "type": "table"
           }
          ]
         },
         "layout": {
          "annotationdefaults": {
           "arrowcolor": "#2a3f5f",
           "arrowhead": 0,
           "arrowwidth": 1
          },
          "autotypenumbers": "strict",
          "coloraxis": {
           "colorbar": {
            "outlinewidth": 0,
            "ticks": ""
           }
          },
          "colorscale": {
           "diverging": [
            [
             0,
             "#8e0152"
            ],
            [
             0.1,
             "#c51b7d"
            ],
            [
             0.2,
             "#de77ae"
            ],
            [
             0.3,
             "#f1b6da"
            ],
            [
             0.4,
             "#fde0ef"
            ],
            [
             0.5,
             "#f7f7f7"
            ],
            [
             0.6,
             "#e6f5d0"
            ],
            [
             0.7,
             "#b8e186"
            ],
            [
             0.8,
             "#7fbc41"
            ],
            [
             0.9,
             "#4d9221"
            ],
            [
             1,
             "#276419"
            ]
           ],
           "sequential": [
            [
             0,
             "#0d0887"
            ],
            [
             0.1111111111111111,
             "#46039f"
            ],
            [
             0.2222222222222222,
             "#7201a8"
            ],
            [
             0.3333333333333333,
             "#9c179e"
            ],
            [
             0.4444444444444444,
             "#bd3786"
            ],
            [
             0.5555555555555556,
             "#d8576b"
            ],
            [
             0.6666666666666666,
             "#ed7953"
            ],
            [
             0.7777777777777778,
             "#fb9f3a"
            ],
            [
             0.8888888888888888,
             "#fdca26"
            ],
            [
             1,
             "#f0f921"
            ]
           ],
           "sequentialminus": [
            [
             0,
             "#0d0887"
            ],
            [
             0.1111111111111111,
             "#46039f"
            ],
            [
             0.2222222222222222,
             "#7201a8"
            ],
            [
             0.3333333333333333,
             "#9c179e"
            ],
            [
             0.4444444444444444,
             "#bd3786"
            ],
            [
             0.5555555555555556,
             "#d8576b"
            ],
            [
             0.6666666666666666,
             "#ed7953"
            ],
            [
             0.7777777777777778,
             "#fb9f3a"
            ],
            [
             0.8888888888888888,
             "#fdca26"
            ],
            [
             1,
             "#f0f921"
            ]
           ]
          },
          "colorway": [
           "#636efa",
           "#EF553B",
           "#00cc96",
           "#ab63fa",
           "#FFA15A",
           "#19d3f3",
           "#FF6692",
           "#B6E880",
           "#FF97FF",
           "#FECB52"
          ],
          "font": {
           "color": "#2a3f5f"
          },
          "geo": {
           "bgcolor": "white",
           "lakecolor": "white",
           "landcolor": "#E5ECF6",
           "showlakes": true,
           "showland": true,
           "subunitcolor": "white"
          },
          "hoverlabel": {
           "align": "left"
          },
          "hovermode": "closest",
          "mapbox": {
           "style": "light"
          },
          "paper_bgcolor": "white",
          "plot_bgcolor": "#E5ECF6",
          "polar": {
           "angularaxis": {
            "gridcolor": "white",
            "linecolor": "white",
            "ticks": ""
           },
           "bgcolor": "#E5ECF6",
           "radialaxis": {
            "gridcolor": "white",
            "linecolor": "white",
            "ticks": ""
           }
          },
          "scene": {
           "xaxis": {
            "backgroundcolor": "#E5ECF6",
            "gridcolor": "white",
            "gridwidth": 2,
            "linecolor": "white",
            "showbackground": true,
            "ticks": "",
            "zerolinecolor": "white"
           },
           "yaxis": {
            "backgroundcolor": "#E5ECF6",
            "gridcolor": "white",
            "gridwidth": 2,
            "linecolor": "white",
            "showbackground": true,
            "ticks": "",
            "zerolinecolor": "white"
           },
           "zaxis": {
            "backgroundcolor": "#E5ECF6",
            "gridcolor": "white",
            "gridwidth": 2,
            "linecolor": "white",
            "showbackground": true,
            "ticks": "",
            "zerolinecolor": "white"
           }
          },
          "shapedefaults": {
           "line": {
            "color": "#2a3f5f"
           }
          },
          "ternary": {
           "aaxis": {
            "gridcolor": "white",
            "linecolor": "white",
            "ticks": ""
           },
           "baxis": {
            "gridcolor": "white",
            "linecolor": "white",
            "ticks": ""
           },
           "bgcolor": "#E5ECF6",
           "caxis": {
            "gridcolor": "white",
            "linecolor": "white",
            "ticks": ""
           }
          },
          "title": {
           "x": 0.05
          },
          "xaxis": {
           "automargin": true,
           "gridcolor": "white",
           "linecolor": "white",
           "ticks": "",
           "title": {
            "standoff": 15
           },
           "zerolinecolor": "white",
           "zerolinewidth": 2
          },
          "yaxis": {
           "automargin": true,
           "gridcolor": "white",
           "linecolor": "white",
           "ticks": "",
           "title": {
            "standoff": 15
           },
           "zerolinecolor": "white",
           "zerolinewidth": 2
          }
         }
        },
        "title": {
         "text": "Number of PS to TS convertions in 2018 batch (Branch Wise)"
        },
        "xaxis": {
         "anchor": "y",
         "domain": [
          0,
          1
         ],
         "title": {
          "text": "Branch"
         }
        },
        "yaxis": {
         "anchor": "x",
         "domain": [
          0,
          1
         ],
         "title": {
          "text": "Number of students"
         }
        }
       }
      }
     },
     "metadata": {},
     "output_type": "display_data"
    }
   ],
   "source": [
    "# Bar plot to show number of PS to TS conversions branchwise\n",
    "def PStoTS(df):\n",
    "\n",
    "    # Create new dataframe with number of conversions grouped by branch\n",
    "    ts = pd.DataFrame(df[df[\"ConvertedToTS\"]==True].groupby(\"Branch\").count()[\"ID\"]).reset_index()\n",
    "\n",
    "    # Create bar plot, update hover template and title\n",
    "    fig = px.bar(ts,x=\"Branch\",y=\"ID\", text_auto=True)\n",
    "    fig.update_layout(title = 'Number of PS to TS convertions in 2018 batch (Branch Wise)',xaxis_title=\"Branch\",yaxis_title=\"Number of students\")\n",
    "    fig.update_traces(hovertemplate =\n",
    "        'Number of students: %{y}'+\n",
    "        '<br>Branch: %{x}<br>')\n",
    "    fig.show()\n",
    "PStoTS(df)"
   ]
  },
  {
   "cell_type": "code",
   "execution_count": 9,
   "metadata": {},
   "outputs": [
    {
     "name": "stdout",
     "output_type": "stream",
     "text": [
      "Unique Departments: ['HSS' 'BITS' 'CS' 'ECON' 'EEE' 'GS' 'FIN' 'PHY' 'MATH' 'ME' 'MF' 'ECE'\n",
      " 'CE' 'CHE' 'MGTS' 'PHA' 'BIO' 'BIOT' 'IS' 'AN' 'CHEM' 'INSTR']\n"
     ]
    },
    {
     "data": {
      "application/vnd.plotly.v1+json": {
       "config": {
        "plotlyServerURL": "https://plot.ly"
       },
       "data": [
        {
         "domain": {
          "x": [
           0,
           1
          ],
          "y": [
           0,
           1
          ]
         },
         "hovertemplate": "Department=%{label}<br>Count=%{value}<extra></extra>",
         "labels": [
          "BITS",
          "Biology",
          "CS-IS",
          "Chemical",
          "Chemistry",
          "Civil",
          "Economics",
          "Electronics",
          "Humanities",
          "Mathematics",
          "Mechanical",
          "Pharmacy",
          "Physics"
         ],
         "legendgroup": "",
         "name": "",
         "showlegend": true,
         "type": "pie",
         "values": [
          256,
          23,
          254,
          23,
          8,
          26,
          236,
          130,
          452,
          51,
          96,
          17,
          54
         ]
        }
       ],
       "layout": {
        "legend": {
         "tracegroupgap": 0
        },
        "template": {
         "data": {
          "bar": [
           {
            "error_x": {
             "color": "#2a3f5f"
            },
            "error_y": {
             "color": "#2a3f5f"
            },
            "marker": {
             "line": {
              "color": "#E5ECF6",
              "width": 0.5
             },
             "pattern": {
              "fillmode": "overlay",
              "size": 10,
              "solidity": 0.2
             }
            },
            "type": "bar"
           }
          ],
          "barpolar": [
           {
            "marker": {
             "line": {
              "color": "#E5ECF6",
              "width": 0.5
             },
             "pattern": {
              "fillmode": "overlay",
              "size": 10,
              "solidity": 0.2
             }
            },
            "type": "barpolar"
           }
          ],
          "carpet": [
           {
            "aaxis": {
             "endlinecolor": "#2a3f5f",
             "gridcolor": "white",
             "linecolor": "white",
             "minorgridcolor": "white",
             "startlinecolor": "#2a3f5f"
            },
            "baxis": {
             "endlinecolor": "#2a3f5f",
             "gridcolor": "white",
             "linecolor": "white",
             "minorgridcolor": "white",
             "startlinecolor": "#2a3f5f"
            },
            "type": "carpet"
           }
          ],
          "choropleth": [
           {
            "colorbar": {
             "outlinewidth": 0,
             "ticks": ""
            },
            "type": "choropleth"
           }
          ],
          "contour": [
           {
            "colorbar": {
             "outlinewidth": 0,
             "ticks": ""
            },
            "colorscale": [
             [
              0,
              "#0d0887"
             ],
             [
              0.1111111111111111,
              "#46039f"
             ],
             [
              0.2222222222222222,
              "#7201a8"
             ],
             [
              0.3333333333333333,
              "#9c179e"
             ],
             [
              0.4444444444444444,
              "#bd3786"
             ],
             [
              0.5555555555555556,
              "#d8576b"
             ],
             [
              0.6666666666666666,
              "#ed7953"
             ],
             [
              0.7777777777777778,
              "#fb9f3a"
             ],
             [
              0.8888888888888888,
              "#fdca26"
             ],
             [
              1,
              "#f0f921"
             ]
            ],
            "type": "contour"
           }
          ],
          "contourcarpet": [
           {
            "colorbar": {
             "outlinewidth": 0,
             "ticks": ""
            },
            "type": "contourcarpet"
           }
          ],
          "heatmap": [
           {
            "colorbar": {
             "outlinewidth": 0,
             "ticks": ""
            },
            "colorscale": [
             [
              0,
              "#0d0887"
             ],
             [
              0.1111111111111111,
              "#46039f"
             ],
             [
              0.2222222222222222,
              "#7201a8"
             ],
             [
              0.3333333333333333,
              "#9c179e"
             ],
             [
              0.4444444444444444,
              "#bd3786"
             ],
             [
              0.5555555555555556,
              "#d8576b"
             ],
             [
              0.6666666666666666,
              "#ed7953"
             ],
             [
              0.7777777777777778,
              "#fb9f3a"
             ],
             [
              0.8888888888888888,
              "#fdca26"
             ],
             [
              1,
              "#f0f921"
             ]
            ],
            "type": "heatmap"
           }
          ],
          "heatmapgl": [
           {
            "colorbar": {
             "outlinewidth": 0,
             "ticks": ""
            },
            "colorscale": [
             [
              0,
              "#0d0887"
             ],
             [
              0.1111111111111111,
              "#46039f"
             ],
             [
              0.2222222222222222,
              "#7201a8"
             ],
             [
              0.3333333333333333,
              "#9c179e"
             ],
             [
              0.4444444444444444,
              "#bd3786"
             ],
             [
              0.5555555555555556,
              "#d8576b"
             ],
             [
              0.6666666666666666,
              "#ed7953"
             ],
             [
              0.7777777777777778,
              "#fb9f3a"
             ],
             [
              0.8888888888888888,
              "#fdca26"
             ],
             [
              1,
              "#f0f921"
             ]
            ],
            "type": "heatmapgl"
           }
          ],
          "histogram": [
           {
            "marker": {
             "pattern": {
              "fillmode": "overlay",
              "size": 10,
              "solidity": 0.2
             }
            },
            "type": "histogram"
           }
          ],
          "histogram2d": [
           {
            "colorbar": {
             "outlinewidth": 0,
             "ticks": ""
            },
            "colorscale": [
             [
              0,
              "#0d0887"
             ],
             [
              0.1111111111111111,
              "#46039f"
             ],
             [
              0.2222222222222222,
              "#7201a8"
             ],
             [
              0.3333333333333333,
              "#9c179e"
             ],
             [
              0.4444444444444444,
              "#bd3786"
             ],
             [
              0.5555555555555556,
              "#d8576b"
             ],
             [
              0.6666666666666666,
              "#ed7953"
             ],
             [
              0.7777777777777778,
              "#fb9f3a"
             ],
             [
              0.8888888888888888,
              "#fdca26"
             ],
             [
              1,
              "#f0f921"
             ]
            ],
            "type": "histogram2d"
           }
          ],
          "histogram2dcontour": [
           {
            "colorbar": {
             "outlinewidth": 0,
             "ticks": ""
            },
            "colorscale": [
             [
              0,
              "#0d0887"
             ],
             [
              0.1111111111111111,
              "#46039f"
             ],
             [
              0.2222222222222222,
              "#7201a8"
             ],
             [
              0.3333333333333333,
              "#9c179e"
             ],
             [
              0.4444444444444444,
              "#bd3786"
             ],
             [
              0.5555555555555556,
              "#d8576b"
             ],
             [
              0.6666666666666666,
              "#ed7953"
             ],
             [
              0.7777777777777778,
              "#fb9f3a"
             ],
             [
              0.8888888888888888,
              "#fdca26"
             ],
             [
              1,
              "#f0f921"
             ]
            ],
            "type": "histogram2dcontour"
           }
          ],
          "mesh3d": [
           {
            "colorbar": {
             "outlinewidth": 0,
             "ticks": ""
            },
            "type": "mesh3d"
           }
          ],
          "parcoords": [
           {
            "line": {
             "colorbar": {
              "outlinewidth": 0,
              "ticks": ""
             }
            },
            "type": "parcoords"
           }
          ],
          "pie": [
           {
            "automargin": true,
            "type": "pie"
           }
          ],
          "scatter": [
           {
            "fillpattern": {
             "fillmode": "overlay",
             "size": 10,
             "solidity": 0.2
            },
            "type": "scatter"
           }
          ],
          "scatter3d": [
           {
            "line": {
             "colorbar": {
              "outlinewidth": 0,
              "ticks": ""
             }
            },
            "marker": {
             "colorbar": {
              "outlinewidth": 0,
              "ticks": ""
             }
            },
            "type": "scatter3d"
           }
          ],
          "scattercarpet": [
           {
            "marker": {
             "colorbar": {
              "outlinewidth": 0,
              "ticks": ""
             }
            },
            "type": "scattercarpet"
           }
          ],
          "scattergeo": [
           {
            "marker": {
             "colorbar": {
              "outlinewidth": 0,
              "ticks": ""
             }
            },
            "type": "scattergeo"
           }
          ],
          "scattergl": [
           {
            "marker": {
             "colorbar": {
              "outlinewidth": 0,
              "ticks": ""
             }
            },
            "type": "scattergl"
           }
          ],
          "scattermapbox": [
           {
            "marker": {
             "colorbar": {
              "outlinewidth": 0,
              "ticks": ""
             }
            },
            "type": "scattermapbox"
           }
          ],
          "scatterpolar": [
           {
            "marker": {
             "colorbar": {
              "outlinewidth": 0,
              "ticks": ""
             }
            },
            "type": "scatterpolar"
           }
          ],
          "scatterpolargl": [
           {
            "marker": {
             "colorbar": {
              "outlinewidth": 0,
              "ticks": ""
             }
            },
            "type": "scatterpolargl"
           }
          ],
          "scatterternary": [
           {
            "marker": {
             "colorbar": {
              "outlinewidth": 0,
              "ticks": ""
             }
            },
            "type": "scatterternary"
           }
          ],
          "surface": [
           {
            "colorbar": {
             "outlinewidth": 0,
             "ticks": ""
            },
            "colorscale": [
             [
              0,
              "#0d0887"
             ],
             [
              0.1111111111111111,
              "#46039f"
             ],
             [
              0.2222222222222222,
              "#7201a8"
             ],
             [
              0.3333333333333333,
              "#9c179e"
             ],
             [
              0.4444444444444444,
              "#bd3786"
             ],
             [
              0.5555555555555556,
              "#d8576b"
             ],
             [
              0.6666666666666666,
              "#ed7953"
             ],
             [
              0.7777777777777778,
              "#fb9f3a"
             ],
             [
              0.8888888888888888,
              "#fdca26"
             ],
             [
              1,
              "#f0f921"
             ]
            ],
            "type": "surface"
           }
          ],
          "table": [
           {
            "cells": {
             "fill": {
              "color": "#EBF0F8"
             },
             "line": {
              "color": "white"
             }
            },
            "header": {
             "fill": {
              "color": "#C8D4E3"
             },
             "line": {
              "color": "white"
             }
            },
            "type": "table"
           }
          ]
         },
         "layout": {
          "annotationdefaults": {
           "arrowcolor": "#2a3f5f",
           "arrowhead": 0,
           "arrowwidth": 1
          },
          "autotypenumbers": "strict",
          "coloraxis": {
           "colorbar": {
            "outlinewidth": 0,
            "ticks": ""
           }
          },
          "colorscale": {
           "diverging": [
            [
             0,
             "#8e0152"
            ],
            [
             0.1,
             "#c51b7d"
            ],
            [
             0.2,
             "#de77ae"
            ],
            [
             0.3,
             "#f1b6da"
            ],
            [
             0.4,
             "#fde0ef"
            ],
            [
             0.5,
             "#f7f7f7"
            ],
            [
             0.6,
             "#e6f5d0"
            ],
            [
             0.7,
             "#b8e186"
            ],
            [
             0.8,
             "#7fbc41"
            ],
            [
             0.9,
             "#4d9221"
            ],
            [
             1,
             "#276419"
            ]
           ],
           "sequential": [
            [
             0,
             "#0d0887"
            ],
            [
             0.1111111111111111,
             "#46039f"
            ],
            [
             0.2222222222222222,
             "#7201a8"
            ],
            [
             0.3333333333333333,
             "#9c179e"
            ],
            [
             0.4444444444444444,
             "#bd3786"
            ],
            [
             0.5555555555555556,
             "#d8576b"
            ],
            [
             0.6666666666666666,
             "#ed7953"
            ],
            [
             0.7777777777777778,
             "#fb9f3a"
            ],
            [
             0.8888888888888888,
             "#fdca26"
            ],
            [
             1,
             "#f0f921"
            ]
           ],
           "sequentialminus": [
            [
             0,
             "#0d0887"
            ],
            [
             0.1111111111111111,
             "#46039f"
            ],
            [
             0.2222222222222222,
             "#7201a8"
            ],
            [
             0.3333333333333333,
             "#9c179e"
            ],
            [
             0.4444444444444444,
             "#bd3786"
            ],
            [
             0.5555555555555556,
             "#d8576b"
            ],
            [
             0.6666666666666666,
             "#ed7953"
            ],
            [
             0.7777777777777778,
             "#fb9f3a"
            ],
            [
             0.8888888888888888,
             "#fdca26"
            ],
            [
             1,
             "#f0f921"
            ]
           ]
          },
          "colorway": [
           "#636efa",
           "#EF553B",
           "#00cc96",
           "#ab63fa",
           "#FFA15A",
           "#19d3f3",
           "#FF6692",
           "#B6E880",
           "#FF97FF",
           "#FECB52"
          ],
          "font": {
           "color": "#2a3f5f"
          },
          "geo": {
           "bgcolor": "white",
           "lakecolor": "white",
           "landcolor": "#E5ECF6",
           "showlakes": true,
           "showland": true,
           "subunitcolor": "white"
          },
          "hoverlabel": {
           "align": "left"
          },
          "hovermode": "closest",
          "mapbox": {
           "style": "light"
          },
          "paper_bgcolor": "white",
          "plot_bgcolor": "#E5ECF6",
          "polar": {
           "angularaxis": {
            "gridcolor": "white",
            "linecolor": "white",
            "ticks": ""
           },
           "bgcolor": "#E5ECF6",
           "radialaxis": {
            "gridcolor": "white",
            "linecolor": "white",
            "ticks": ""
           }
          },
          "scene": {
           "xaxis": {
            "backgroundcolor": "#E5ECF6",
            "gridcolor": "white",
            "gridwidth": 2,
            "linecolor": "white",
            "showbackground": true,
            "ticks": "",
            "zerolinecolor": "white"
           },
           "yaxis": {
            "backgroundcolor": "#E5ECF6",
            "gridcolor": "white",
            "gridwidth": 2,
            "linecolor": "white",
            "showbackground": true,
            "ticks": "",
            "zerolinecolor": "white"
           },
           "zaxis": {
            "backgroundcolor": "#E5ECF6",
            "gridcolor": "white",
            "gridwidth": 2,
            "linecolor": "white",
            "showbackground": true,
            "ticks": "",
            "zerolinecolor": "white"
           }
          },
          "shapedefaults": {
           "line": {
            "color": "#2a3f5f"
           }
          },
          "ternary": {
           "aaxis": {
            "gridcolor": "white",
            "linecolor": "white",
            "ticks": ""
           },
           "baxis": {
            "gridcolor": "white",
            "linecolor": "white",
            "ticks": ""
           },
           "bgcolor": "#E5ECF6",
           "caxis": {
            "gridcolor": "white",
            "linecolor": "white",
            "ticks": ""
           }
          },
          "title": {
           "x": 0.05
          },
          "xaxis": {
           "automargin": true,
           "gridcolor": "white",
           "linecolor": "white",
           "ticks": "",
           "title": {
            "standoff": 15
           },
           "zerolinecolor": "white",
           "zerolinewidth": 2
          },
          "yaxis": {
           "automargin": true,
           "gridcolor": "white",
           "linecolor": "white",
           "ticks": "",
           "title": {
            "standoff": 15
           },
           "zerolinecolor": "white",
           "zerolinewidth": 2
          }
         }
        },
        "title": {
         "text": "Distribution of number withdrawls per department 2021-2022 and 2022-2023"
        }
       }
      }
     },
     "metadata": {},
     "output_type": "display_data"
    }
   ],
   "source": [
    "# Function to plot departmentwise number of course withdrawls\n",
    "def withdrawl():   \n",
    "    ws2021_2022 = pd.read_excel('./Ws 2021-2022.xlsx')\n",
    "    ws2022_2023 = pd.read_excel('./Ws 2022-2023.xlsx')\n",
    "    # merge all rows of ws2021_2022 and ws2022_2023, adding a column \"dropping year\" in a new dataframe withdraw_df\n",
    "    ws2022_2023['Dropping Year'] = 2022\n",
    "    ws2021_2022['Dropping Year'] = 2021\n",
    "    withdraw_df = pd.concat([ws2021_2022, ws2022_2023], ignore_index=True)\n",
    "    # withdraw_df.reset_index()\n",
    "    \n",
    "    withdraw_df.head(8)\n",
    "    # plotly pie chart using Subject column, plot shows number of students who dropped out of each subject\n",
    "    subject_count = withdraw_df['Subject'].value_counts() # number of students who dropped out of each subject\n",
    "    subject_count = subject_count.reset_index()\n",
    "    subject_count.columns = ['Subject', 'Count']\n",
    "    subject_count[\"Department\"] = subject_count[\"Subject\"]\n",
    "    subject_count = subject_count.drop(['Subject'], axis=1)\n",
    "    # make Department the first column\n",
    "    subject_count = subject_count[['Department', 'Count']]\n",
    "    # print all unique Departments\n",
    "    print(\"Unique Departments: \" + str(subject_count['Department'].unique()))\n",
    "    \n",
    "    # Group the similar branches into departments\n",
    "    def group_departments(department):\n",
    "        if department in ['HSS', 'GS']:\n",
    "            return 'Humanities'\n",
    "        elif department in ['CS', 'IS']:\n",
    "            return 'CS-IS'\n",
    "        elif department in ['ECON', 'FIN', 'MGTS']:\n",
    "            return 'Economics'\n",
    "        elif department in ['EEE', 'ECE', 'INSTR']:\n",
    "            return 'Electronics'\n",
    "        elif department in ['MF', 'ME', 'AN']:\n",
    "            return 'Mechanical'\n",
    "        elif department in ['BIO', 'BIOT']:\n",
    "            return 'Biology'\n",
    "        elif department in ['PHY']:\n",
    "            return 'Physics'\n",
    "        elif department in ['MATH']:\n",
    "            return 'Mathematics'\n",
    "        elif department in ['CE']:\n",
    "            return 'Civil'\n",
    "        elif department in ['CHE']:\n",
    "            return 'Chemical'\n",
    "        elif department in ['CHEM']:\n",
    "            return 'Chemistry'\n",
    "        elif department in ['PHA']:\n",
    "            return 'Pharmacy'\n",
    "        else:\n",
    "            return department\n",
    "    \n",
    "    subject_count['Department'] = subject_count['Department'].apply(group_departments)\n",
    "    subject_count = subject_count.groupby(['Department'])['Count'].sum() #.sum is used to group by department and sum the count of students who dropped out of each subject\n",
    "    subject_count.reset_index()\n",
    "    fig = px.pie(subject_count, values='Count', names=subject_count.index, title='Distribution of number withdrawls per department 2021-2022 and 2022-2023')\n",
    "    fig.show()\n",
    "withdrawl()   "
   ]
  },
  {
   "cell_type": "code",
   "execution_count": 10,
   "metadata": {},
   "outputs": [
    {
     "data": {
      "application/vnd.plotly.v1+json": {
       "config": {
        "plotlyServerURL": "https://plot.ly"
       },
       "data": [
        {
         "customdata": [
          [
           "RAHUL PRABHAKAR"
          ],
          [
           "VARUN HEMANT KUMAR PATEL"
          ],
          [
           "HARSH SHARMA"
          ],
          [
           "PRANAV ROY"
          ],
          [
           "CHENNA SHREE PRIYA"
          ],
          [
           "KUMAR SOURABH"
          ],
          [
           "SARTHAK GUPTA"
          ],
          [
           "HARDIK HURKAT"
          ],
          [
           "GOURI KARTHIK GEMBALI"
          ],
          [
           "GURBAAN SINGH SABARWAL"
          ],
          [
           "RISHIT AGARWAL"
          ],
          [
           "GEDDAVALASA JITENDRA"
          ],
          [
           "V ABHISHEK"
          ],
          [
           "ARYANSH RAJ SAXENA"
          ],
          [
           "TAVISHI"
          ],
          [
           "LAHAREE GHOSH"
          ],
          [
           "BANDI SOWMYA"
          ],
          [
           "ALLAM VENKATA SAI SURYA"
          ],
          [
           "JHA DEEPTANK VINODKUMAR"
          ],
          [
           "NAMAN BUNG"
          ],
          [
           "RITIK JAIN LODHA"
          ],
          [
           "ADITYA TYAGI"
          ],
          [
           "SHUBHANSHU GUPTA"
          ],
          [
           "RAVI SWAMI ADITYA RAVI"
          ],
          [
           "AMBADKAR ADITYA PRASHANT"
          ],
          [
           "AASTHA GANDHI"
          ],
          [
           "NISHAD DINESH MAHAJAN"
          ],
          [
           "VORA DIVYA HEMALBHAI"
          ],
          [
           "HARSH VASHISTHA"
          ],
          [
           "SHAGUN MISHRA"
          ],
          [
           "SHIVANG YADAV"
          ],
          [
           "ANKIT ASAWA"
          ],
          [
           "RAJATH RAJESH"
          ],
          [
           "SRISHTI ARYA"
          ],
          [
           "UTKARSH UPADHYAY"
          ],
          [
           "KARANSINGH BISHT"
          ],
          [
           "RAKSHIT KAKANI"
          ],
          [
           "VIJAY BHARATH A"
          ],
          [
           "MIHIR SUNIL DABADGHAO"
          ],
          [
           "BHAVI JAROLI"
          ],
          [
           "ADVAITA ARYAN JHA"
          ],
          [
           "MOHIT MALLICK"
          ],
          [
           "NITIN V P"
          ],
          [
           "DEVANSHI SINGH"
          ],
          [
           "MEDICHARLA V K RAJEEV SRIKAR"
          ],
          [
           "JENIL R AGRAWAL"
          ],
          [
           "KEDIA ANANT GAURAV"
          ],
          [
           "ANIRUDH PAREKH"
          ],
          [
           "TANAY NAGAR"
          ],
          [
           "ABHINAND J PAI"
          ],
          [
           "ANUSHA AGARWAL"
          ],
          [
           "ABHISHEK MUKHERJEE"
          ]
         ],
         "hovertemplate": "Branch=BE Chemical<br>BITSAT Score=%{x}<br>CGPA=%{y}<br>Name=%{customdata[0]}<extra></extra>",
         "legendgroup": "BE Chemical",
         "marker": {
          "color": "#636efa",
          "symbol": "circle"
         },
         "mode": "markers",
         "name": "BE Chemical",
         "orientation": "v",
         "showlegend": true,
         "type": "scatter",
         "x": [
          275,
          266,
          267,
          283,
          286,
          263,
          266,
          277,
          264,
          274,
          262,
          282,
          281,
          277,
          262,
          265,
          267,
          262,
          264,
          263,
          262,
          266,
          264,
          263,
          261,
          265,
          257,
          259,
          266,
          259,
          260,
          271,
          272,
          258,
          272,
          262,
          259,
          258,
          257,
          257,
          258,
          257,
          259,
          261,
          262,
          278,
          266,
          270,
          259,
          259,
          277,
          270
         ],
         "xaxis": "x",
         "y": [
          6.41,
          7.34,
          6.94,
          8.76,
          8.33,
          6.18,
          9,
          7.01,
          7.72,
          8.29,
          8.62,
          7.33,
          7.03,
          7.49,
          8.15,
          8.1,
          7.73,
          7.63,
          8.15,
          8.04,
          7.4,
          8.07,
          7.7,
          7.89,
          8.86,
          7.94,
          7.07,
          7.7,
          7.99,
          8.89,
          7.61,
          8.07,
          7.52,
          8.34,
          9.16,
          8.12,
          8.8,
          6.9,
          7.76,
          7.04,
          7.37,
          6.57,
          8.63,
          8.11,
          8.12,
          8.38,
          8.3,
          7.77,
          8.05,
          8.86,
          9.01,
          9.73
         ],
         "yaxis": "y"
        },
        {
         "customdata": [
          [
           "VIJAY KUMAR PUTCHALA"
          ],
          [
           "HRISHIKESH GHADGE"
          ],
          [
           "AMITESH SINGH BAIS"
          ],
          [
           "NITESH KUMAR PALAI"
          ],
          [
           "VANKAYALAPATI LOT ABHISHEK"
          ],
          [
           "HIMANSHU MOHAN"
          ],
          [
           "MOHAMMED MASIHUDDIN"
          ],
          [
           "SARTHAK RATH"
          ],
          [
           "PUNEET ARORA"
          ],
          [
           "PARIKSHIT MAHALA"
          ],
          [
           "SYED MUSAVVIR MEHMOOD BASHA KHADRI"
          ],
          [
           "NIPUN TEWARI"
          ],
          [
           "VIBHOR JAKHAR"
          ],
          [
           "MEELA SUMANTH"
          ],
          [
           "ADITYA VIKRAM SINGH"
          ],
          [
           "SHIVANSH SONI"
          ],
          [
           "ATHARVA SANTOSH CHIKTE"
          ],
          [
           "PRAJITH KUMAR THOMMUNDRU"
          ],
          [
           "SOHAM AGARWAL"
          ],
          [
           "HRIDIK PUNUKOLLU"
          ],
          [
           "KANDELA VISION REDDY"
          ],
          [
           "GUVVALA GOPI REDDY"
          ],
          [
           "LAKSHMIPALLI VENKATA SURYA DEEPAK"
          ],
          [
           "KARRI ABHI RAM"
          ],
          [
           "ATHARVA MULEY"
          ],
          [
           "NISHANT KUMAR"
          ],
          [
           "PRABODH RANJAN TEWARI"
          ],
          [
           "NAIVEDYA KRISHN"
          ],
          [
           "MANAN AHUJA"
          ],
          [
           "SAYANTAN RAY"
          ],
          [
           "RUDDARRAJU JAGADISH SURYA VARMA"
          ],
          [
           "POLISETTI SAI VAMSI"
          ],
          [
           "AKSHAT SHARMA"
          ],
          [
           "M HARIKESHA"
          ],
          [
           "AKSHAT MOHAN GUPTA"
          ],
          [
           "VEDANT SINGH"
          ],
          [
           "RAKSHIT"
          ],
          [
           "KHAJA MUAWINUDDIN AHMED"
          ],
          [
           "NISHANT KAKANI"
          ],
          [
           "SANKA SAI SRAVAN"
          ],
          [
           "MERLA DINESH SATHWIK"
          ],
          [
           "VISHNUBHOTLA NAGA BHARADWAJ"
          ],
          [
           "LADE NIKESH"
          ],
          [
           "BODUGU VAMSI KRISHNA"
          ],
          [
           "ADITYA AGRAWAL"
          ],
          [
           "DIVYANK SHARMA"
          ],
          [
           "SUBHRANSU BABOO"
          ],
          [
           "ADITYA RAHUL JAMBHOLKAR"
          ],
          [
           "VATSAL MAHESHWARI"
          ],
          [
           "HEMENDER SINGH CHAUHAN"
          ],
          [
           "ERANKI VENKATA JHAHNAVI"
          ],
          [
           "ANIRUDH AGRAWAL"
          ]
         ],
         "hovertemplate": "Branch=BE Civil<br>BITSAT Score=%{x}<br>CGPA=%{y}<br>Name=%{customdata[0]}<extra></extra>",
         "legendgroup": "BE Civil",
         "marker": {
          "color": "#EF553B",
          "symbol": "circle"
         },
         "mode": "markers",
         "name": "BE Civil",
         "orientation": "v",
         "showlegend": true,
         "type": "scatter",
         "x": [
          263,
          274,
          274,
          270,
          267,
          268,
          281,
          269,
          273,
          264,
          263,
          282,
          266,
          283,
          290,
          283,
          273,
          271,
          263,
          264,
          264,
          263,
          264,
          269,
          266,
          269,
          267,
          273,
          269,
          258,
          258,
          260,
          265,
          260,
          263,
          262,
          263,
          260,
          272,
          259,
          274,
          270,
          270,
          258,
          259,
          258,
          258,
          261,
          266,
          271,
          264,
          269
         ],
         "xaxis": "x",
         "y": [
          8.07,
          8.85,
          7.41,
          7.98,
          7.01,
          9.43,
          8.25,
          8.38,
          8.17,
          8.01,
          6.75,
          9.09,
          8.68,
          7.12,
          5.81,
          8.1,
          8.19,
          7.64,
          8.18,
          8.7,
          6.7,
          5.81,
          6.12,
          8.54,
          7.68,
          9.34,
          7.17,
          9.2,
          9.4,
          7.39,
          8.4,
          7.96,
          5.17,
          7.49,
          7.84,
          8.75,
          5.88,
          9.11,
          7.85,
          8.71,
          7.71,
          8.51,
          7.73,
          8.08,
          8.53,
          7.81,
          8.12,
          8.15,
          8.53,
          7.56,
          9.28,
          9.57
         ],
         "yaxis": "y"
        },
        {
         "customdata": [
          [
           "PRIYESH MOHTA"
          ],
          [
           "NAKUL VASHISHTHA"
          ],
          [
           "ARASANAPALAI SRIKANTH NAVYA SRI"
          ],
          [
           "KHANT YASHVI ASHOKKUMAR"
          ],
          [
           "SHIVAM KANKAL"
          ],
          [
           "ADIT ANDREW MOHANTY"
          ],
          [
           "AKSHAT RASTOGI"
          ],
          [
           "VEMU AROHI"
          ],
          [
           "SHUBHAM CHUGH"
          ],
          [
           "VIPUL ANANT"
          ],
          [
           "ARPIT DEEPAK ANWANI"
          ],
          [
           "MOHIT ASSUDANI"
          ],
          [
           "RAHUL AJMERIA"
          ],
          [
           "PRABHAV SHARMA"
          ],
          [
           "SHREYAS SRINIVASAN"
          ],
          [
           "AAKANKSHA SINGH"
          ],
          [
           "KAITAV SHAH"
          ],
          [
           "PRAVAR KHEMARIYA"
          ],
          [
           "SHAH RAJ VINAY"
          ],
          [
           "PARIJAAT B MITRA"
          ],
          [
           "ZADE VAIBHAV ARUN"
          ],
          [
           "AYUSHDEEP"
          ],
          [
           "ADITYA PANDEY"
          ],
          [
           "SIDDHARTHA GOSWAMI"
          ],
          [
           "SHUBH AGGARWAL"
          ],
          [
           "P SREE VISHNUSAI KARTHIK"
          ],
          [
           "BHURE AROONDHATI SANJAY"
          ],
          [
           "MOVVA KARTHIK TEJA"
          ],
          [
           "SHAH JAY PANKAJ"
          ],
          [
           "VINAYAK TRIPATHI"
          ],
          [
           "ABHIMANYU VAIDYA"
          ],
          [
           "ADARSH SHRIVASTAVA"
          ],
          [
           "SAICHARAN KOMMANA"
          ],
          [
           "KHAN UBAID MD SHAFIQUR REHMAN"
          ],
          [
           "ASHWIN MATHEW OLAKANGAL"
          ],
          [
           "AAKAR KUMAR"
          ],
          [
           "CHINTHALAPALLI ABHINAV MOHAN"
          ],
          [
           "PUCHAKALA SAI TEJA"
          ],
          [
           "THAMBABATHULA OMANA"
          ],
          [
           "ASHWIN E"
          ],
          [
           "RAJAT PRASHANT KHADE"
          ],
          [
           "PATNI AADEESH NEERAJ"
          ],
          [
           "VORUGANTI VASANTH"
          ],
          [
           "KUMMARA SRIRAM"
          ],
          [
           "PADILETI MEGHANADH"
          ],
          [
           "SHUDDHABHO NANDI"
          ],
          [
           "PRAKHAR TIWARI"
          ],
          [
           "DURGA KRISHNA VAMSI"
          ],
          [
           "ARUNEEMA DESHMUKH"
          ],
          [
           "SUDARSHAN MEHTA"
          ],
          [
           "ROHAN VERMA"
          ],
          [
           "ALOK RAI"
          ],
          [
           "AYUSH KUMAR SINGH"
          ],
          [
           "AMRITANSHU NAYAK"
          ],
          [
           "MANISH MODWANI"
          ],
          [
           "HARSH VARDHAN MEHER"
          ],
          [
           "ANIVEK KESHRI"
          ],
          [
           "ARIHANT JAIN M P"
          ],
          [
           "ANSHUMAN BHAGAWATI"
          ],
          [
           "BALAJI C"
          ],
          [
           "N SATYA AALOK BHAIRRAJU"
          ],
          [
           "VYSHNAVI S K"
          ],
          [
           "PRATYUSH NATH SAHU"
          ],
          [
           "ABHISHEK KHURANA"
          ],
          [
           "PRABHLEEN KAUR"
          ],
          [
           "PUTHA VENKATA ROHITH REDDY"
          ],
          [
           "MOHAMMED ANEES"
          ],
          [
           "AMAN SHARMA"
          ],
          [
           "DAKSH PANDEY"
          ],
          [
           "KARTIK KANOTRA"
          ],
          [
           "POTHEDAR AJAY"
          ],
          [
           "TARUN AGRAWAL"
          ],
          [
           "BURRA MANI VISHAL"
          ],
          [
           "BULLE ABHISHEK MANOJ"
          ],
          [
           "SHREYANSH KR SURANA"
          ],
          [
           "NERKAR RUTWIJ PRASHANT"
          ],
          [
           "ANDEY CHANAKYA"
          ],
          [
           "KOTAKONDA SRI KRISHNA VASISTA"
          ],
          [
           "P SRI SAI CHARAN"
          ],
          [
           "KASHISH AGRAWAL"
          ],
          [
           "PANDEY KRISHNAKANT BRAHMDEO"
          ],
          [
           "HARSHIT SHARMA"
          ],
          [
           "MANAS AWASTHI"
          ],
          [
           "RISHAV DATTA"
          ],
          [
           "YAPARLA NAGA SHASHANK REDDY"
          ],
          [
           "NITISH MITTAL"
          ],
          [
           "NARVEKAR ATHARVA HEMANT"
          ],
          [
           "SAYANTAN BISWAS"
          ],
          [
           "RITWIK DAS"
          ],
          [
           "KULKARNI OM PRASHANT"
          ],
          [
           "TEJUS VIDYADHAR KUSUR"
          ],
          [
           "JAY KARHADE"
          ],
          [
           "KHUSHI GUPTA"
          ],
          [
           "RUPSA DHAR"
          ],
          [
           "VODELA AMITH KUMAR"
          ]
         ],
         "hovertemplate": "Branch=BE EEE<br>BITSAT Score=%{x}<br>CGPA=%{y}<br>Name=%{customdata[0]}<extra></extra>",
         "legendgroup": "BE EEE",
         "marker": {
          "color": "#00cc96",
          "symbol": "circle"
         },
         "mode": "markers",
         "name": "BE EEE",
         "orientation": "v",
         "showlegend": true,
         "type": "scatter",
         "x": [
          303,
          298,
          299,
          308,
          306,
          302,
          306,
          305,
          308,
          299,
          303,
          307,
          319,
          304,
          313,
          320,
          307,
          306,
          317,
          304,
          317,
          305,
          309,
          304,
          304,
          304,
          310,
          303,
          303,
          306,
          306,
          304,
          306,
          305,
          310,
          309,
          308,
          312,
          307,
          309,
          303,
          305,
          310,
          306,
          311,
          303,
          304,
          306,
          306,
          302,
          299,
          306,
          299,
          309,
          300,
          299,
          300,
          305,
          305,
          299,
          300,
          300,
          299,
          307,
          300,
          301,
          307,
          306,
          306,
          307,
          308,
          299,
          302,
          300,
          304,
          299,
          306,
          298,
          306,
          300,
          298,
          298,
          298,
          300,
          312,
          302,
          301,
          299,
          304,
          304,
          308,
          299,
          298,
          315,
          305
         ],
         "xaxis": "x",
         "y": [
          7.7,
          7.49,
          8.63,
          8.32,
          8.24,
          7.21,
          8.17,
          8.16,
          8.59,
          8.07,
          8.07,
          7.78,
          8.37,
          7.47,
          7.84,
          8.75,
          7.55,
          7.49,
          6.46,
          7.68,
          8.13,
          8.24,
          7.05,
          8.68,
          7.98,
          6.18,
          9.1,
          7.81,
          8.41,
          7.28,
          8.39,
          7.45,
          7.55,
          8.52,
          8.17,
          6.97,
          7.64,
          6.96,
          6.67,
          9,
          7.14,
          8.53,
          7.1,
          5.26,
          6.94,
          7.89,
          7.92,
          7.82,
          7.81,
          8.31,
          8.35,
          7.55,
          7.17,
          8.63,
          8.06,
          8.32,
          8.26,
          7.62,
          8.43,
          7.13,
          7.15,
          9,
          8.43,
          8.13,
          8.79,
          8.16,
          8.01,
          7.99,
          8.01,
          7.66,
          7.4,
          7.69,
          6.79,
          6.59,
          8.29,
          8.28,
          6.59,
          6.97,
          6.1,
          8.53,
          8.3,
          8.61,
          6.17,
          8.8,
          6.89,
          8.6,
          8.44,
          8.15,
          7.1,
          7.3,
          8.32,
          8.88,
          8.34,
          9.42,
          9.35
         ],
         "yaxis": "y"
        },
        {
         "customdata": [
          [
           "S VIGNESH BHARADWAJ"
          ],
          [
           "NIPUN WAHI"
          ],
          [
           "UTKARSH GUPTA"
          ],
          [
           "VARADA HARSHINI DURGA"
          ],
          [
           "SHAURYA VIJAYVARGIYA"
          ],
          [
           "MIDUTHURU KARTHEEK"
          ],
          [
           "PRIYANSHI MISHRA"
          ],
          [
           "ANUBHAV TRIPATHY"
          ],
          [
           "GUNTAKALA VENKATA SAI KALAHAN"
          ],
          [
           "AAYUSH JAIN"
          ],
          [
           "DONTHU MOHITH KRISHNA"
          ],
          [
           "AKARSH SHRIVASTAVA"
          ],
          [
           "SAMYAK RAI"
          ],
          [
           "TANAY KUMAR"
          ],
          [
           "SOURAV PRASAD"
          ],
          [
           "ANANYA JAIN"
          ],
          [
           "SHUBHANKAR MAJUMDAR"
          ],
          [
           "S KARTHIK"
          ],
          [
           "SUPARTH GROVER"
          ],
          [
           "ABHIK SANTRA"
          ],
          [
           "ABHIRAJ SINGH"
          ],
          [
           "RAHUL BHARADIA"
          ],
          [
           "CHAUGULE DHRUV SANJAY"
          ],
          [
           "ABHIJITH S RAO"
          ],
          [
           "PAWAR NISHANT DEEPAK"
          ],
          [
           "BHAMINI CHAUHAN"
          ],
          [
           "KARTHIK C KARKERA"
          ],
          [
           "RISHABH JAIN"
          ],
          [
           "MADDHA ABHINAVA"
          ],
          [
           "KSHITIJ DUBEY"
          ],
          [
           "D M VISHNU VARDHAN"
          ],
          [
           "PARAM A BHATT"
          ],
          [
           "SAUMYA SRIVASTAVA"
          ],
          [
           "KETAN GOYAL"
          ],
          [
           "BETHI VENKATA SIVA JITHENDRA KUMAR REDDY"
          ],
          [
           "DISHA SURYAWANSHI"
          ],
          [
           "TADINADA VAMSI KRISHNA"
          ],
          [
           "KHADYE SHARDUL ANIL"
          ],
          [
           "INJAM SRI HARSHA"
          ],
          [
           "VEMPARALA LAXMI MANUHA"
          ],
          [
           "MAKULURI ANIRUDH RAGHAVENDRA"
          ],
          [
           "SHEETAL MADIKONDA"
          ],
          [
           "PINTO RICKSTON LANCON"
          ],
          [
           "SWASTIK MOHANTY"
          ],
          [
           "DEVANSHU MAHESHWARI"
          ],
          [
           "V ABHIJEET"
          ],
          [
           "R VENKATESH"
          ],
          [
           "RAGHAVARAPU VEER VIKAS"
          ],
          [
           "SYED JAMAL"
          ],
          [
           "SANGHITA CHAKRABORTY"
          ],
          [
           "KESHAV KABRA"
          ]
         ],
         "hovertemplate": "Branch=BE ENI<br>BITSAT Score=%{x}<br>CGPA=%{y}<br>Name=%{customdata[0]}<extra></extra>",
         "legendgroup": "BE ENI",
         "marker": {
          "color": "#ab63fa",
          "symbol": "circle"
         },
         "mode": "markers",
         "name": "BE ENI",
         "orientation": "v",
         "showlegend": true,
         "type": "scatter",
         "x": [
          290,
          288,
          288,
          289,
          296,
          289,
          287,
          288,
          292,
          289,
          289,
          303,
          311,
          295,
          293,
          298,
          294,
          287,
          294,
          295,
          294,
          294,
          293,
          302,
          298,
          295,
          300,
          295,
          294,
          294,
          294,
          297,
          298,
          297,
          295,
          295,
          291,
          287,
          289,
          289,
          287,
          291,
          287,
          286,
          298,
          290,
          290,
          290,
          287,
          294,
          308
         ],
         "xaxis": "x",
         "y": [
          9.64,
          9.57,
          7.57,
          7.89,
          8.02,
          8.06,
          7.79,
          6.36,
          6.37,
          8.07,
          7.88,
          7.37,
          7.19,
          8.34,
          7.14,
          8.23,
          6.77,
          6.78,
          7.61,
          7.18,
          7.19,
          7.61,
          7.89,
          7.98,
          8.19,
          8.35,
          8.1,
          8.74,
          8.45,
          8.11,
          8.14,
          8.15,
          7.76,
          8.86,
          6.62,
          7.9,
          7.41,
          7.17,
          7.36,
          9.06,
          7.27,
          7.91,
          7.3,
          6.55,
          8.25,
          8.29,
          8.32,
          7.93,
          8.45,
          7.63,
          9.08
         ],
         "yaxis": "y"
        },
        {
         "customdata": [
          [
           "KSHITIZ AGGARWAL"
          ],
          [
           "YASH ARORA"
          ],
          [
           "JATIN GUPTA"
          ],
          [
           "AMEYA JAIN"
          ],
          [
           "TANMAY OJHA"
          ],
          [
           "MAREPALLI ANAND"
          ],
          [
           "PRIYANSHU MISRA"
          ],
          [
           "BOGGARAPU S V PRANEET"
          ],
          [
           "AMAN KUMAR DAS"
          ],
          [
           "HARSH KUMAR"
          ],
          [
           "ANURAAG PRAHARAJ"
          ],
          [
           "SWETHA MAMIDIPOODI"
          ],
          [
           "AREEB AHMAD"
          ],
          [
           "NEHAL KAURA"
          ],
          [
           "SAYAN MUKHERJEE"
          ],
          [
           "SHASWAT TIWARI"
          ],
          [
           "CHHAPARWAL SARVESH KRISHNAGOPAL"
          ],
          [
           "HARSH KUMAR SRIVASTAVA"
          ],
          [
           "ARRABELLY SAI ANURAG REDDY"
          ],
          [
           "PAMIDI NITHIN KRISHNA"
          ],
          [
           "ANKIT SINHA"
          ],
          [
           "SHIVAM MILIND AKARTE"
          ],
          [
           "DASARI INDU KRISHNA"
          ],
          [
           "AMAN PRAKASH"
          ],
          [
           "KAJAL CHOUDHARY"
          ],
          [
           "SHAIK PARVEZ MUSHRAFF"
          ],
          [
           "D V V P PRANAV"
          ],
          [
           "ADITYA SINGH"
          ],
          [
           "DEVANSH KHANDELWAL"
          ],
          [
           "BUDIREDDY RAM SAMPREETH"
          ],
          [
           "ACHYUT DWIVEDI"
          ],
          [
           "SHIVAM GUPTA"
          ],
          [
           "ARUN KUMAR SAINI"
          ],
          [
           "RAMINENI PHANINDRA"
          ],
          [
           "B SRINIVASULU REDDY"
          ],
          [
           "VISSAMSETTY PRANAV"
          ],
          [
           "SHREEJEE AGARWAL"
          ],
          [
           "LOKESH KUMAR SAHOO"
          ],
          [
           "NILADRI NILAMADHAB"
          ],
          [
           "B N SAI RAJESH"
          ],
          [
           "UMAR SHAFIQ AHMAD"
          ],
          [
           "GEETESH R KESHWANI"
          ],
          [
           "A AMRUTH SRINIVAS"
          ],
          [
           "ANIRUDH GURURAJ TONASI"
          ],
          [
           "GANDHI OM GIRISH"
          ],
          [
           "B SAI VENKATESH"
          ],
          [
           "AMOGH SUBRAMANYA BARLA"
          ],
          [
           "KALIDINDI VINEETH VARMA"
          ],
          [
           "JAI SHARMA"
          ],
          [
           "AYUSH RAJENDRA MHASKE"
          ],
          [
           "RAJAT KUMAR"
          ],
          [
           "SWAPNIL KASHYAP"
          ],
          [
           "PUTTU GANDHI"
          ],
          [
           "SOUMIL GIRISH SAHU"
          ],
          [
           "SHUBHAM SINGH"
          ],
          [
           "PRIYANSHU PRAKASH"
          ],
          [
           "KHADKE MIHIR MILIND"
          ],
          [
           "HARSH KUMAR TIWARY"
          ],
          [
           "PANNALA BHARATH REDDY"
          ],
          [
           "ANGAD SINGH CHAHAL"
          ],
          [
           "PRATYUSH ANSON"
          ],
          [
           "J V N RUTHWICK"
          ],
          [
           "R BALA GANAPATHI"
          ],
          [
           "SAMAR"
          ],
          [
           "PARTH BISEN"
          ],
          [
           "PRASAD A"
          ],
          [
           "JOGINIPALLY HRUDAY SIDDHARTHA"
          ],
          [
           "MADREWAR GAURAV KASHINATH"
          ],
          [
           "RATNESH DAWAR"
          ],
          [
           "BINYAMEEN K V"
          ],
          [
           "DHAMMAPADA MOHAPATRA"
          ],
          [
           "KHETAWAT AKSHAT NEERAJ"
          ],
          [
           "ARYESH HARSHAL KOYA"
          ],
          [
           "PATEL AYAN ANMOL"
          ],
          [
           "VUNNAM ABHINAV CHOWDHARY"
          ],
          [
           "G AALWAR SUNDARAM"
          ],
          [
           "UROOJ AHMAD"
          ],
          [
           "PANGULURI JAYADEVA SAKETH"
          ],
          [
           "BALTHU SHARATH CHANDRA"
          ],
          [
           "NALLAPU SRINIVAS"
          ],
          [
           "SAI TEJA KOLLU"
          ],
          [
           "PRATIK MADHAN"
          ],
          [
           "SRIRAM KODEY"
          ],
          [
           "YASH KUMAWAT"
          ],
          [
           "SAKSHAM KUMAR"
          ],
          [
           "KUNALA NAGA VENKATA SAI SUBHASH"
          ],
          [
           "PASUMARTHI VENKAT"
          ],
          [
           "ADITYA CHAKILAM"
          ],
          [
           "KANDIAN VIHARI"
          ],
          [
           "BANDALUPPI GAUTHAM KRISHNA"
          ],
          [
           "SARODE AKASH DATHU RAO"
          ],
          [
           "SAWANT PRANAV GAUTAM"
          ],
          [
           "EDWIN THOMAS"
          ],
          [
           "ANGARAJU A JOGI NARENDRA VARMA"
          ],
          [
           "SUBHOJIT DHAR"
          ],
          [
           "DHANESH A ITCHHAPORIA"
          ],
          [
           "A SHIVA SAI"
          ],
          [
           "GYANAM PRAHARSHITHA"
          ],
          [
           "CHAITANYA PESHIN"
          ],
          [
           "JAIN AVNI ANKUR"
          ],
          [
           "NAMAN RATHI"
          ],
          [
           "SARVESH NAND KUMAR KHETAN"
          ],
          [
           "TIWARI MANAS SANTOSH"
          ],
          [
           "MAHESH SWAMINATHAN"
          ],
          [
           "SOUBHIK ROY"
          ],
          [
           "TANMAY SRIVASTAVA"
          ],
          [
           "CHANDAK SWASTIK  OMPRAKASH"
          ],
          [
           "C PADMA SAI MEGHANA"
          ],
          [
           "SAKSHAR  SHARMA"
          ],
          [
           "OSAMA MOHD ABDUL FATTAH"
          ],
          [
           "KUMBAM AKSHITHA"
          ],
          [
           "MANTRALA VENKATA KALYAN RAM"
          ],
          [
           "SAI SRINIVASAN K V"
          ],
          [
           "MADHIRA SAI ACHYUT"
          ],
          [
           "ABHISHEK KUMAR"
          ],
          [
           "NIVEDAN VISHWANATH"
          ],
          [
           "GOLLA SAI VENKAT GOWTHAM"
          ]
         ],
         "hovertemplate": "Branch=BE Mechanical<br>BITSAT Score=%{x}<br>CGPA=%{y}<br>Name=%{customdata[0]}<extra></extra>",
         "legendgroup": "BE Mechanical",
         "marker": {
          "color": "#FFA15A",
          "symbol": "circle"
         },
         "mode": "markers",
         "name": "BE Mechanical",
         "orientation": "v",
         "showlegend": true,
         "type": "scatter",
         "x": [
          297,
          279,
          288,
          278,
          277,
          290,
          288,
          280,
          277,
          276,
          277,
          279,
          277,
          286,
          276,
          276,
          276,
          278,
          275,
          280,
          290,
          292,
          282,
          284,
          284,
          286,
          277,
          283,
          280,
          278,
          280,
          283,
          277,
          292,
          290,
          286,
          282,
          280,
          278,
          278,
          284,
          284,
          282,
          284,
          279,
          277,
          280,
          287,
          277,
          284,
          278,
          281,
          278,
          297,
          300,
          297,
          295,
          296,
          296,
          321,
          299,
          296,
          295,
          296,
          296,
          306,
          294,
          293,
          301,
          298,
          308,
          279,
          293,
          294,
          297,
          294,
          294,
          301,
          294,
          305,
          300,
          296,
          310,
          277,
          305,
          295,
          301,
          299,
          318,
          295,
          294,
          300,
          302,
          277,
          277,
          276,
          276,
          279,
          275,
          282,
          282,
          283,
          283,
          282,
          283,
          280,
          280,
          280,
          277,
          277,
          278,
          278,
          281,
          307,
          299,
          281,
          283
         ],
         "xaxis": "x",
         "y": [
          8.92,
          8.39,
          7.34,
          8.25,
          6.67,
          7.54,
          8.49,
          7.38,
          7.48,
          8.5,
          8.32,
          8.46,
          8.49,
          7.62,
          8.05,
          8.25,
          7.74,
          7.57,
          6.15,
          8.04,
          7.61,
          8.42,
          8.16,
          7.94,
          8.63,
          7.97,
          7.15,
          7.59,
          9.25,
          6.94,
          8.28,
          8.29,
          7.38,
          7.78,
          7.6,
          7.45,
          8.39,
          6.45,
          7.9,
          8.7,
          7.6,
          7.67,
          7.53,
          8.21,
          8.36,
          8.51,
          8.41,
          8.39,
          8.01,
          7.89,
          6.95,
          7.23,
          7.53,
          8.65,
          7.51,
          7.38,
          6.89,
          8.16,
          7.04,
          7.61,
          8.03,
          7.75,
          8.78,
          8.48,
          8.09,
          8.01,
          7.09,
          8.37,
          7.56,
          8.69,
          9.17,
          6.53,
          8.86,
          7.46,
          7.41,
          6.89,
          8.08,
          7.5,
          6.36,
          7.99,
          5.74,
          8.9,
          8.41,
          8.32,
          8.57,
          7.4,
          8.05,
          7.39,
          7.79,
          6.74,
          7.7,
          6.47,
          7.12,
          7.21,
          8.48,
          7.56,
          5.85,
          8.09,
          8.17,
          9.07,
          8.29,
          8.77,
          7.92,
          7.64,
          8.42,
          7.56,
          7.51,
          8.73,
          5.85,
          6.1,
          8.89,
          7.73,
          9.24,
          6.9,
          9.35,
          8.39,
          9.22
         ],
         "yaxis": "y"
        },
        {
         "customdata": [
          [
           "RITWIKA HORE"
          ],
          [
           "PAI ANGLE SAKSHI SANJAY"
          ],
          [
           "ADRIJA ARUP DUTTA"
          ],
          [
           "GUMIREDDY SREE MANJARI"
          ],
          [
           "ADABALA ROHINI"
          ],
          [
           "AARUSHI BHOMIA"
          ],
          [
           "VANAPARTHI AKSHITHA"
          ],
          [
           "SARTHAK DONGAONKAR"
          ],
          [
           "PARTH AGARWAL"
          ],
          [
           "ARNAV KUKREJA"
          ],
          [
           "SNIGDHA KHARE"
          ],
          [
           "MADHAV DHIR"
          ],
          [
           "ABHIDEV SHARMA"
          ],
          [
           "KANWAR LOHITA NITIN"
          ],
          [
           "SADASIVUNI CHAKRADHARI"
          ],
          [
           "PRATYUSH KHANDELWAL"
          ],
          [
           "ASHTHA SIMONIHA"
          ],
          [
           "ANJALI BORA"
          ],
          [
           "NIBIR MAHANTA"
          ],
          [
           "AKSHATHA KARTHIKEYAN"
          ],
          [
           "SURAPANENI PAVITHRA"
          ],
          [
           "K AMARTYA"
          ],
          [
           "SOUMYASHREE MISHRA"
          ],
          [
           "BHAWANI SINGH NATHAWAT"
          ],
          [
           "PRASHASTI SHUKLA"
          ],
          [
           "SANIKA ARUN PARASNIS"
          ],
          [
           "N SAMPATH"
          ],
          [
           "M  SAI KAMESWARI SRUJANA"
          ],
          [
           "KUMARI ANKITA"
          ],
          [
           "MANTHAN S HIREMATH"
          ],
          [
           "MANSI PARAG SHAH"
          ],
          [
           "HIMANSHU GUPTA"
          ],
          [
           "SHREYA NILAY"
          ],
          [
           "KUNDU IPSITA GOPAL"
          ],
          [
           "RAY ELIZABETH DOMINIC"
          ],
          [
           "SHUBHAM KHANUJA"
          ],
          [
           "JAHNAVI DHARWADKAR"
          ],
          [
           "VEMULA SREE LAKSHMI"
          ],
          [
           "HARKIRAT SINGH WALIA"
          ],
          [
           "JAYANT JAIN"
          ],
          [
           "K NAGA  SRINIDHI"
          ]
         ],
         "hovertemplate": "Branch=BE Pharma<br>BITSAT Score=%{x}<br>CGPA=%{y}<br>Name=%{customdata[0]}<extra></extra>",
         "legendgroup": "BE Pharma",
         "marker": {
          "color": "#19d3f3",
          "symbol": "circle"
         },
         "mode": "markers",
         "name": "BE Pharma",
         "orientation": "v",
         "showlegend": true,
         "type": "scatter",
         "x": [
          178,
          181,
          180,
          185,
          189,
          185,
          199,
          210,
          210,
          212,
          210,
          206,
          216,
          203,
          212,
          195,
          192,
          207,
          211,
          208,
          200,
          197,
          212,
          217,
          204,
          217,
          228,
          183,
          183,
          207,
          201,
          210,
          200,
          196,
          191,
          199,
          282,
          196,
          209,
          213,
          205
         ],
         "xaxis": "x",
         "y": [
          6.94,
          7.7,
          7.85,
          8.22,
          6.73,
          6.84,
          7.06,
          7,
          8,
          7.4,
          8.06,
          6.59,
          7.08,
          8.34,
          6.04,
          6.06,
          8.67,
          7.82,
          6.61,
          6.21,
          5,
          6.86,
          7.21,
          7.25,
          6.99,
          8.28,
          5.99,
          9.16,
          6.51,
          8.52,
          8.36,
          6.77,
          8.93,
          8.55,
          9.12,
          7.72,
          8.32,
          8.08,
          7.2,
          9.17,
          8.13
         ],
         "yaxis": "y"
        },
        {
         "customdata": [
          [
           "VERMA ASHISH MAKUNDILAL"
          ],
          [
           "ABHISHEK MISHRA"
          ],
          [
           "TEJ SHIRISH SUKHATME"
          ],
          [
           "ASHNA SWAIKA"
          ],
          [
           "J ALVIN RONNIE"
          ],
          [
           "AJITH P J"
          ],
          [
           "HARDIK PARNAMI"
          ],
          [
           "SRAVANI GARAPATI"
          ],
          [
           "UTKARSH JHA"
          ],
          [
           "SHUBHAM ASOPA"
          ],
          [
           "KOUSTUBH SHARMA"
          ],
          [
           "SHIVANG SINGH"
          ],
          [
           "SHETTY KARTHIK RAVINDRA"
          ],
          [
           "DESAI DHIRAAJ SAMIRBHAI"
          ],
          [
           "AILURI SRUTHI"
          ],
          [
           "PRANAY PANT"
          ],
          [
           "SHUBH DEEP"
          ],
          [
           "KUMAR PRANJAL"
          ],
          [
           "BHAVYESH DESAI"
          ],
          [
           "SIDDHARTH JAGOTA"
          ],
          [
           "AMEETESH SHARMA"
          ],
          [
           "BHAVISH PAHWA"
          ],
          [
           "DHRUV MAHESHWARI"
          ],
          [
           "SNEH LOHIA"
          ],
          [
           "RISHAB NAHAR"
          ],
          [
           "SRI SATYA ADITYA VITHANALA"
          ],
          [
           "KANISHK PATHAK"
          ],
          [
           "PRANAV RAJAGOPALAN"
          ],
          [
           "RHYTHAM CHOUDHARY"
          ],
          [
           "CHEMUDUPATI SRINIVAS RITVIK"
          ],
          [
           "RISHI SAIMSHU REDDY BANDI"
          ],
          [
           "HARSHIT GAKHAR"
          ],
          [
           "ABHIGNU KAREDDY"
          ],
          [
           "ABHISHEK BAPNA"
          ],
          [
           "KULKARNI SIDDHANT RAVINDRA"
          ],
          [
           "AKSHIT"
          ],
          [
           "NITIN CHANDRA SURAPUR"
          ],
          [
           "RISHABH BAID"
          ],
          [
           "BATCHALA SANDEEP"
          ],
          [
           "RIDHIMAN AGRAWAL"
          ],
          [
           "AVIRAL AGARWAL"
          ],
          [
           "AKUL SINGHAL"
          ],
          [
           "PATEL MANAN"
          ],
          [
           "ARPAN SARANGI"
          ],
          [
           "VATSAL GUPTA"
          ],
          [
           "TENNETI SUDHEER KUMAR"
          ],
          [
           "AKSHAY TIWARI"
          ],
          [
           "MILIND ANAND"
          ],
          [
           "ANANAY GUPTA"
          ],
          [
           "SUKRIT"
          ],
          [
           "SARTHAK SHEORAN"
          ],
          [
           "NIELLESS ACHARYA"
          ],
          [
           "KUSHAGRA GUPTA"
          ],
          [
           "JHAVERI ADITYA ALOK"
          ],
          [
           "MAYANK NEGI"
          ],
          [
           "ANANY PRAKHAR"
          ],
          [
           "ANIKET GOSWAMI"
          ],
          [
           "RAUT ANIKET SANJAY"
          ],
          [
           "MIHIR BANSAL"
          ],
          [
           "KUSHAGRA LAVANIA"
          ],
          [
           "ANIRUDH G"
          ],
          [
           "RAAED AHMED SYED"
          ],
          [
           "GRANDHE MITHUNA SREE"
          ],
          [
           "MADUGULA AASHRITHA REDDY"
          ],
          [
           "MANEESH BABU JASTI"
          ],
          [
           "KRITI JETHLIA"
          ],
          [
           "GAURANG GUPTA"
          ],
          [
           "KARTIKEY PAPNAI"
          ],
          [
           "SMIKET BARODIA"
          ],
          [
           "PURVIKA"
          ],
          [
           "SURINDERPAL SINGH VIRK"
          ],
          [
           "KONA GEETH CHARAN REDDY"
          ],
          [
           "BANDARU ABHINAV"
          ],
          [
           "TARIGOPULA PRANAY"
          ],
          [
           "DONKADA VISHALDHEERAJ"
          ],
          [
           "PARVOTHINII MANNOJ"
          ],
          [
           "AKASH SRIVASTAVA"
          ],
          [
           "THOKALA NITHYA"
          ],
          [
           "VASHI CHAUDHARY"
          ],
          [
           "DEEPAK GEORGE DOMINIC"
          ],
          [
           "ARYAN SHARMA"
          ],
          [
           "VENKATESHWAR DHARI SINGH"
          ],
          [
           "EISHITA TRIPATHI"
          ],
          [
           "MUDIT CHATURVEDI"
          ],
          [
           "PRANITH S KALLAKURI"
          ],
          [
           "ARPIT ADLAKHA"
          ],
          [
           "PHANI PREETAM KOMMINENI"
          ],
          [
           "RAJPUT  TEJAS VIKRAMSING"
          ],
          [
           "MD WAQUAR WASIF"
          ],
          [
           "SHREYA GUPTA"
          ],
          [
           "SAI RAMA KRISHNA PRANEETH PULLELA"
          ],
          [
           "SAKSHAM PANDEY"
          ],
          [
           "MADANAPALLI NIKHIL CHANDRA"
          ],
          [
           "NITIN GOPALA KRISHNA SONTINENI"
          ],
          [
           "R VENKAT SRINIK"
          ],
          [
           "LOKESH MEHRA"
          ],
          [
           "VISHESH BADJATYA"
          ],
          [
           "SUYASH TANDON"
          ],
          [
           "TULAIB AHMED ABDULLAH"
          ],
          [
           "RISHABH JAIN"
          ],
          [
           "MEREDDY AISHWWARYA REDDI"
          ],
          [
           "KULKARNI HRITHIK VENKATESH"
          ],
          [
           "SATYA SRUJANA PILLI"
          ],
          [
           "VIKRAMJEET DAS"
          ],
          [
           "BEJJANKI ADITYA"
          ],
          [
           "CHINTHAKINDI SIDHARTHA RAMAN"
          ],
          [
           "VAISHNAVEE NAUTIYAL"
          ],
          [
           "CHIMMILI SAI SAKETH"
          ],
          [
           "SAI HARSHA REDDY"
          ],
          [
           "RAJ AGARWAL"
          ],
          [
           "ANNAM SAI VISHWANATH"
          ],
          [
           "DEOTALE RIDDHISH ANANT"
          ],
          [
           "SHAH SHIVANG RITENKUMAR"
          ],
          [
           "SAUMYA SHIKHAR MISHRA"
          ],
          [
           "KOPPALA MANOJ KIRAN KUMAR"
          ],
          [
           "SRISTI SHARMA"
          ],
          [
           "POOJARI VENKATA SHREESH"
          ],
          [
           "VIKRAM S HARITAS"
          ],
          [
           "DHRUV ADLAKHA"
          ],
          [
           "PRANAV"
          ],
          [
           "VATSAYAYN BINAY"
          ],
          [
           "DANTULURI SAIRAJU"
          ],
          [
           "HASNAIN ZEENWALA"
          ],
          [
           "SREE HARSHA KOPPULA"
          ],
          [
           "VANSHAJ AGGARWAL"
          ],
          [
           "PRATYUSH BANERJEE"
          ],
          [
           "THAKKAR PREET GIRISH BHAI"
          ],
          [
           "GOURISHETTI HARSHITT"
          ],
          [
           "ADITYA SHARMA"
          ],
          [
           "MANU GUPTA"
          ],
          [
           "HRITIK SINGH KUSHWAH"
          ],
          [
           "ANSH GUPTA"
          ],
          [
           "ADITYA ANIRVAN"
          ],
          [
           "NIMISH GUPTA"
          ],
          [
           "SHAH  KEVIN  PARESH"
          ],
          [
           "DEBMEET BANERJEE"
          ],
          [
           "ROHAN SINHA"
          ],
          [
           "SHREYAS R"
          ],
          [
           "NANDYALA DINESH REDDY"
          ],
          [
           "KSHITIJ INGLE"
          ],
          [
           "GARLAPATI YOGITHA"
          ],
          [
           "THAKUR SHIVANK SINGH"
          ],
          [
           "NISHIT SINGH CHOUHAN"
          ],
          [
           "PALEM MANEESH REDDY GONEGARY"
          ],
          [
           "DACHANI THANOOJA REDDY"
          ],
          [
           "DIVYA MUNIPALLE"
          ],
          [
           "M VISHNU VARDHAN"
          ],
          [
           "DUGGINA CHARAN CHOWDARY"
          ],
          [
           "MIR AMEEN MOHIDEEN"
          ],
          [
           "PENTELA NIKHIL MOHAN KRISHNA"
          ],
          [
           "AKSHAT BAJPAI"
          ],
          [
           "NALLAMALA SAI CHAITANYA"
          ],
          [
           "KARRA SAI SURAJ REDDY"
          ],
          [
           "ABHIRATH SINGH PARMAR"
          ],
          [
           "KATLAGUNTA LIKHITH PRAVEEN"
          ],
          [
           "JATIN ARORA"
          ],
          [
           "ADIT GANDHI"
          ],
          [
           "ROHAN DANIEL"
          ],
          [
           "PARVEEN JAKHAR"
          ],
          [
           "SHUBHANJAY VARMA"
          ],
          [
           "ANIRUDH SOOD"
          ],
          [
           "DANISH SHAKEEL MOHAMMAD"
          ],
          [
           "ACHYUTA KRISHNA V"
          ],
          [
           "YANAMANDRA VENKATA SREE HARSHA"
          ],
          [
           "PRANAV REDDY PESALADINNE"
          ],
          [
           "SRISHTI SANGHI"
          ],
          [
           "HARSHVARDHAN JHA"
          ],
          [
           "DIVYANSHU AGRAWAL"
          ],
          [
           "SAKSHAM GUPTA"
          ],
          [
           "RUPANSHU SOI"
          ],
          [
           "RUSHABH MUSTHYALA"
          ]
         ],
         "hovertemplate": "Branch=BE Computer Science<br>BITSAT Score=%{x}<br>CGPA=%{y}<br>Name=%{customdata[0]}<extra></extra>",
         "legendgroup": "BE Computer Science",
         "marker": {
          "color": "#FF6692",
          "symbol": "circle"
         },
         "mode": "markers",
         "name": "BE Computer Science",
         "orientation": "v",
         "showlegend": true,
         "type": "scatter",
         "x": [
          334,
          334,
          338,
          336,
          339,
          334,
          336,
          339,
          338,
          334,
          334,
          336,
          334,
          335,
          "Board Topper",
          342,
          334,
          367,
          346,
          345,
          348,
          347,
          346,
          348,
          341,
          367,
          342,
          341,
          345,
          344,
          344,
          370,
          345,
          343,
          335,
          338,
          342,
          347,
          362,
          350,
          346,
          353,
          341,
          369,
          340,
          343,
          346,
          348,
          345,
          358,
          342,
          354,
          358,
          346,
          342,
          334,
          345,
          341,
          343,
          341,
          340,
          342,
          375,
          346,
          353,
          343,
          343,
          341,
          346,
          350,
          344,
          343,
          371,
          364,
          358,
          343,
          338,
          347,
          341,
          336,
          345,
          343,
          346,
          342,
          341,
          344,
          355,
          350,
          342,
          340,
          349,
          334,
          344,
          343,
          343,
          340,
          346,
          339,
          364,
          346,
          347,
          344,
          354,
          343,
          349,
          372,
          343,
          352,
          343,
          340,
          342,
          347,
          352,
          341,
          358,
          355,
          342,
          338,
          348,
          349,
          342,
          358,
          346,
          340,
          347,
          342,
          342,
          374,
          342,
          341,
          336,
          339,
          337,
          336,
          339,
          338,
          339,
          338,
          335,
          336,
          335,
          336,
          335,
          334,
          335,
          339,
          337,
          335,
          336,
          334,
          338,
          339,
          339,
          335,
          334,
          336,
          336,
          340,
          338,
          334,
          337,
          340,
          346,
          344,
          390,
          342,
          335,
          342,
          344,
          345,
          336
         ],
         "xaxis": "x",
         "y": [
          7.98,
          5.68,
          8.41,
          8.92,
          8.05,
          8.53,
          8.15,
          6.9,
          7.51,
          8.15,
          8.04,
          9.53,
          8.09,
          7.96,
          5.77,
          8.39,
          8.74,
          9.05,
          9.58,
          8.37,
          7.61,
          8.25,
          8.42,
          8.94,
          8.63,
          7.06,
          7.49,
          8.52,
          7.01,
          6.92,
          8.48,
          7.77,
          6.39,
          7.57,
          8.35,
          7.43,
          6.99,
          8.65,
          7.84,
          7.88,
          8.95,
          8.32,
          9.06,
          8.97,
          8.74,
          9.02,
          8.62,
          9.42,
          9.09,
          8.8,
          8.73,
          7.44,
          7.91,
          8.9,
          7.51,
          7.05,
          7.76,
          7.41,
          9.37,
          8.44,
          8.33,
          8.26,
          7.54,
          7.2,
          7.6,
          9.09,
          9.16,
          7.52,
          7.95,
          8.52,
          8.54,
          8.2,
          8.13,
          9.63,
          7.71,
          7.45,
          8.25,
          8.6,
          8.99,
          9.06,
          8.68,
          8.11,
          7.26,
          8.6,
          8.82,
          8.23,
          7.66,
          8.16,
          8.17,
          8.32,
          7.32,
          8.37,
          7.93,
          8.1,
          8.35,
          7.39,
          8.88,
          8.56,
          7.84,
          7.64,
          9.24,
          9.41,
          8.33,
          9.72,
          7.22,
          8.05,
          9.01,
          7.44,
          6.7,
          9.38,
          8.2,
          8.41,
          8.46,
          9.42,
          6.09,
          8.7,
          6.97,
          8.5,
          8.02,
          8.43,
          8.03,
          7.86,
          9.17,
          7.5,
          7.99,
          9.63,
          8.17,
          5.98,
          6.83,
          8.78,
          8.74,
          9.4,
          7.39,
          7.2,
          8.72,
          7.66,
          8.07,
          8.79,
          6.98,
          7.94,
          8.38,
          8.27,
          7.04,
          8.56,
          8.08,
          8.4,
          8.26,
          6.75,
          9.17,
          8.49,
          8.01,
          6.9,
          8.11,
          8.32,
          7.12,
          8.33,
          6.98,
          8.34,
          9.57,
          8,
          8.32,
          7.53,
          9.52,
          8.4,
          7.79,
          7.13,
          8.66,
          8.26,
          8.5,
          9.12,
          9.04
         ],
         "yaxis": "y"
        },
        {
         "customdata": [
          [
           "PRANAVI MARRIPUDI"
          ],
          [
           "SATYAM MISHRA"
          ],
          [
           "AKANKSHA VINOD HUBLIKAR"
          ],
          [
           "BHARADWAJ PASUPATHI"
          ],
          [
           "KARAN KAUL"
          ],
          [
           "GUPTA ISHITA  AVANISH KUMAR"
          ],
          [
           "ISHAN DIXIT"
          ],
          [
           "PRANAV G"
          ],
          [
           "DHARAPURAM ADITYA RAMKUMAR"
          ],
          [
           "IYPE ELDHO"
          ],
          [
           "KOVVURI SRAVANTHI"
          ],
          [
           "TANAY GUPTA"
          ],
          [
           "SAI SOURISH VENKATESH"
          ],
          [
           "SAI NAGA SHASHANK SRIRANGAM"
          ],
          [
           "JAYAKIRAN REDDY J"
          ],
          [
           "G V N NAREN"
          ],
          [
           "KOTAMREDDY GANESH REDDY"
          ],
          [
           "ADARSH SIDDHARTH A"
          ],
          [
           "MRIDUL KUMAR RAI"
          ],
          [
           "SIDDHANT KIRAN KOTHARI"
          ],
          [
           "PETLOZU SUJITH"
          ],
          [
           "ABHINAV KRISHNAN"
          ],
          [
           "PRANAY PIYUSH"
          ],
          [
           "SAKSHAM CHAUHAN"
          ],
          [
           "PRATEEK SINHA"
          ],
          [
           "ASHWIN SINGH TOMAR"
          ],
          [
           "YETLLA SUNIL"
          ],
          [
           "SAI RASAGNA POLISETTI"
          ],
          [
           "KADAM OMKAR RAJARAM"
          ],
          [
           "UTKARSH VERMA"
          ],
          [
           "HITESH ARYAN ACHARYA"
          ],
          [
           "HARSH HEDA"
          ],
          [
           "SAMARPAN SAHA"
          ],
          [
           "INGUVA MANIKANTA VENKATA SRIRAMA GANESH"
          ],
          [
           "CHALLA OBULA KRISHNA SASHANK"
          ],
          [
           "ROSHAN SURABHI"
          ],
          [
           "KOTA GOWTHAM KUMAR"
          ],
          [
           "CHETLAPALLI VENKATA SATYA SAI CHAITANYA"
          ],
          [
           "POLAVARAPU SRAVANI"
          ],
          [
           "AMAN JAIN"
          ],
          [
           "SIDDHARTH RAJ"
          ],
          [
           "SATYAM KUMAR"
          ],
          [
           "VEMULA REVANTH"
          ],
          [
           "RIYA RAJ"
          ],
          [
           "FURQAN MALIK"
          ],
          [
           "VAIBHAV SACHAN"
          ],
          [
           "SUSHANTH KUNCHALA"
          ],
          [
           "NAIDU CHANDRA SEKHARA PRASANNA KUMAR"
          ],
          [
           "RITIK CHINMAY PATI"
          ],
          [
           "P SMRITI"
          ],
          [
           "AAKASH BANSAL"
          ],
          [
           "KANUKUNTLA ARAVIND REDDY"
          ],
          [
           "KAMARAJU SAI VAMSHI"
          ],
          [
           "TUMMALA KUSHAAL"
          ],
          [
           "GORANG AGARWAL"
          ],
          [
           "CHITTOORI ASHISH"
          ],
          [
           "PRIYANSH ARYAN VERMA"
          ],
          [
           "ARSHDEEP SINGH"
          ],
          [
           "PRAKHAR NARAYAN"
          ],
          [
           "KANCHARLA GURUVARDHAN"
          ],
          [
           "GIRUGU BHARGAVA PHANI CHAND"
          ],
          [
           "SHREYASH GUPTA"
          ],
          [
           "SHUBHANG VAGVALA"
          ],
          [
           "PRASOON BAGHEL"
          ],
          [
           "MUDIT MATHUR"
          ],
          [
           "MARYADA SAHITHI REDDY"
          ],
          [
           "SAKSHI RAICHANDANI"
          ],
          [
           "CHIRRA AKHIL TEJA"
          ],
          [
           "RAJA  ARAVIND REDDY  MANIMALA"
          ],
          [
           "AVINASH BHAT PATTAJE"
          ],
          [
           "AKSHAT SHUKLA"
          ],
          [
           "CHEREDDY VIVEK REDDY"
          ],
          [
           "SRINIVASA ROHIT KORLAM"
          ],
          [
           "GHANTA SAI GAUTHAM"
          ],
          [
           "DANGETI DHANUSH"
          ],
          [
           "MEHUL CHANDWANI"
          ],
          [
           "VALLABHANENI SRI HARSHA"
          ],
          [
           "DEV KIRTI PHARTIYAL"
          ],
          [
           "NIKHIL KUMAR SINGH"
          ],
          [
           "ATHARVA JAGADISH REDDY"
          ],
          [
           "C KANTI PRASOONA"
          ],
          [
           "SANDADI MANISH"
          ],
          [
           "ANKAM HARI TEJA"
          ],
          [
           "THAKARE SIDDHANT SANJAY"
          ],
          [
           "VAJHALA KEERTHANA"
          ],
          [
           "KATTA SATYA PRANEETH"
          ],
          [
           "ANTHAREDDY PRANAY REDDY"
          ],
          [
           "JAIN SANSKAR VIJAY"
          ],
          [
           "PAMU SAI PRUTHVI KASHYAP"
          ],
          [
           "P JAIDEEP REDDY"
          ],
          [
           "MANISH KUMAR P"
          ],
          [
           "RAHUL PRAKASH"
          ],
          [
           "E SAIRUTHVIK"
          ],
          [
           "GUDDANTI MOHIT"
          ],
          [
           "AVIK J PANDA"
          ],
          [
           "SARGUNPREET KOHLI"
          ],
          [
           "ISHIKA BHATTACHARYA"
          ],
          [
           "T AKSHAYA"
          ],
          [
           "ABIJITH Y L"
          ],
          [
           "JONATHAN SAMUEL  J"
          ],
          [
           "SHUBHESH TIWARI"
          ],
          [
           "AMRITHA IMMANENI"
          ]
         ],
         "hovertemplate": "Branch=BE ECE<br>BITSAT Score=%{x}<br>CGPA=%{y}<br>Name=%{customdata[0]}<extra></extra>",
         "legendgroup": "BE ECE",
         "marker": {
          "color": "#B6E880",
          "symbol": "circle"
         },
         "mode": "markers",
         "name": "BE ECE",
         "orientation": "v",
         "showlegend": true,
         "type": "scatter",
         "x": [
          327,
          313,
          319,
          313,
          313,
          313,
          316,
          316,
          314,
          314,
          313,
          315,
          313,
          317,
          317,
          317,
          314,
          312,
          316,
          315,
          318,
          312,
          315,
          313,
          313,
          316,
          320,
          320,
          319,
          314,
          314,
          319,
          314,
          319,
          313,
          312,
          314,
          314,
          314,
          313,
          320,
          317,
          315,
          319,
          313,
          313,
          318,
          317,
          318,
          334,
          325,
          321,
          322,
          332,
          324,
          322,
          323,
          328,
          335,
          326,
          371,
          327,
          327,
          331,
          331,
          323,
          321,
          333,
          327,
          330,
          326,
          323,
          329,
          331,
          321,
          322,
          327,
          325,
          325,
          321,
          321,
          322,
          322,
          324,
          338,
          334,
          327,
          330,
          320,
          317,
          320,
          314,
          316,
          318,
          313,
          313,
          322,
          323,
          326,
          325,
          321,
          320
         ],
         "xaxis": "x",
         "y": [
          9.45,
          8.06,
          8.4,
          7.35,
          8.9,
          9.6,
          7.11,
          6.91,
          8.66,
          7.67,
          8.65,
          9.08,
          7.56,
          8.97,
          6.31,
          8.64,
          9.36,
          6.96,
          9.24,
          7.75,
          7.46,
          8.75,
          8.21,
          8.24,
          8.01,
          7.68,
          5.69,
          7.18,
          7.88,
          7.44,
          8.85,
          8.74,
          7.95,
          6.61,
          7.14,
          7.73,
          6.28,
          7.95,
          8.6,
          8.07,
          8.76,
          7.6,
          6.93,
          7.56,
          6.59,
          8.13,
          7.31,
          6.71,
          6.62,
          9.8,
          8.18,
          7.7,
          7.56,
          7.16,
          7.86,
          8.68,
          8.6,
          9.18,
          8.29,
          6.39,
          8.48,
          8.38,
          7.41,
          8.55,
          8.22,
          8.07,
          8.85,
          9.1,
          7.85,
          9.1,
          8.9,
          7.18,
          7.62,
          8.04,
          7.84,
          8.5,
          7.37,
          8.5,
          7.06,
          8.01,
          5.53,
          8.13,
          8.79,
          8.48,
          7.51,
          7.91,
          6.67,
          8.42,
          7.08,
          7.58,
          7.82,
          8.85,
          7.04,
          8.43,
          7.18,
          9.07,
          9.55,
          9.4,
          8.7,
          7.16,
          7.9,
          9.23
         ],
         "yaxis": "y"
        },
        {
         "customdata": [
          [
           "MISHRA ANJUR BEERCHANDRA"
          ],
          [
           "MEET BHARDWAJ"
          ],
          [
           "RATHI NIHAR DILIP"
          ],
          [
           "SIDDHARTHA GUPTA"
          ],
          [
           "SHREY MEHTA"
          ],
          [
           "MOHAMMED SABITH A M"
          ],
          [
           "NARICCHETTY VENKAT JAIRAZZ"
          ],
          [
           "MALINENI KRISHNA SRAVYA"
          ],
          [
           "TULLURI KOUSHAL"
          ],
          [
           "ASHUTOSH DUBEY"
          ],
          [
           "AYUSHMAN UPRETI"
          ],
          [
           "TANMAY PATHAK"
          ],
          [
           "KSHITIJ RAWAT"
          ],
          [
           "GIRISH ASHOK DHABALE"
          ],
          [
           "C TEJA KUMAR REDDY"
          ],
          [
           "KAPISH AGGARWAL"
          ],
          [
           "RAGULNIDHI K"
          ],
          [
           "SRIMANAS PANUGANTI"
          ],
          [
           "C SRI DHARMENDRA"
          ],
          [
           "M V LAKSHMI VINAYAK"
          ],
          [
           "MANNE SAHITHI"
          ],
          [
           "PRANAV C"
          ],
          [
           "KILARU HANEESH"
          ],
          [
           "PARTH GADIYA"
          ],
          [
           "RUPANGI"
          ],
          [
           "MRINAL DIXIT"
          ],
          [
           "CH ANISH"
          ],
          [
           "SUNEJA PRIYA  RAJESH"
          ],
          [
           "UPPALAPATI REVANTH"
          ],
          [
           "ADARSH MISHRA"
          ],
          [
           "S VARSHITH REDDY"
          ],
          [
           "RITIKA GARG"
          ],
          [
           "POKAR SANKET CHANDULAL"
          ],
          [
           "SAANDRA NANDAKUMAR"
          ],
          [
           "VIKAS SHEORAN"
          ],
          [
           "SOHAN DAS"
          ],
          [
           "AKSHAT GOYAL"
          ],
          [
           "ADITHYA JAYAN WARRIER"
          ],
          [
           "AMAN MAHAJAN"
          ],
          [
           "ANSH ANAND"
          ],
          [
           "YASHIKA CHOPRA"
          ],
          [
           "GRAHITHAA SARATHY"
          ],
          [
           "VASTAV RATRA"
          ],
          [
           "NAMIT NEGI"
          ],
          [
           "CHARKHA KEDAR SAGAR"
          ],
          [
           "SIDDARTH BALDWA"
          ],
          [
           "DHRUVIKAA AHUJA"
          ],
          [
           "PATI MOUNISH  REDDY"
          ],
          [
           "S SAIKRISHNA MANAS"
          ],
          [
           "SHRIRAM R"
          ],
          [
           "VIRAG NIMESH LAKHANI"
          ],
          [
           "JUI ASHUTOSH PRADHAN"
          ],
          [
           "ROHAN SACHAN"
          ],
          [
           "KAZI ABEER REHAMAN"
          ],
          [
           "UJJWAL GUPTA"
          ],
          [
           "PEKETI NAGA HARSHA VINAY"
          ],
          [
           "A N P PHANEENDRA KUMAR TENNETI"
          ],
          [
           "PUNEETH KUMAR REDDY DEVIREDDY"
          ],
          [
           "RAMANA SRIRAM"
          ],
          [
           "MADARAJU NAGA NIDHI"
          ],
          [
           "KOTA SATYA SURYA VINAY"
          ],
          [
           "REPAKA SAKETH"
          ],
          [
           "ANANYA MOHAPATRA"
          ],
          [
           "RITIK AGARWAL"
          ],
          [
           "SAARTHAK GUPTA"
          ],
          [
           "KARTIK MAHAJAN"
          ],
          [
           "SWAYAM BHARGAVA"
          ],
          [
           "ARJA SUDHEER"
          ],
          [
           "MUNUKUNTLA RUTHVIK"
          ],
          [
           "PRABHUNE NIMISH MANDAR"
          ],
          [
           "ARMIDA ASHFAQ"
          ],
          [
           "ARCHIT GUGLANI"
          ],
          [
           "SUBHASH GOWANI"
          ],
          [
           "HARSH KUMAR SHARMA"
          ],
          [
           "NIKHIL ATREYA TALAGADADEEVI"
          ],
          [
           "NIKITA MAKHIJA"
          ]
         ],
         "hovertemplate": "Branch=MSc Economics<br>BITSAT Score=%{x}<br>CGPA=%{y}<br>Name=%{customdata[0]}<extra></extra>",
         "legendgroup": "MSc Economics",
         "marker": {
          "color": "#FF97FF",
          "symbol": "circle"
         },
         "mode": "markers",
         "name": "MSc Economics",
         "orientation": "v",
         "showlegend": true,
         "type": "scatter",
         "x": [
          286,
          286,
          289,
          293,
          286,
          288,
          315,
          300,
          288,
          291,
          292,
          296,
          294,
          300,
          308,
          304,
          285,
          283,
          306,
          302,
          294,
          312,
          297,
          283,
          284,
          284,
          291,
          291,
          287,
          286,
          291,
          284,
          291,
          297,
          299,
          299,
          295,
          296,
          295,
          305,
          296,
          298,
          330,
          295,
          308,
          318,
          314,
          310,
          289,
          283,
          284,
          291,
          287,
          290,
          291,
          308,
          296,
          284,
          289,
          286,
          283,
          287,
          290,
          284,
          291,
          288,
          288,
          302,
          300,
          286,
          283,
          284,
          283,
          286,
          292,
          284
         ],
         "xaxis": "x",
         "y": [
          7.12,
          8.19,
          8.12,
          7.86,
          7.42,
          6.99,
          6.73,
          6.97,
          6.97,
          8.93,
          8.05,
          8.32,
          7.81,
          8.11,
          7.72,
          8.01,
          7.34,
          8.31,
          7.84,
          7.43,
          7.46,
          7.38,
          7.91,
          7.24,
          8.17,
          8.31,
          7.41,
          8.07,
          8.31,
          7.75,
          8.99,
          8.75,
          8.41,
          9.51,
          8.57,
          8.65,
          8.47,
          8.29,
          9.08,
          8.91,
          8.99,
          9.25,
          9.49,
          8.8,
          8.72,
          9.02,
          8.29,
          8.25,
          8.49,
          8.64,
          8.79,
          8.68,
          8.74,
          8.4,
          7.61,
          7.69,
          8.24,
          8.22,
          7.26,
          8.37,
          8.14,
          7.4,
          9.22,
          8.57,
          8.63,
          8.38,
          8.41,
          8.64,
          8.52,
          8.9,
          9.25,
          8.55,
          8.45,
          8.58,
          8.17,
          8.58
         ],
         "yaxis": "y"
        },
        {
         "customdata": [
          [
           "ATUL RAVI UNNI"
          ],
          [
           "SIDDHARTH TIBREWAL"
          ],
          [
           "AYUSH SINGH CHAUHAN"
          ],
          [
           "ALLA LEENA SAMYUKTHA"
          ],
          [
           "DEVANSH GUPTA"
          ],
          [
           "SARANSH MISHRA"
          ],
          [
           "DEBADARSHEE DAS MOHAPATRA"
          ],
          [
           "PINUPA PAVAN SAI"
          ],
          [
           "VELLURI CHANDU NAGA SREENIVAS"
          ],
          [
           "KADAPA ANIRUDH"
          ],
          [
           "SAI NISHANTH KURRA"
          ],
          [
           "SAMARTH  KANSAL"
          ],
          [
           "GANGULA VENKATA THARUN KUMAR REDDY"
          ],
          [
           "CHIRUMAMILLA MANI VENKATA RAMU"
          ],
          [
           "PRAJWAL SINGH GAUTAM"
          ],
          [
           "BHASKARA KRISHNA KARTHIK  VEMPATI"
          ],
          [
           "VEMIREDDY CHANDRA TEJ"
          ],
          [
           "HARDIK BHALLA"
          ],
          [
           "SWAPNIL KASLIWAL"
          ],
          [
           "SUYASH GARG"
          ],
          [
           "PURAV SINGLA"
          ],
          [
           "TEJA BHASKAR MADDU"
          ],
          [
           "HARSHIT UPADHYAY"
          ],
          [
           "CHIRAYU GUPTA"
          ],
          [
           "PAKALA BHUMIKA"
          ],
          [
           "AYUSH KUMAR SINGH"
          ],
          [
           "ROHAN DUBEY"
          ],
          [
           "ARYAMAN KUREEL"
          ],
          [
           "MARYALA VINAY KUMAR"
          ],
          [
           "MANISH PRAJAPATI"
          ],
          [
           "SUBHRAT PRAHARAJ"
          ],
          [
           "DARA SAI SRIJA"
          ],
          [
           "ASHISH VERMA"
          ],
          [
           "SHREYAS GUPTA"
          ],
          [
           "NISHANT GARG"
          ],
          [
           "NAMAN PANDEY"
          ],
          [
           "NANDABHADRAN B"
          ],
          [
           "OSHO MITTAL"
          ],
          [
           "GANDHAM MIHIR JESHURUN"
          ],
          [
           "CHETAN GONGLE"
          ],
          [
           "ANISH KUMAR SINGH"
          ],
          [
           "SANKALAMADDY RUTHVIK REDDY"
          ],
          [
           "ASWATH VINAYAK K"
          ],
          [
           "MANASA REDDY BOLLAVARAM"
          ],
          [
           "GEET SAHITYA DULAM"
          ],
          [
           "SANATH SALIL"
          ],
          [
           "D AMIT RAJ REDDY"
          ],
          [
           "APARNA BUDHWAR"
          ],
          [
           "SRIRAMPUR SHREYA"
          ],
          [
           "KARTHEEK SIVAVARMA NADIMPALLI"
          ],
          [
           "ANIRUDH A"
          ],
          [
           "ARYAN SURANA"
          ],
          [
           "PRITISH PRASHANT MOHARIR"
          ],
          [
           "DIVYANI SRIVASTAVA"
          ],
          [
           "RAHUL RANJAN"
          ],
          [
           "PATHI PRUDHVI"
          ],
          [
           "B PRANEETHA"
          ],
          [
           "BAIMEEDI NITHIN REDDY"
          ],
          [
           "RIJUL DHINGRA"
          ],
          [
           "VIJAY KUMAR MALHOTRA"
          ],
          [
           "PURU GUPTA"
          ],
          [
           "AAKANKSHA BHARADWAJ"
          ],
          [
           "LAVANIKA S"
          ],
          [
           "VIRAL TIWARI"
          ],
          [
           "PRAHASTHA SHANKESI"
          ],
          [
           "RAGHAV JEOGANI"
          ],
          [
           "ARABELLY ABHINAV"
          ],
          [
           "DIVYANSHU SINGH"
          ],
          [
           "SHWETA M"
          ],
          [
           "ISHANK CHAUHAN"
          ],
          [
           "GARIMA PATEL"
          ],
          [
           "ATHUL B"
          ],
          [
           "BATHINI THARUN KUMAR REDDY"
          ]
         ],
         "hovertemplate": "Branch=MSc Mathematics<br>BITSAT Score=%{x}<br>CGPA=%{y}<br>Name=%{customdata[0]}<extra></extra>",
         "legendgroup": "MSc Mathematics",
         "marker": {
          "color": "#FECB52",
          "symbol": "circle"
         },
         "mode": "markers",
         "name": "MSc Mathematics",
         "orientation": "v",
         "showlegend": true,
         "type": "scatter",
         "x": [
          277,
          275,
          277,
          272,
          277,
          269,
          269,
          292,
          286,
          278,
          276,
          270,
          270,
          275,
          272,
          274,
          274,
          273,
          274,
          273,
          268,
          267,
          279,
          273,
          280,
          276,
          287,
          272,
          297,
          271,
          269,
          281,
          272,
          271,
          273,
          270,
          274,
          272,
          284,
          284,
          279,
          268,
          267,
          272,
          278,
          270,
          278,
          270,
          269,
          276,
          282,
          291,
          281,
          280,
          280,
          268,
          268,
          273,
          272,
          275,
          277,
          273,
          270,
          271,
          278,
          273,
          272,
          274,
          278,
          282,
          284,
          267,
          271
         ],
         "xaxis": "x",
         "y": [
          7.6,
          7.95,
          6.57,
          7.47,
          6.39,
          7.26,
          6.25,
          7.05,
          7.09,
          5.55,
          7.43,
          6.83,
          7.7,
          6.18,
          5.67,
          5.54,
          7.67,
          7.79,
          8.33,
          7.82,
          7.8,
          8.38,
          7.66,
          7.64,
          7.79,
          7.89,
          7.74,
          7.57,
          8.51,
          7.52,
          8.07,
          7.69,
          7.4,
          7.55,
          8.04,
          7.32,
          7.79,
          7.08,
          7.67,
          7.47,
          7.36,
          8.9,
          8.68,
          8.87,
          9.12,
          8.84,
          7.93,
          8.92,
          8.7,
          8.94,
          9.15,
          8.06,
          8.8,
          8.42,
          8.13,
          8.15,
          7.49,
          9.01,
          8.61,
          8.15,
          7.75,
          8,
          8.66,
          8.3,
          8.18,
          8.68,
          8.86,
          7.69,
          8.25,
          8.07,
          8.32,
          8.35,
          8.38
         ],
         "yaxis": "y"
        },
        {
         "customdata": [
          [
           "ADARSH CHATURVEDI"
          ],
          [
           "AAMOD ABHAY JOSHI"
          ],
          [
           "SAURAV AGARWAL"
          ],
          [
           "MANU PRIYAM MITTAL"
          ],
          [
           "SWASTIK SOVAN GIRI"
          ],
          [
           "B JAI KRISHNA"
          ],
          [
           "MISHRA DIVYANSH AMIT"
          ],
          [
           "DHRITI MADAN"
          ],
          [
           "MANISH S PATIL"
          ],
          [
           "AMOGH MITTAL"
          ],
          [
           "VIPUL YADAV"
          ],
          [
           "SIDDHANT BHATT"
          ],
          [
           "HARSHUL GUPTA"
          ],
          [
           "M SRI VIBHAV"
          ],
          [
           "KULKARNI ATHARVA ABHAY"
          ],
          [
           "SHREYAS PANTANGI"
          ],
          [
           "VEDAGYA SARASWAT"
          ],
          [
           "SAKET SHUBHAM"
          ],
          [
           "SWAROOP AJIT PALAYAT"
          ],
          [
           "IRFAN AHMED HITA WALA"
          ],
          [
           "BHELONDE AMEYA RAVINDRA"
          ],
          [
           "RAKESH PRASHANT LADI"
          ],
          [
           "KADAM SHANTANU DEEPAK"
          ],
          [
           "ROSHNI SATISH"
          ],
          [
           "RAJ S PANDEY"
          ],
          [
           "DESHMUKH SHRIVATSA RAJESH"
          ],
          [
           "ESHA JAIN"
          ],
          [
           "ISHITA MENON"
          ],
          [
           "SOUMIT MISHRA"
          ],
          [
           "UTKARSH JAIN"
          ],
          [
           "MUSHKAN SUREKA"
          ],
          [
           "HARSHIT BANSAL"
          ],
          [
           "SHRISH SHANKAR"
          ],
          [
           "GOKUL PRADEEP"
          ],
          [
           "DEEPTI KUMAR"
          ],
          [
           "J JAYARAM"
          ],
          [
           "EVA TIWARI"
          ],
          [
           "NIVED DAMODARAN"
          ],
          [
           "AMIN YASH VIPUL"
          ],
          [
           "TANYA PRASAD"
          ],
          [
           "DINANK VASHISTHA"
          ],
          [
           "CHOWHAN TANMAY TUSHAR"
          ],
          [
           "ROHIT KUSHWAH"
          ],
          [
           "SHREYA MANISH JAMBAVALIKAR"
          ],
          [
           "YATHARTH BHALLA"
          ],
          [
           "AKSHAY ANAND"
          ],
          [
           "S V S SAI RUTHVIK"
          ],
          [
           "SIDDHARTH SINGH"
          ],
          [
           "APTE ANISH AJIT"
          ],
          [
           "PAAVANI KHANNA"
          ],
          [
           "ABDUL RAZZAK SHEIKH RAHEMAN PATEL"
          ]
         ],
         "hovertemplate": "Branch=MSc Physics<br>BITSAT Score=%{x}<br>CGPA=%{y}<br>Name=%{customdata[0]}<extra></extra>",
         "legendgroup": "MSc Physics",
         "marker": {
          "color": "#636efa",
          "symbol": "circle"
         },
         "mode": "markers",
         "name": "MSc Physics",
         "orientation": "v",
         "showlegend": true,
         "type": "scatter",
         "x": [
          265,
          272,
          280,
          280,
          265,
          269,
          280,
          266,
          274,
          266,
          267,
          282,
          284,
          277,
          266,
          266,
          268,
          273,
          273,
          267,
          266,
          267,
          273,
          266,
          274,
          273,
          272,
          274,
          273,
          278,
          272,
          266,
          266,
          271,
          271,
          270,
          273,
          282,
          270,
          268,
          281,
          279,
          274,
          270,
          274,
          271,
          311,
          283,
          283,
          266,
          274
         ],
         "xaxis": "x",
         "y": [
          6.5,
          8.81,
          9.41,
          8.84,
          7.41,
          6.34,
          7.52,
          7.85,
          8.32,
          8.08,
          8,
          7.76,
          6.29,
          7.99,
          8.43,
          7.17,
          8.19,
          7.77,
          7.28,
          7.46,
          7.92,
          7.65,
          8.13,
          6.87,
          7.64,
          8.37,
          8.19,
          9.04,
          7.99,
          8.6,
          8.95,
          8.56,
          8.51,
          7.35,
          9.1,
          8.46,
          8.74,
          8.7,
          8.88,
          8.52,
          8.49,
          8.95,
          8.07,
          8.79,
          6.93,
          8.11,
          8.74,
          8.08,
          8.41,
          8.13,
          8.36
         ],
         "yaxis": "y"
        },
        {
         "customdata": [
          [
           "AKSHIT VOHRA"
          ],
          [
           "VOGGU MANOHAR REDDY"
          ],
          [
           "NIKITA JAIN"
          ],
          [
           "MAYANK PARASHAR"
          ],
          [
           "SHIVALIK GUPTA"
          ],
          [
           "ABHISHEK DARBHA"
          ],
          [
           "SIRIPURAM SUCHANDRA"
          ],
          [
           "SURAJSINGH GAWADE"
          ],
          [
           "MUTHINENI ABIGNA"
          ],
          [
           "AKASH S RAJEEV"
          ],
          [
           "PRAKHAR SINGH TOMAR"
          ],
          [
           "ATHUL V"
          ],
          [
           "ADITYA SHUKLA"
          ],
          [
           "KANCHIPURAM SHESHA SAI TUSHAR"
          ],
          [
           "AMAN LAHOTI"
          ],
          [
           "REDDY SHRINIVAS NAGRAJ"
          ],
          [
           "SHIBASIS DUTTA"
          ],
          [
           "YADAVALLI V K LAKSHMI SRAVANI"
          ],
          [
           "AGRAWAL VEDANT SUNIL"
          ],
          [
           "AKSHIT SINGH LATWAL"
          ],
          [
           "SOUMYA SHOBHANA"
          ],
          [
           "HARSH DARYANI"
          ],
          [
           "CHANDA SAI KESHAV"
          ],
          [
           "AARYAN GUPTA"
          ],
          [
           "KHABALE PRANAV MAHESH"
          ],
          [
           "DEEPANSHU MODY"
          ],
          [
           "DIVYAM MISHRA"
          ],
          [
           "VIBHOR SINGH"
          ],
          [
           "SYED ASIM HUSSAIN RIZVI"
          ],
          [
           "THATIKONDA L N V AISHWARYA"
          ],
          [
           "HARIKRISHNAN S"
          ],
          [
           "LAKSHAY TOMAR"
          ],
          [
           "RHYTHM NEGI"
          ],
          [
           "BURKULE SUSHANT ANANTA"
          ],
          [
           "ABHINAV PAHWA"
          ],
          [
           "ISHA NILESH GOHEL"
          ],
          [
           "SOUMYA POCHIRAJU"
          ]
         ],
         "hovertemplate": "Branch=MSc Biology<br>BITSAT Score=%{x}<br>CGPA=%{y}<br>Name=%{customdata[0]}<extra></extra>",
         "legendgroup": "MSc Biology",
         "marker": {
          "color": "#EF553B",
          "symbol": "circle"
         },
         "mode": "markers",
         "name": "MSc Biology",
         "orientation": "v",
         "showlegend": true,
         "type": "scatter",
         "x": [
          254,
          253,
          252,
          250,
          255,
          257,
          254,
          266,
          250,
          254,
          255,
          252,
          253,
          253,
          266,
          263,
          253,
          252,
          251,
          250,
          250,
          253,
          251,
          251,
          251,
          251,
          254,
          251,
          262,
          262,
          254,
          254,
          251,
          251,
          253,
          254,
          253
         ],
         "xaxis": "x",
         "y": [
          6.76,
          6.61,
          8.42,
          7.64,
          7.77,
          8.06,
          6.68,
          6.56,
          5.61,
          8.49,
          8.68,
          7.52,
          7.7,
          7.45,
          7.64,
          8.09,
          7.88,
          7.12,
          7.08,
          7.96,
          8.11,
          9.62,
          8.74,
          8.83,
          8.76,
          8.09,
          8.04,
          6.75,
          7.43,
          8.57,
          7.8,
          8.09,
          8.6,
          7.96,
          9.11,
          8.32,
          8.26
         ],
         "yaxis": "y"
        },
        {
         "customdata": [
          [
           "PUCHAKAYALA HEMA CHANDRA"
          ],
          [
           "ADITYA VISWANATHAN"
          ],
          [
           "RITHWIK GILLA"
          ],
          [
           "SURAM SAI VIVEK RAO"
          ],
          [
           "SAHIL DEEPAK VASISHTHA"
          ],
          [
           "SIDDHANT GARG"
          ],
          [
           "CHIKINE PRANEETH KUMAR"
          ],
          [
           "VIKRAM ADITYA KOTA"
          ],
          [
           "K HITESH"
          ],
          [
           "MADDIPATLA M SRI ADITYASUBRAHMANYAM"
          ],
          [
           "K VISHAL KUMAR"
          ],
          [
           "SUYASH SRIVASTAVA"
          ],
          [
           "ANKIT MAINI"
          ],
          [
           "VINAYAK BUDHIRAJA"
          ],
          [
           "AMAN KUMAR"
          ],
          [
           "MUSKAN KHANNA"
          ],
          [
           "HIMANSHU GOYAL"
          ],
          [
           "AMITESH BADKUL"
          ],
          [
           "KAUSHIK SATHISH KUMAR"
          ],
          [
           "SHISHIR VARMA MANDAPATI"
          ],
          [
           "P SAMREEN BEGUM"
          ],
          [
           "KANDIBANDA SAI NATH"
          ],
          [
           "PATEL ASHUTOSH MIJUBHAI"
          ],
          [
           "OSHEEN  ARORA"
          ],
          [
           "GARIMA JOSHI"
          ],
          [
           "ANTHAMGARI AKHIL REDDY"
          ],
          [
           "APOORVA KAUSHAL"
          ],
          [
           "ADIVIKOLANU SRI NAGA RISHIKA"
          ],
          [
           "ADITI KUKRETI"
          ],
          [
           "ARSH GOEL"
          ],
          [
           "NITYA GUPTA"
          ],
          [
           "BALA SUMANTH BELDE"
          ],
          [
           "MEHTA ARYANA HETUL"
          ],
          [
           "VATHSALYA POLURI"
          ],
          [
           "ADITYA KRISHNA"
          ],
          [
           "A RAMESHWAR"
          ],
          [
           "AVI MATHUR"
          ],
          [
           "BHUMIKA SRIVASTAVA"
          ],
          [
           "KALLURI LAKSHMI AISHWARYA"
          ],
          [
           "DYAVADI SAI KIRAN REDDY"
          ],
          [
           "ROHIT SETHI"
          ],
          [
           "VANSH MADAN"
          ],
          [
           "ALANKAR  GUPTA"
          ]
         ],
         "hovertemplate": "Branch=MSc Chemistry<br>BITSAT Score=%{x}<br>CGPA=%{y}<br>Name=%{customdata[0]}<extra></extra>",
         "legendgroup": "MSc Chemistry",
         "marker": {
          "color": "#00cc96",
          "symbol": "circle"
         },
         "mode": "markers",
         "name": "MSc Chemistry",
         "orientation": "v",
         "showlegend": true,
         "type": "scatter",
         "x": [
          255,
          260,
          261,
          259,
          310,
          259,
          255,
          254,
          256,
          254,
          254,
          256,
          254,
          255,
          255,
          260,
          264,
          263,
          262,
          255,
          254,
          254,
          255,
          258,
          263,
          260,
          263,
          259,
          255,
          260,
          263,
          264,
          254,
          258,
          266,
          263,
          285,
          290,
          266,
          254,
          257,
          260,
          255
         ],
         "xaxis": "x",
         "y": [
          7.66,
          7.59,
          8.56,
          7.48,
          7.48,
          6.81,
          5.11,
          7.49,
          7.85,
          6.91,
          5.91,
          7.15,
          8.02,
          7.67,
          7.57,
          8.17,
          7.5,
          7.93,
          8.77,
          6.74,
          7.83,
          7.58,
          7.49,
          7.7,
          8,
          7.35,
          8.03,
          8.73,
          9.19,
          7.59,
          7.87,
          8.3,
          8.22,
          8.65,
          8.44,
          8.55,
          7.85,
          8.76,
          8.5,
          9.37,
          8.93,
          8.22,
          8.48
         ],
         "yaxis": "y"
        }
       ],
       "layout": {
        "autosize": false,
        "height": 600,
        "legend": {
         "title": {
          "text": "Branch"
         },
         "tracegroupgap": 0
        },
        "margin": {
         "t": 60
        },
        "template": {
         "data": {
          "bar": [
           {
            "error_x": {
             "color": "#2a3f5f"
            },
            "error_y": {
             "color": "#2a3f5f"
            },
            "marker": {
             "line": {
              "color": "#E5ECF6",
              "width": 0.5
             },
             "pattern": {
              "fillmode": "overlay",
              "size": 10,
              "solidity": 0.2
             }
            },
            "type": "bar"
           }
          ],
          "barpolar": [
           {
            "marker": {
             "line": {
              "color": "#E5ECF6",
              "width": 0.5
             },
             "pattern": {
              "fillmode": "overlay",
              "size": 10,
              "solidity": 0.2
             }
            },
            "type": "barpolar"
           }
          ],
          "carpet": [
           {
            "aaxis": {
             "endlinecolor": "#2a3f5f",
             "gridcolor": "white",
             "linecolor": "white",
             "minorgridcolor": "white",
             "startlinecolor": "#2a3f5f"
            },
            "baxis": {
             "endlinecolor": "#2a3f5f",
             "gridcolor": "white",
             "linecolor": "white",
             "minorgridcolor": "white",
             "startlinecolor": "#2a3f5f"
            },
            "type": "carpet"
           }
          ],
          "choropleth": [
           {
            "colorbar": {
             "outlinewidth": 0,
             "ticks": ""
            },
            "type": "choropleth"
           }
          ],
          "contour": [
           {
            "colorbar": {
             "outlinewidth": 0,
             "ticks": ""
            },
            "colorscale": [
             [
              0,
              "#0d0887"
             ],
             [
              0.1111111111111111,
              "#46039f"
             ],
             [
              0.2222222222222222,
              "#7201a8"
             ],
             [
              0.3333333333333333,
              "#9c179e"
             ],
             [
              0.4444444444444444,
              "#bd3786"
             ],
             [
              0.5555555555555556,
              "#d8576b"
             ],
             [
              0.6666666666666666,
              "#ed7953"
             ],
             [
              0.7777777777777778,
              "#fb9f3a"
             ],
             [
              0.8888888888888888,
              "#fdca26"
             ],
             [
              1,
              "#f0f921"
             ]
            ],
            "type": "contour"
           }
          ],
          "contourcarpet": [
           {
            "colorbar": {
             "outlinewidth": 0,
             "ticks": ""
            },
            "type": "contourcarpet"
           }
          ],
          "heatmap": [
           {
            "colorbar": {
             "outlinewidth": 0,
             "ticks": ""
            },
            "colorscale": [
             [
              0,
              "#0d0887"
             ],
             [
              0.1111111111111111,
              "#46039f"
             ],
             [
              0.2222222222222222,
              "#7201a8"
             ],
             [
              0.3333333333333333,
              "#9c179e"
             ],
             [
              0.4444444444444444,
              "#bd3786"
             ],
             [
              0.5555555555555556,
              "#d8576b"
             ],
             [
              0.6666666666666666,
              "#ed7953"
             ],
             [
              0.7777777777777778,
              "#fb9f3a"
             ],
             [
              0.8888888888888888,
              "#fdca26"
             ],
             [
              1,
              "#f0f921"
             ]
            ],
            "type": "heatmap"
           }
          ],
          "heatmapgl": [
           {
            "colorbar": {
             "outlinewidth": 0,
             "ticks": ""
            },
            "colorscale": [
             [
              0,
              "#0d0887"
             ],
             [
              0.1111111111111111,
              "#46039f"
             ],
             [
              0.2222222222222222,
              "#7201a8"
             ],
             [
              0.3333333333333333,
              "#9c179e"
             ],
             [
              0.4444444444444444,
              "#bd3786"
             ],
             [
              0.5555555555555556,
              "#d8576b"
             ],
             [
              0.6666666666666666,
              "#ed7953"
             ],
             [
              0.7777777777777778,
              "#fb9f3a"
             ],
             [
              0.8888888888888888,
              "#fdca26"
             ],
             [
              1,
              "#f0f921"
             ]
            ],
            "type": "heatmapgl"
           }
          ],
          "histogram": [
           {
            "marker": {
             "pattern": {
              "fillmode": "overlay",
              "size": 10,
              "solidity": 0.2
             }
            },
            "type": "histogram"
           }
          ],
          "histogram2d": [
           {
            "colorbar": {
             "outlinewidth": 0,
             "ticks": ""
            },
            "colorscale": [
             [
              0,
              "#0d0887"
             ],
             [
              0.1111111111111111,
              "#46039f"
             ],
             [
              0.2222222222222222,
              "#7201a8"
             ],
             [
              0.3333333333333333,
              "#9c179e"
             ],
             [
              0.4444444444444444,
              "#bd3786"
             ],
             [
              0.5555555555555556,
              "#d8576b"
             ],
             [
              0.6666666666666666,
              "#ed7953"
             ],
             [
              0.7777777777777778,
              "#fb9f3a"
             ],
             [
              0.8888888888888888,
              "#fdca26"
             ],
             [
              1,
              "#f0f921"
             ]
            ],
            "type": "histogram2d"
           }
          ],
          "histogram2dcontour": [
           {
            "colorbar": {
             "outlinewidth": 0,
             "ticks": ""
            },
            "colorscale": [
             [
              0,
              "#0d0887"
             ],
             [
              0.1111111111111111,
              "#46039f"
             ],
             [
              0.2222222222222222,
              "#7201a8"
             ],
             [
              0.3333333333333333,
              "#9c179e"
             ],
             [
              0.4444444444444444,
              "#bd3786"
             ],
             [
              0.5555555555555556,
              "#d8576b"
             ],
             [
              0.6666666666666666,
              "#ed7953"
             ],
             [
              0.7777777777777778,
              "#fb9f3a"
             ],
             [
              0.8888888888888888,
              "#fdca26"
             ],
             [
              1,
              "#f0f921"
             ]
            ],
            "type": "histogram2dcontour"
           }
          ],
          "mesh3d": [
           {
            "colorbar": {
             "outlinewidth": 0,
             "ticks": ""
            },
            "type": "mesh3d"
           }
          ],
          "parcoords": [
           {
            "line": {
             "colorbar": {
              "outlinewidth": 0,
              "ticks": ""
             }
            },
            "type": "parcoords"
           }
          ],
          "pie": [
           {
            "automargin": true,
            "type": "pie"
           }
          ],
          "scatter": [
           {
            "fillpattern": {
             "fillmode": "overlay",
             "size": 10,
             "solidity": 0.2
            },
            "type": "scatter"
           }
          ],
          "scatter3d": [
           {
            "line": {
             "colorbar": {
              "outlinewidth": 0,
              "ticks": ""
             }
            },
            "marker": {
             "colorbar": {
              "outlinewidth": 0,
              "ticks": ""
             }
            },
            "type": "scatter3d"
           }
          ],
          "scattercarpet": [
           {
            "marker": {
             "colorbar": {
              "outlinewidth": 0,
              "ticks": ""
             }
            },
            "type": "scattercarpet"
           }
          ],
          "scattergeo": [
           {
            "marker": {
             "colorbar": {
              "outlinewidth": 0,
              "ticks": ""
             }
            },
            "type": "scattergeo"
           }
          ],
          "scattergl": [
           {
            "marker": {
             "colorbar": {
              "outlinewidth": 0,
              "ticks": ""
             }
            },
            "type": "scattergl"
           }
          ],
          "scattermapbox": [
           {
            "marker": {
             "colorbar": {
              "outlinewidth": 0,
              "ticks": ""
             }
            },
            "type": "scattermapbox"
           }
          ],
          "scatterpolar": [
           {
            "marker": {
             "colorbar": {
              "outlinewidth": 0,
              "ticks": ""
             }
            },
            "type": "scatterpolar"
           }
          ],
          "scatterpolargl": [
           {
            "marker": {
             "colorbar": {
              "outlinewidth": 0,
              "ticks": ""
             }
            },
            "type": "scatterpolargl"
           }
          ],
          "scatterternary": [
           {
            "marker": {
             "colorbar": {
              "outlinewidth": 0,
              "ticks": ""
             }
            },
            "type": "scatterternary"
           }
          ],
          "surface": [
           {
            "colorbar": {
             "outlinewidth": 0,
             "ticks": ""
            },
            "colorscale": [
             [
              0,
              "#0d0887"
             ],
             [
              0.1111111111111111,
              "#46039f"
             ],
             [
              0.2222222222222222,
              "#7201a8"
             ],
             [
              0.3333333333333333,
              "#9c179e"
             ],
             [
              0.4444444444444444,
              "#bd3786"
             ],
             [
              0.5555555555555556,
              "#d8576b"
             ],
             [
              0.6666666666666666,
              "#ed7953"
             ],
             [
              0.7777777777777778,
              "#fb9f3a"
             ],
             [
              0.8888888888888888,
              "#fdca26"
             ],
             [
              1,
              "#f0f921"
             ]
            ],
            "type": "surface"
           }
          ],
          "table": [
           {
            "cells": {
             "fill": {
              "color": "#EBF0F8"
             },
             "line": {
              "color": "white"
             }
            },
            "header": {
             "fill": {
              "color": "#C8D4E3"
             },
             "line": {
              "color": "white"
             }
            },
            "type": "table"
           }
          ]
         },
         "layout": {
          "annotationdefaults": {
           "arrowcolor": "#2a3f5f",
           "arrowhead": 0,
           "arrowwidth": 1
          },
          "autotypenumbers": "strict",
          "coloraxis": {
           "colorbar": {
            "outlinewidth": 0,
            "ticks": ""
           }
          },
          "colorscale": {
           "diverging": [
            [
             0,
             "#8e0152"
            ],
            [
             0.1,
             "#c51b7d"
            ],
            [
             0.2,
             "#de77ae"
            ],
            [
             0.3,
             "#f1b6da"
            ],
            [
             0.4,
             "#fde0ef"
            ],
            [
             0.5,
             "#f7f7f7"
            ],
            [
             0.6,
             "#e6f5d0"
            ],
            [
             0.7,
             "#b8e186"
            ],
            [
             0.8,
             "#7fbc41"
            ],
            [
             0.9,
             "#4d9221"
            ],
            [
             1,
             "#276419"
            ]
           ],
           "sequential": [
            [
             0,
             "#0d0887"
            ],
            [
             0.1111111111111111,
             "#46039f"
            ],
            [
             0.2222222222222222,
             "#7201a8"
            ],
            [
             0.3333333333333333,
             "#9c179e"
            ],
            [
             0.4444444444444444,
             "#bd3786"
            ],
            [
             0.5555555555555556,
             "#d8576b"
            ],
            [
             0.6666666666666666,
             "#ed7953"
            ],
            [
             0.7777777777777778,
             "#fb9f3a"
            ],
            [
             0.8888888888888888,
             "#fdca26"
            ],
            [
             1,
             "#f0f921"
            ]
           ],
           "sequentialminus": [
            [
             0,
             "#0d0887"
            ],
            [
             0.1111111111111111,
             "#46039f"
            ],
            [
             0.2222222222222222,
             "#7201a8"
            ],
            [
             0.3333333333333333,
             "#9c179e"
            ],
            [
             0.4444444444444444,
             "#bd3786"
            ],
            [
             0.5555555555555556,
             "#d8576b"
            ],
            [
             0.6666666666666666,
             "#ed7953"
            ],
            [
             0.7777777777777778,
             "#fb9f3a"
            ],
            [
             0.8888888888888888,
             "#fdca26"
            ],
            [
             1,
             "#f0f921"
            ]
           ]
          },
          "colorway": [
           "#636efa",
           "#EF553B",
           "#00cc96",
           "#ab63fa",
           "#FFA15A",
           "#19d3f3",
           "#FF6692",
           "#B6E880",
           "#FF97FF",
           "#FECB52"
          ],
          "font": {
           "color": "#2a3f5f"
          },
          "geo": {
           "bgcolor": "white",
           "lakecolor": "white",
           "landcolor": "#E5ECF6",
           "showlakes": true,
           "showland": true,
           "subunitcolor": "white"
          },
          "hoverlabel": {
           "align": "left"
          },
          "hovermode": "closest",
          "mapbox": {
           "style": "light"
          },
          "paper_bgcolor": "white",
          "plot_bgcolor": "#E5ECF6",
          "polar": {
           "angularaxis": {
            "gridcolor": "white",
            "linecolor": "white",
            "ticks": ""
           },
           "bgcolor": "#E5ECF6",
           "radialaxis": {
            "gridcolor": "white",
            "linecolor": "white",
            "ticks": ""
           }
          },
          "scene": {
           "xaxis": {
            "backgroundcolor": "#E5ECF6",
            "gridcolor": "white",
            "gridwidth": 2,
            "linecolor": "white",
            "showbackground": true,
            "ticks": "",
            "zerolinecolor": "white"
           },
           "yaxis": {
            "backgroundcolor": "#E5ECF6",
            "gridcolor": "white",
            "gridwidth": 2,
            "linecolor": "white",
            "showbackground": true,
            "ticks": "",
            "zerolinecolor": "white"
           },
           "zaxis": {
            "backgroundcolor": "#E5ECF6",
            "gridcolor": "white",
            "gridwidth": 2,
            "linecolor": "white",
            "showbackground": true,
            "ticks": "",
            "zerolinecolor": "white"
           }
          },
          "shapedefaults": {
           "line": {
            "color": "#2a3f5f"
           }
          },
          "ternary": {
           "aaxis": {
            "gridcolor": "white",
            "linecolor": "white",
            "ticks": ""
           },
           "baxis": {
            "gridcolor": "white",
            "linecolor": "white",
            "ticks": ""
           },
           "bgcolor": "#E5ECF6",
           "caxis": {
            "gridcolor": "white",
            "linecolor": "white",
            "ticks": ""
           }
          },
          "title": {
           "x": 0.05
          },
          "xaxis": {
           "automargin": true,
           "gridcolor": "white",
           "linecolor": "white",
           "ticks": "",
           "title": {
            "standoff": 15
           },
           "zerolinecolor": "white",
           "zerolinewidth": 2
          },
          "yaxis": {
           "automargin": true,
           "gridcolor": "white",
           "linecolor": "white",
           "ticks": "",
           "title": {
            "standoff": 15
           },
           "zerolinecolor": "white",
           "zerolinewidth": 2
          }
         }
        },
        "width": 1400,
        "xaxis": {
         "anchor": "y",
         "domain": [
          0,
          1
         ],
         "rangeslider": {
          "visible": true
         },
         "title": {
          "text": "BITSAT Score"
         },
         "type": "linear"
        },
        "yaxis": {
         "anchor": "x",
         "domain": [
          0,
          1
         ],
         "title": {
          "text": "CGPA"
         }
        }
       }
      }
     },
     "metadata": {},
     "output_type": "display_data"
    }
   ],
   "source": [
    "def bitsatVScgScatter(df):    \n",
    "    scatter_df = df[[\"Final_ID\", \"Name\", \"CGPA\", \"BITSAT Score\", \"Branch\"]]\n",
    "    # Scatter plot for CGPA vs BITSAT Score\n",
    "    fig = px.scatter(scatter_df, x=\"BITSAT Score\", y=\"CGPA\", color=\"Branch\", hover_data=['Name'])\n",
    "\n",
    "    # Add range slider to the scatter plot, slider on X-axis. Dont display plot points on the slider\n",
    "    fig.update_layout(\n",
    "        xaxis=dict(\n",
    "            rangeslider=dict(\n",
    "                visible=True\n",
    "            ),\n",
    "            type=\"linear\",\n",
    "        ),\n",
    "        autosize=False,\n",
    "        width=1400,\n",
    "        height=600,\n",
    "    )\n",
    "\n",
    "\n",
    "    fig.show()\n",
    "bitsatVScgScatter(df)    "
   ]
  },
  {
   "cell_type": "code",
   "execution_count": 11,
   "metadata": {},
   "outputs": [
    {
     "data": {
      "application/vnd.plotly.v1+json": {
       "config": {
        "plotlyServerURL": "https://plot.ly"
       },
       "data": [
        {
         "alignmentgroup": "True",
         "bingroup": "y",
         "histfunc": "avg",
         "hovertemplate": "{count}",
         "legendgroup": "",
         "marker": {
          "color": "#636efa",
          "pattern": {
           "shape": ""
          }
         },
         "name": "",
         "offsetgroup": "",
         "orientation": "h",
         "showlegend": false,
         "texttemplate": "%{value}",
         "type": "histogram",
         "x": [
          6.41,
          7.34,
          6.94,
          8.76,
          8.33,
          6.18,
          9,
          7.01,
          7.72,
          8.29,
          8.62,
          7.33,
          7.03,
          7.49,
          8.15,
          8.1,
          7.73,
          7.63,
          8.15,
          8.04,
          7.4,
          8.07,
          7.7,
          7.89,
          8.86,
          7.94,
          7.07,
          7.7,
          7.99,
          8.89,
          7.61,
          8.07,
          7.52,
          8.34,
          9.16,
          8.12,
          8.8,
          6.9,
          7.76,
          7.04,
          7.37,
          6.57,
          8.63,
          8.11,
          8.12,
          8.38,
          8.3,
          7.77,
          8.05,
          8.07,
          8.85,
          7.41,
          7.98,
          7.01,
          9.43,
          8.25,
          8.38,
          8.17,
          8.01,
          6.75,
          9.09,
          8.68,
          7.12,
          5.81,
          8.1,
          8.19,
          7.64,
          8.18,
          8.7,
          6.7,
          5.81,
          6.12,
          8.54,
          7.68,
          9.34,
          7.17,
          9.2,
          9.4,
          7.39,
          8.4,
          7.96,
          5.17,
          7.49,
          7.84,
          8.75,
          5.88,
          9.11,
          7.85,
          8.71,
          7.71,
          8.51,
          7.73,
          8.08,
          8.53,
          7.81,
          8.12,
          8.15,
          8.53,
          7.56,
          7.7,
          7.49,
          8.63,
          8.32,
          9.28,
          8.24,
          7.21,
          8.17,
          8.16,
          8.59,
          8.07,
          8.07,
          7.78,
          9.64,
          8.37,
          7.47,
          7.84,
          8.75,
          7.55,
          7.49,
          6.46,
          7.68,
          8.13,
          8.24,
          7.05,
          8.68,
          7.98,
          6.18,
          9.1,
          7.81,
          8.41,
          7.28,
          8.39,
          7.45,
          7.55,
          8.52,
          8.17,
          6.97,
          7.64,
          6.96,
          6.67,
          9,
          7.14,
          8.53,
          7.1,
          5.26,
          6.94,
          7.89,
          7.92,
          7.82,
          7.81,
          8.31,
          8.92,
          8.35,
          7.55,
          7.17,
          8.63,
          8.06,
          8.32,
          8.26,
          7.62,
          8.43,
          7.13,
          7.15,
          9,
          8.43,
          8.13,
          8.79,
          8.16,
          8.01,
          7.99,
          8.01,
          7.66,
          7.4,
          7.69,
          6.79,
          6.59,
          8.29,
          8.28,
          6.59,
          6.97,
          6.1,
          8.53,
          8.3,
          8.86,
          8.61,
          6.17,
          8.8,
          6.89,
          8.6,
          8.44,
          9.01,
          8.15,
          7.1,
          7.3,
          8.32,
          8.88,
          8.34,
          8.39,
          7.34,
          8.25,
          6.67,
          7.54,
          8.49,
          7.38,
          7.48,
          8.5,
          8.32,
          8.46,
          8.49,
          7.62,
          8.05,
          8.25,
          7.74,
          7.57,
          6.15,
          8.04,
          7.61,
          8.42,
          8.16,
          7.94,
          8.63,
          7.97,
          7.15,
          7.59,
          9.25,
          6.94,
          8.28,
          8.29,
          7.38,
          7.78,
          7.6,
          7.45,
          8.39,
          6.45,
          7.9,
          8.7,
          7.6,
          7.67,
          7.53,
          8.21,
          8.36,
          8.51,
          8.41,
          8.39,
          8.01,
          7.89,
          6.95,
          7.23,
          7.53,
          8.65,
          7.51,
          7.38,
          6.89,
          8.16,
          7.04,
          7.61,
          8.03,
          7.75,
          8.78,
          8.48,
          8.09,
          8.01,
          7.09,
          8.37,
          7.56,
          8.69,
          9.17,
          6.53,
          8.86,
          7.46,
          7.41,
          6.89,
          8.08,
          7.5,
          6.36,
          7.99,
          5.74,
          8.9,
          8.41,
          8.32,
          8.57,
          7.4,
          8.05,
          7.39,
          7.79,
          6.74,
          7.7,
          6.47,
          7.12,
          7.21,
          8.48,
          7.56,
          5.85,
          8.09,
          8.17,
          9.07,
          8.29,
          8.77,
          7.92,
          7.64,
          8.42,
          7.56,
          7.51,
          8.73,
          5.85,
          6.1,
          8.89,
          7.73,
          9.24,
          6.9,
          9.35,
          8.39,
          6.94,
          7.7,
          7.85,
          8.22,
          6.73,
          6.84,
          7.06,
          7,
          8,
          7.4,
          8.06,
          6.59,
          7.08,
          8.34,
          6.04,
          6.06,
          8.67,
          7.82,
          6.61,
          6.21,
          5,
          6.86,
          7.21,
          7.25,
          6.99,
          8.28,
          5.99,
          9.16,
          6.51,
          8.52,
          8.36,
          6.77,
          8.93,
          8.55,
          9.12,
          7.72,
          8.32,
          8.08,
          7.2,
          7.98,
          5.68,
          8.41,
          8.92,
          8.05,
          8.53,
          8.15,
          6.9,
          9.57,
          7.51,
          8.15,
          8.04,
          9.53,
          8.09,
          7.96,
          5.77,
          8.39,
          8.74,
          9.05,
          9.58,
          8.37,
          7.61,
          8.25,
          8.42,
          8.94,
          8.63,
          7.06,
          7.49,
          8.52,
          7.01,
          6.92,
          8.48,
          7.77,
          6.39,
          7.57,
          8.35,
          7.43,
          6.99,
          8.65,
          7.84,
          7.88,
          8.95,
          8.32,
          9.06,
          8.97,
          8.74,
          9.02,
          8.62,
          9.42,
          9.09,
          8.8,
          8.73,
          7.44,
          7.91,
          8.9,
          7.51,
          7.05,
          7.76,
          7.41,
          9.37,
          8.44,
          8.33,
          8.26,
          7.54,
          7.2,
          7.6,
          9.09,
          9.16,
          7.52,
          7.95,
          8.52,
          8.54,
          8.2,
          8.13,
          9.63,
          7.71,
          7.45,
          8.25,
          8.6,
          8.99,
          9.06,
          8.68,
          8.11,
          7.26,
          8.6,
          8.82,
          8.23,
          7.66,
          8.16,
          8.17,
          8.32,
          7.32,
          8.37,
          7.93,
          8.1,
          8.35,
          7.39,
          8.88,
          8.56,
          7.84,
          7.64,
          9.24,
          9.41,
          8.33,
          9.72,
          7.22,
          8.05,
          9.01,
          7.44,
          6.7,
          9.38,
          8.2,
          8.41,
          8.46,
          9.42,
          6.09,
          8.7,
          6.97,
          8.5,
          8.02,
          8.43,
          8.03,
          7.86,
          9.17,
          7.5,
          7.99,
          9.63,
          8.17,
          5.98,
          6.83,
          8.78,
          8.74,
          9.4,
          7.39,
          7.2,
          8.72,
          9.42,
          7.66,
          8.07,
          8.79,
          6.98,
          7.94,
          8.38,
          8.27,
          7.04,
          8.56,
          8.08,
          8.4,
          8.26,
          6.75,
          9.17,
          8.49,
          8.01,
          6.9,
          9.45,
          8.11,
          8.32,
          7.12,
          8.33,
          6.98,
          8.34,
          9.57,
          8,
          8.32,
          9.57,
          9.22,
          7.53,
          9.52,
          8.4,
          7.79,
          7.13,
          8.66,
          8.26,
          8.5,
          9.12,
          9.04,
          7.57,
          7.89,
          8.02,
          8.06,
          7.79,
          6.36,
          6.37,
          8.07,
          7.88,
          7.37,
          7.19,
          8.34,
          7.14,
          8.23,
          6.77,
          6.78,
          7.61,
          7.18,
          7.19,
          7.61,
          7.89,
          7.98,
          8.19,
          8.35,
          8.1,
          8.74,
          8.45,
          8.11,
          8.14,
          8.15,
          7.76,
          8.86,
          6.62,
          7.9,
          7.41,
          7.17,
          7.36,
          9.06,
          7.27,
          7.91,
          7.3,
          6.55,
          8.25,
          8.29,
          8.32,
          7.93,
          8.45,
          7.63,
          8.06,
          8.4,
          7.35,
          8.9,
          9.6,
          7.11,
          6.91,
          8.66,
          7.67,
          8.65,
          9.08,
          7.56,
          8.97,
          6.31,
          8.64,
          9.36,
          6.96,
          9.24,
          7.75,
          7.46,
          8.75,
          8.21,
          8.24,
          8.01,
          7.68,
          5.69,
          7.18,
          7.88,
          7.44,
          8.85,
          8.74,
          7.95,
          6.61,
          7.14,
          7.73,
          6.28,
          7.95,
          8.6,
          8.07,
          8.76,
          7.6,
          6.93,
          7.56,
          6.59,
          8.13,
          7.31,
          6.71,
          6.62,
          9.8,
          8.18,
          7.7,
          7.56,
          7.16,
          7.86,
          8.68,
          8.6,
          9.18,
          8.29,
          6.39,
          8.48,
          8.38,
          7.41,
          8.55,
          8.22,
          8.07,
          8.85,
          9.1,
          7.85,
          9.1,
          8.9,
          7.18,
          7.62,
          8.04,
          7.84,
          8.5,
          7.37,
          8.5,
          7.06,
          8.01,
          5.53,
          8.13,
          8.79,
          8.48,
          7.51,
          7.91,
          6.67,
          8.42,
          9.08,
          9.35,
          7.08,
          7.58,
          7.82,
          8.85,
          7.04,
          8.43,
          7.18,
          9.07,
          9.55,
          9.4,
          8.7,
          7.16,
          7.9,
          9.23,
          9.73,
          7.12,
          8.19,
          7.6,
          7.95,
          6.57,
          7.47,
          6.5,
          8.81,
          9.17,
          8.13,
          6.76,
          6.61,
          8.42,
          7.64,
          7.77,
          8.06,
          6.68,
          6.56,
          5.61,
          8.49,
          8.68,
          7.52,
          7.7,
          7.45,
          7.64,
          8.09,
          7.88,
          7.12,
          7.08,
          7.96,
          8.11,
          9.62,
          8.74,
          8.83,
          8.76,
          8.09,
          8.04,
          6.75,
          7.43,
          8.57,
          7.8,
          8.09,
          8.6,
          7.96,
          9.11,
          7.66,
          7.59,
          8.56,
          7.48,
          7.48,
          6.81,
          5.11,
          7.49,
          7.85,
          6.91,
          5.91,
          7.15,
          8.02,
          7.67,
          7.57,
          8.17,
          7.5,
          7.93,
          8.77,
          6.74,
          7.83,
          7.58,
          7.49,
          7.7,
          8,
          7.35,
          8.03,
          8.73,
          9.19,
          7.59,
          7.87,
          8.3,
          8.22,
          8.65,
          8.44,
          8.55,
          7.85,
          8.76,
          8.5,
          9.37,
          8.12,
          7.86,
          7.42,
          6.99,
          6.73,
          6.97,
          6.97,
          8.93,
          8.05,
          8.32,
          7.81,
          8.11,
          7.72,
          8.01,
          7.34,
          8.31,
          7.84,
          7.43,
          7.46,
          7.38,
          7.91,
          7.24,
          8.17,
          8.31,
          7.41,
          8.07,
          8.31,
          7.75,
          8.99,
          8.75,
          8.41,
          9.51,
          8.57,
          8.65,
          8.47,
          8.29,
          9.08,
          8.91,
          8.99,
          9.25,
          9.49,
          8.8,
          8.72,
          9.02,
          8.29,
          8.25,
          8.49,
          8.64,
          8.79,
          8.68,
          8.74,
          8.4,
          9.41,
          8.84,
          7.61,
          7.69,
          8.24,
          8.22,
          7.26,
          8.37,
          8.14,
          7.4,
          9.22,
          8.57,
          8.63,
          8.38,
          8.41,
          8.64,
          8.52,
          8.9,
          9.25,
          8.55,
          8.45,
          8.58,
          8.17,
          8.58,
          6.39,
          7.26,
          6.25,
          7.05,
          7.09,
          5.55,
          7.43,
          6.83,
          7.7,
          6.18,
          5.67,
          5.54,
          7.67,
          7.79,
          8.33,
          7.82,
          7.8,
          8.38,
          7.66,
          7.64,
          7.79,
          7.89,
          7.74,
          7.57,
          8.51,
          7.52,
          8.07,
          7.69,
          7.4,
          7.55,
          8.04,
          7.32,
          7.79,
          7.08,
          7.67,
          7.47,
          7.36,
          8.32,
          8.93,
          8.9,
          8.68,
          8.87,
          8.22,
          9.12,
          8.84,
          7.93,
          8.92,
          8.7,
          8.94,
          8.48,
          9.15,
          8.06,
          8.8,
          8.42,
          8.13,
          8.15,
          7.49,
          9.01,
          8.61,
          8.15,
          7.75,
          8,
          8.66,
          8.3,
          8.18,
          8.68,
          8.86,
          7.69,
          8.25,
          8.07,
          8.32,
          8.35,
          8.38,
          7.41,
          6.34,
          7.52,
          7.85,
          8.32,
          8.08,
          8,
          7.76,
          6.29,
          7.99,
          8.43,
          7.17,
          8.19,
          7.77,
          7.28,
          7.46,
          7.92,
          7.65,
          8.13,
          6.87,
          7.64,
          8.37,
          8.19,
          9.04,
          7.99,
          8.6,
          8.95,
          8.56,
          8.51,
          7.35,
          9.1,
          8.46,
          8.74,
          8.26,
          8.7,
          8.88,
          8.52,
          8.49,
          8.95,
          8.07,
          8.79,
          6.93,
          8.11,
          8.74,
          8.08,
          8.41,
          8.13,
          8.36
         ],
         "xaxis": "x",
         "y": [
          "Central Board of Secondary Education",
          "Board of Intermediate Education, Telangana",
          "Central Board of Secondary Education",
          "Central Board of Secondary Education",
          "Board of Intermediate Education, Telangana",
          "Central Board of Secondary Education",
          "Central Board of Secondary Education",
          "Central Board of Secondary Education",
          "Board of Intermediate Education, Andhra Pradesh",
          "Central Board of Secondary Education",
          "Central Board of Secondary Education",
          "Board of Intermediate Education, Andhra Pradesh",
          "Board of Intermediate Education, Telangana",
          "Central Board of Secondary Education",
          "Central Board of Secondary Education",
          "Council for the Indian School Certificate Examination",
          "Board of Intermediate Education, Telangana",
          "Council for the Indian School Certificate Examination",
          "Central Board of Secondary Education",
          "Central Board of Secondary Education",
          "Board of Intermediate Education, Andhra Pradesh",
          "Central Board of Secondary Education",
          "Central Board of Secondary Education",
          "Maharashtra State Board of Secondary and Higher Secondary Education",
          "Maharashtra State Board of Secondary and Higher Secondary Education",
          "Central Board of Secondary Education",
          "Central Board of Secondary Education",
          "Gujarat Secondary Education Board, Gujarat",
          "Central Board of Secondary Education",
          "Central Board of Secondary Education",
          "Central Board of Secondary Education",
          "Board of Intermediate Education, Telangana",
          "Central Board of Secondary Education",
          "Central Board of Secondary Education",
          "Central Board of Secondary Education",
          "Central Board of Secondary Education",
          "Central Board of Secondary Education",
          "Board of Intermediate Education, Telangana",
          "Central Board of Secondary Education",
          "Central Board of Secondary Education",
          "Central Board of Secondary Education",
          "Council for the Indian School Certificate Examination",
          "Central Board of Secondary Education",
          "Central Board of Secondary Education",
          "Board of Intermediate Education, Telangana",
          "Central Board of Secondary Education",
          "Maharashtra State Board of Secondary and Higher Secondary Education",
          "Central Board of Secondary Education",
          "Central Board of Secondary Education",
          "Board of Intermediate Education, Andhra Pradesh",
          "Central Board of Secondary Education",
          "Central Board of Secondary Education",
          "Maharashtra State Board of Secondary and Higher Secondary Education",
          "Board of Intermediate Education, Andhra Pradesh",
          "Central Board of Secondary Education",
          "Board of Intermediate Education, Telangana",
          "Central Board of Secondary Education",
          "Central Board of Secondary Education",
          "Board of Secondary Education, Rajasthan",
          "Board of Intermediate Education, Telangana",
          "Council for the Indian School Certificate Examination",
          "Central Board of Secondary Education",
          "Board of Intermediate Education, Telangana",
          "Board of Intermediate Examination, Uttar Pradesh",
          "Board of Secondary Education, Madhya Pradesh",
          "Central Board of Secondary Education",
          "Board of Intermediate Education, Andhra Pradesh",
          "Central Board of Secondary Education",
          "Central Board of Secondary Education",
          "Board of Intermediate Education, Telangana",
          "Board of Intermediate Education, Andhra Pradesh",
          "Board of Intermediate Education, Telangana",
          "Board of Intermediate Education, Andhra Pradesh",
          "Central Board of Secondary Education",
          "Central Board of Secondary Education",
          "Central Board of Secondary Education",
          "Central Board of Secondary Education",
          "Central Board of Secondary Education",
          "Central Board of Secondary Education",
          "Board of Intermediate Education, Telangana",
          "Board of Intermediate Education, Telangana",
          "Central Board of Secondary Education",
          "Board of Pre-University Examination, Karnataka",
          "Central Board of Secondary Education",
          "Council for the Indian School Certificate Examination",
          "Central Board of Secondary Education",
          "Board of Intermediate Education, Telangana",
          "Board of Intermediate Education, Telangana",
          "Board of Intermediate Education, Telangana",
          "Board of Intermediate Education, Andhra Pradesh",
          "Board of Intermediate Education, Andhra Pradesh",
          "Board of Intermediate Education, Andhra Pradesh",
          "Board of Intermediate Education, Telangana",
          "Central Board of Secondary Education",
          "Central Board of Secondary Education",
          "Central Board of Secondary Education",
          "Board of Pre-University Examination, Karnataka",
          "Central Board of Secondary Education",
          "Central Board of Secondary Education",
          "Central Board of Secondary Education",
          "Central Board of Secondary Education",
          "Board of Intermediate Education, Andhra Pradesh",
          "Gujarat Secondary Education Board, Gujarat",
          "Board of Intermediate Education, Andhra Pradesh",
          "Central Board of Secondary Education",
          "Board of Intermediate Education, Telangana",
          "Central Board of Secondary Education",
          "Board of Intermediate Education, Telangana",
          "Central Board of Secondary Education",
          "Central Board of Secondary Education",
          "Central Board of Secondary Education",
          "Central Board of Secondary Education",
          "Board of Intermediate Education, Telangana",
          "Central Board of Secondary Education",
          "Central Board of Secondary Education",
          "Board of Intermediate Education, Telangana",
          "Central Board of Secondary Education",
          "Central Board of Secondary Education",
          "Central Board of Secondary Education",
          "Maharashtra State Board of Secondary and Higher Secondary Education",
          "Central Board of Secondary Education",
          "Maharashtra State Board of Secondary and Higher Secondary Education",
          "Central Board of Secondary Education",
          "Central Board of Secondary Education",
          "Maharashtra State Board of Secondary and Higher Secondary Education",
          "Central Board of Secondary Education",
          "Board of Intermediate Education, Telangana",
          "Maharashtra State Board of Secondary and Higher Secondary Education",
          "Board of Intermediate Education, Andhra Pradesh",
          "Maharashtra State Board of Secondary and Higher Secondary Education",
          "Central Board of Secondary Education",
          "Central Board of Secondary Education",
          "Central Board of Secondary Education",
          "Board of Intermediate Education, Andhra Pradesh",
          "Maharashtra State Board of Secondary and Higher Secondary Education",
          "Central Board of Secondary Education",
          "Central Board of Secondary Education",
          "Board of Intermediate Education, Telangana",
          "Board of Intermediate Education, Telangana",
          "Board of Intermediate Education, Telangana",
          "Board of Pre-University Examination, Karnataka",
          "Central Board of Secondary Education",
          "Maharashtra State Board of Secondary and Higher Secondary Education",
          "Board of Intermediate Education, Telangana",
          "Board of Intermediate Education, Telangana",
          "Board of Intermediate Education, Andhra Pradesh",
          "Maharashtra State Board of Secondary and Higher Secondary Education",
          "Central Board of Secondary Education",
          "Board of Intermediate Education, Andhra Pradesh",
          "Central Board of Secondary Education",
          "Central Board of Secondary Education",
          "Council for the Indian School Certificate Examination",
          "Central Board of Secondary Education",
          "Central Board of Secondary Education",
          "Central Board of Secondary Education",
          "Central Board of Secondary Education",
          "Central Board of Secondary Education",
          "Central Board of Secondary Education",
          "Central Board of Secondary Education",
          "Board of Pre-University Examination, Karnataka",
          "Central Board of Secondary Education",
          "Central Board of Secondary Education",
          "Board of Intermediate Education, Andhra Pradesh",
          "Central Board of Secondary Education",
          "Central Board of Secondary Education",
          "Central Board of Secondary Education",
          "Maharashtra State Board of Secondary and Higher Secondary Education",
          "Board of Pre-University Examination, Karnataka",
          "Board of Intermediate Education, Telangana",
          "Board of Secondary Education, Rajasthan",
          "Central Board of Secondary Education",
          "Central Board of Secondary Education",
          "Board of Intermediate Education, Telangana",
          "Central Board of Secondary Education",
          "Board of Intermediate Education, Andhra Pradesh",
          "Board of Intermediate Education, Andhra Pradesh",
          "Central Board of Secondary Education",
          "Maharashtra State Board of Secondary and Higher Secondary Education",
          "Board of Intermediate Education, Telangana",
          "Board of Intermediate Education, Telangana",
          "Board of Intermediate Education, Telangana",
          "Council for the Indian School Certificate Examination",
          "Maharashtra State Board of Secondary and Higher Secondary Education",
          "Central Board of Secondary Education",
          "Central Board of Secondary Education",
          "Central Board of Secondary Education",
          "West Bengal Council of Higher Secondary Examination",
          "Board of Intermediate Education, Telangana",
          "Central Board of Secondary Education",
          "Maharashtra State Board of Secondary and Higher Secondary Education",
          "Council for the Indian School Certificate Examination",
          "Central Board of Secondary Education",
          "Board of Intermediate Education, Telangana",
          "Maharashtra State Board of Secondary and Higher Secondary Education",
          "Board of Pre-University Examination, Karnataka",
          "Central Board of Secondary Education",
          "Central Board of Secondary Education",
          "Central Board of Secondary Education",
          "Central Board of Secondary Education",
          "Central Board of Secondary Education",
          "Central Board of Secondary Education",
          "Board of Intermediate Education, Telangana",
          "Board of Intermediate Education, Telangana",
          "Board of Intermediate Education, Andhra Pradesh",
          "Central Board of Secondary Education",
          "Central Board of Secondary Education",
          "Board of Intermediate Education, Telangana",
          "Board of Intermediate Education, Telangana",
          "Central Board of Secondary Education",
          "Central Board of Secondary Education",
          "Central Board of Secondary Education",
          "Council for the Indian School Certificate Examination",
          "Maharashtra State Board of Secondary and Higher Secondary Education",
          "Central Board of Secondary Education",
          "Board of Intermediate Education, Telangana",
          "Board of Intermediate Education, Telangana",
          "Central Board of Secondary Education",
          "Central Board of Secondary Education",
          "Central Board of Secondary Education",
          "Central Board of Secondary Education",
          "Central Board of Secondary Education",
          "Board of Intermediate Education, Andhra Pradesh",
          "Board of Intermediate Education, Telangana",
          "Central Board of Secondary Education",
          "Central Board of Secondary Education",
          "Board of Intermediate Education, Andhra Pradesh",
          "Central Board of Secondary Education",
          "Central Board of Secondary Education",
          "Central Board of Secondary Education",
          "Board of Intermediate Education, Andhra Pradesh",
          "Board of Intermediate Education, Andhra Pradesh",
          "Board of Intermediate Education, Andhra Pradesh",
          "Central Board of Secondary Education",
          "Central Board of Secondary Education",
          "Board of Intermediate Education, Telangana",
          "Central Board of Secondary Education",
          "Central Board of Secondary Education",
          "Maharashtra State Board of Secondary and Higher Secondary Education",
          "Board of Intermediate Education, Telangana",
          "Central Board of Secondary Education",
          "Maharashtra State Board of Secondary and Higher Secondary Education",
          "Central Board of Secondary Education",
          "Board of Pre-University Examination, Karnataka",
          "Board of Intermediate Education, Telangana",
          "Central Board of Secondary Education",
          "Central Board of Secondary Education",
          "Central Board of Secondary Education",
          "Central Board of Secondary Education",
          "Board of Intermediate Education, Andhra Pradesh",
          "Maharashtra State Board of Secondary and Higher Secondary Education",
          "Central Board of Secondary Education",
          "Central Board of Secondary Education",
          "Maharashtra State Board of Secondary and Higher Secondary Education",
          "Maharashtra State Board of Secondary and Higher Secondary Education",
          "Board of Intermediate Education, Telangana",
          "Central Board of Secondary Education",
          "Council for the Indian School Certificate Examination",
          "Board of Intermediate Education, Andhra Pradesh",
          "Central Board of Secondary Education",
          "Council for the Indian School Certificate Examination",
          "Board of Intermediate Education, Telangana",
          "Board of Pre-University Examination, Karnataka",
          "Board of Intermediate Education, Telangana",
          "Central Board of Secondary Education",
          "Central Board of Secondary Education",
          "Central Board of Secondary Education",
          "Central Board of Secondary Education",
          "Maharashtra State Board of Secondary and Higher Secondary Education",
          "Central Board of Secondary Education",
          "Maharashtra State Board of Secondary and Higher Secondary Education",
          "Board of Intermediate Education, Telangana",
          "Central Board of Secondary Education",
          "Any Other Board/ University (not covered above)",
          "Board of Intermediate Education, Andhra Pradesh",
          "Board of Intermediate Education, Telangana",
          "Board of Intermediate Education, Telangana",
          "Central Board of Secondary Education",
          "Central Board of Secondary Education",
          "Board of Intermediate Education, Andhra Pradesh",
          "Central Board of Secondary Education",
          "Council for the Indian School Certificate Examination",
          "Board of Intermediate Education, Andhra Pradesh",
          "Board of Intermediate Education, Telangana",
          "Board of Intermediate Education, Telangana",
          "Board of Intermediate Education, Andhra Pradesh",
          "Board of Intermediate Education, Andhra Pradesh",
          "Maharashtra State Board of Secondary and Higher Secondary Education",
          "Maharashtra State Board of Secondary and Higher Secondary Education",
          "Central Board of Secondary Education",
          "Board of Intermediate Education, Telangana",
          "Board of Intermediate Education, Telangana",
          "Maharashtra State Board of Secondary and Higher Secondary Education",
          "Board of Intermediate Education, Telangana",
          "Board of Intermediate Education, Telangana",
          "Central Board of Secondary Education",
          "Maharashtra State Board of Secondary and Higher Secondary Education",
          "Board of Intermediate Education, Telangana",
          "Maharashtra State Board of Secondary and Higher Secondary Education",
          "Maharashtra State Board of Secondary and Higher Secondary Education",
          "Central Board of Secondary Education",
          "Central Board of Secondary Education",
          "Central Board of Secondary Education",
          "Maharashtra State Board of Secondary and Higher Secondary Education",
          "Maharashtra State Board of Secondary and Higher Secondary Education",
          "Central Board of Secondary Education",
          "Board of Intermediate Education, Telangana",
          "Central Board of Secondary Education",
          "Board of Intermediate Education, Andhra Pradesh",
          "Central Board of Secondary Education",
          "Board of Intermediate Education, Telangana",
          "Central Board of Secondary Education",
          "Maharashtra State Board of Secondary and Higher Secondary Education",
          "Council for the Indian School Certificate Examination",
          "Goa Board of Secondary and Higher Secondary Education",
          "Central Board of Secondary Education",
          "Board of Intermediate Education, Telangana",
          "Board of Intermediate Education, Andhra Pradesh",
          "Central Board of Secondary Education",
          "Board of Intermediate Education, Telangana",
          "Central Board of Secondary Education",
          "Central Board of Secondary Education",
          "Central Board of Secondary Education",
          "Central Board of Secondary Education",
          "Central Board of Secondary Education",
          "Central Board of Secondary Education",
          "Maharashtra State Board of Secondary and Higher Secondary Education",
          "Board of Intermediate Education, Telangana",
          "Board of Intermediate Education, Andhra Pradesh",
          "Central Board of Secondary Education",
          "Central Board of Secondary Education",
          "Central Board of Secondary Education",
          "Board of Intermediate Education, Andhra Pradesh",
          "Board of Intermediate Education, Telangana",
          "Board of Intermediate Education, Telangana",
          "Central Board of Secondary Education",
          "Central Board of Secondary Education",
          "Central Board of Secondary Education",
          "Central Board of Secondary Education",
          "Board of Intermediate Education, Telangana",
          "Central Board of Secondary Education",
          "Central Board of Secondary Education",
          "Board of Pre-University Examination, Karnataka",
          "Central Board of Secondary Education",
          "Central Board of Secondary Education",
          "Central Board of Secondary Education",
          "Maharashtra State Board of Secondary and Higher Secondary Education",
          "Board of Higher Secondary Examination, Tamil Nadu",
          "Central Board of Secondary Education",
          "Central Board of Secondary Education",
          "Board of Intermediate Education, Andhra Pradesh",
          "Central Board of Secondary Education",
          "Maharashtra State Board of Secondary and Higher Secondary Education",
          "Central Board of Secondary Education",
          "Maharashtra State Board of Secondary and Higher Secondary Education",
          "Central Board of Secondary Education",
          "Central Board of Secondary Education",
          "Central Board of Secondary Education",
          "Central Board of Secondary Education",
          "Board of Intermediate Education, Andhra Pradesh",
          "Central Board of Secondary Education",
          "Central Board of Secondary Education",
          "Board of Secondary Education, Rajasthan",
          "Central Board of Secondary Education",
          "Central Board of Secondary Education",
          "Maharashtra State Board of Secondary and Higher Secondary Education",
          "Gujarat Secondary Education Board, Gujarat",
          "Board of Intermediate Education, Telangana",
          "Central Board of Secondary Education",
          "Maharashtra State Board of Secondary and Higher Secondary Education",
          "Central Board of Secondary Education",
          "Central Board of Secondary Education",
          "Central Board of Secondary Education",
          "Central Board of Secondary Education",
          "Central Board of Secondary Education",
          "Central Board of Secondary Education",
          "Central Board of Secondary Education",
          "Central Board of Secondary Education",
          "Board of Intermediate Education, Telangana",
          "Central Board of Secondary Education",
          "Council for the Indian School Certificate Examination",
          "Central Board of Secondary Education",
          "Central Board of Secondary Education",
          "Board of Intermediate Education, Telangana",
          "Central Board of Secondary Education",
          "Board of Intermediate Education, Telangana",
          "Maharashtra State Board of Secondary and Higher Secondary Education",
          "Maharashtra State Board of Secondary and Higher Secondary Education",
          "Central Board of Secondary Education",
          "Board of Intermediate Education, Telangana",
          "Central Board of Secondary Education",
          "Central Board of Secondary Education",
          "Central Board of Secondary Education",
          "Central Board of Secondary Education",
          "Board of Intermediate Education, Telangana",
          "Central Board of Secondary Education",
          "Central Board of Secondary Education",
          "Central Board of Secondary Education",
          "Central Board of Secondary Education",
          "Central Board of Secondary Education",
          "Central Board of Secondary Education",
          "Central Board of Secondary Education",
          "Central Board of Secondary Education",
          "Central Board of Secondary Education",
          "Central Board of Secondary Education",
          "Central Board of Secondary Education",
          "Gujarat Secondary Education Board, Gujarat",
          "Council for the Indian School Certificate Examination",
          "Central Board of Secondary Education",
          "Council for the Indian School Certificate Examination",
          "Maharashtra State Board of Secondary and Higher Secondary Education",
          "Central Board of Secondary Education",
          "Council for the Indian School Certificate Examination",
          "Central Board of Secondary Education",
          "Board of Intermediate Education, Telangana",
          "Board of Intermediate Education, Telangana",
          "Board of Intermediate Education, Telangana",
          "Board of Intermediate Education, Telangana",
          "Central Board of Secondary Education",
          "Central Board of Secondary Education",
          "Central Board of Secondary Education",
          "Central Board of Secondary Education",
          "Central Board of Secondary Education",
          "Central Board of Secondary Education",
          "Board of Intermediate Education, Telangana",
          "Board of Intermediate Education, Telangana",
          "Board of Intermediate Education, Telangana",
          "Board of Intermediate Education, Telangana",
          "Board of Intermediate Education, Telangana",
          "Council for the Indian School Certificate Examination",
          "Board of Intermediate Education, Telangana",
          "Central Board of Secondary Education",
          "Central Board of Secondary Education",
          "Central Board of Secondary Education",
          "Central Board of Secondary Education",
          "Board of Intermediate Education, Telangana",
          "Council for the Indian School Certificate Examination",
          "Board of Intermediate Education, Telangana",
          "Central Board of Secondary Education",
          "Board of Intermediate Education, Telangana",
          "Maharashtra State Board of Secondary and Higher Secondary Education",
          "Board of Intermediate Education, Telangana",
          "Central Board of Secondary Education",
          "Central Board of Secondary Education",
          "Central Board of Secondary Education",
          "Board of Intermediate Education, Telangana",
          "Board of Intermediate Education, Andhra Pradesh",
          "Board of Intermediate Education, Telangana",
          "Central Board of Secondary Education",
          "Board of Secondary Education, Madhya Pradesh",
          "Central Board of Secondary Education",
          "Board of Intermediate Education, Telangana",
          "Central Board of Secondary Education",
          "Board of Intermediate Education, Telangana",
          "Maharashtra State Board of Secondary and Higher Secondary Education",
          "Central Board of Secondary Education",
          "Council for the Indian School Certificate Examination",
          "Board of Intermediate Education, Telangana",
          "Board of Intermediate Education, Telangana",
          "Central Board of Secondary Education",
          "Board of Intermediate Education, Andhra Pradesh",
          "Central Board of Secondary Education",
          "Council for the Indian School Certificate Examination",
          "Board of Intermediate Education, Telangana",
          "Maharashtra State Board of Secondary and Higher Secondary Education",
          "Maharashtra State Board of Secondary and Higher Secondary Education",
          "Council for the Indian School Certificate Examination",
          "Board of Intermediate Education, Andhra Pradesh",
          "Board of Intermediate Education, Telangana",
          "Board of Intermediate Education, Telangana",
          "Central Board of Secondary Education",
          "Central Board of Secondary Education",
          "Central Board of Secondary Education",
          "Central Board of Secondary Education",
          "Board of Intermediate Education, Andhra Pradesh",
          "Central Board of Secondary Education",
          "Board of Intermediate Education, Andhra Pradesh",
          "Central Board of Secondary Education",
          "Central Board of Secondary Education",
          "Gujarat Secondary Education Board, Gujarat",
          "Board of Intermediate Education, Telangana",
          "Council for the Indian School Certificate Examination",
          "Central Board of Secondary Education",
          "Central Board of Secondary Education",
          "Central Board of Secondary Education",
          "Central Board of Secondary Education",
          "Central Board of Secondary Education",
          "Central Board of Secondary Education",
          "Central Board of Secondary Education",
          "Central Board of Secondary Education",
          "Central Board of Secondary Education",
          "Board of Pre-University Examination, Karnataka",
          "Board of Intermediate Education, Telangana",
          "Central Board of Secondary Education",
          "Central Board of Secondary Education",
          "Board of Intermediate Education, Telangana",
          "Central Board of Secondary Education",
          "Board of Intermediate Education, Telangana",
          "Board of Intermediate Education, Telangana",
          "Board of Intermediate Education, Andhra Pradesh",
          "Board of Intermediate Education, Telangana",
          "Board of Intermediate Education, Andhra Pradesh",
          "Board of Intermediate Education, Telangana",
          "Board of Intermediate Education, Telangana",
          "Central Board of Secondary Education",
          "Board of Intermediate Education, Andhra Pradesh",
          "Board of Intermediate Education, Telangana",
          "Board of Intermediate Education, Telangana",
          "Central Board of Secondary Education",
          "Board of Intermediate Education, Andhra Pradesh",
          "Central Board of Secondary Education",
          "Central Board of Secondary Education",
          "Board of Intermediate Education, Telangana",
          "Central Board of Secondary Education",
          "Central Board of Secondary Education",
          "Central Board of Secondary Education",
          "Central Board of Secondary Education",
          "Board of Intermediate Education, Telangana",
          "Maharashtra State Board of Secondary and Higher Secondary Education",
          "Central Board of Secondary Education",
          "Board of Intermediate Education, Telangana",
          "Board of Intermediate Education, Telangana",
          "Central Board of Secondary Education",
          "Central Board of Secondary Education",
          "Central Board of Secondary Education",
          "Council for the Indian School Certificate Examination",
          "Central Board of Secondary Education",
          "Board of Intermediate Education, Telangana",
          "Central Board of Secondary Education",
          "Board of Intermediate Education, Telangana",
          "Central Board of Secondary Education",
          "Board of Intermediate Education, Telangana",
          "Central Board of Secondary Education",
          "Central Board of Secondary Education",
          "Board of Intermediate Education, Andhra Pradesh",
          "Central Board of Secondary Education",
          "Board of Intermediate Education, Telangana",
          "Central Board of Secondary Education",
          "Central Board of Secondary Education",
          "Maharashtra State Board of Secondary and Higher Secondary Education",
          "Central Board of Secondary Education",
          "Central Board of Secondary Education",
          "Central Board of Secondary Education",
          "Board of Intermediate Education, Telangana",
          "Central Board of Secondary Education",
          "Central Board of Secondary Education",
          "Central Board of Secondary Education",
          "Board of Intermediate Education, Telangana",
          "Maharashtra State Board of Secondary and Higher Secondary Education",
          "Central Board of Secondary Education",
          "Maharashtra State Board of Secondary and Higher Secondary Education",
          "Central Board of Secondary Education",
          "Council for the Indian School Certificate Examination",
          "Council for the Indian School Certificate Examination",
          "Board of Intermediate Education, Telangana",
          "Central Board of Secondary Education",
          "Board of Intermediate Education, Telangana",
          "Central Board of Secondary Education",
          "Central Board of Secondary Education",
          "Central Board of Secondary Education",
          "Board of Intermediate Education, Andhra Pradesh",
          "Central Board of Secondary Education",
          "Board of Intermediate Education, Telangana",
          "Maharashtra State Board of Secondary and Higher Secondary Education",
          "Board of Intermediate Education, Telangana",
          "Board of Intermediate Education, Telangana",
          "Board of Intermediate Education, Telangana",
          "Board of Intermediate Education, Telangana",
          "Maharashtra State Board of Secondary and Higher Secondary Education",
          "Central Board of Secondary Education",
          "Central Board of Secondary Education",
          "Central Board of Secondary Education",
          "Central Board of Secondary Education",
          "Board of Intermediate Education, Telangana",
          "Central Board of Secondary Education",
          "Central Board of Secondary Education",
          "Central Board of Secondary Education",
          "Central Board of Secondary Education",
          "Central Board of Secondary Education",
          "Central Board of Secondary Education",
          "Maharashtra State Board of Secondary and Higher Secondary Education",
          "Central Board of Secondary Education",
          "Central Board of Secondary Education",
          "Central Board of Secondary Education",
          "Central Board of Secondary Education",
          "Board of Intermediate Education, Andhra Pradesh",
          "Central Board of Secondary Education",
          "Central Board of Secondary Education",
          "Board of Intermediate Education, Telangana",
          "Board of Intermediate Education, Telangana",
          "Board of Intermediate Education, Telangana",
          "Board of Intermediate Education, Andhra Pradesh",
          "Central Board of Secondary Education",
          "Central Board of Secondary Education",
          "Maharashtra State Board of Secondary and Higher Secondary Education",
          "Board of Intermediate Education, Telangana",
          "Central Board of Secondary Education",
          "Central Board of Secondary Education",
          "Central Board of Secondary Education",
          "Central Board of Secondary Education",
          "Central Board of Secondary Education",
          "Board of Intermediate Education, Telangana",
          "Board of Intermediate Education, Andhra Pradesh",
          "Maharashtra State Board of Secondary and Higher Secondary Education",
          "Central Board of Secondary Education",
          "Central Board of Secondary Education",
          "Central Board of Secondary Education",
          "Board of Intermediate Education, Telangana",
          "Board of Intermediate Education, Telangana",
          "Board of Intermediate Education, Andhra Pradesh",
          "Board of Intermediate Education, Telangana",
          "Board of Intermediate Education, Andhra Pradesh",
          "Board of Intermediate Education, Andhra Pradesh",
          "Board of Intermediate Education, Andhra Pradesh",
          "Council for the Indian School Certificate Examination",
          "Central Board of Secondary Education",
          "Central Board of Secondary Education",
          "Board of Intermediate Education, Andhra Pradesh",
          "Central Board of Secondary Education",
          "Central Board of Secondary Education",
          "Central Board of Secondary Education",
          "Board of Intermediate Education, Telangana",
          "Board of Intermediate Education, Andhra Pradesh",
          "Central Board of Secondary Education",
          "Board of Intermediate Education, Telangana",
          "Central Board of Secondary Education",
          "Board of Intermediate Education, Telangana",
          "Board of Intermediate Education, Telangana",
          "Board of Intermediate Education, Telangana",
          "Central Board of Secondary Education",
          "Board of Intermediate Education, Telangana",
          "Central Board of Secondary Education",
          "Central Board of Secondary Education",
          "Board of Intermediate Education, Telangana",
          "Board of Intermediate Education, Andhra Pradesh",
          "Board of Intermediate Education, Andhra Pradesh",
          "Council for the Indian School Certificate Examination",
          "Board of Intermediate Education, Telangana",
          "Central Board of Secondary Education",
          "Central Board of Secondary Education",
          "Board of Intermediate Education, Telangana",
          "Board of Intermediate Education, Telangana",
          "Board of Intermediate Education, Telangana",
          "Board of Intermediate Education, Telangana",
          "Central Board of Secondary Education",
          "Central Board of Secondary Education",
          "Board of Intermediate Education, Andhra Pradesh",
          "Board of Intermediate Education, Telangana",
          "Board of Intermediate Education, Telangana",
          "Board of Intermediate Education, Telangana",
          "Central Board of Secondary Education",
          "Board of Intermediate Education, Telangana",
          "Council for the Indian School Certificate Examination",
          "Central Board of Secondary Education",
          "Board of Intermediate Education, Telangana",
          "Central Board of Secondary Education",
          "Board of Intermediate Education, Telangana",
          "Central Board of Secondary Education",
          "Maharashtra State Board of Secondary and Higher Secondary Education",
          "Board of Intermediate Education, Andhra Pradesh",
          "Board of Intermediate Education, Andhra Pradesh",
          "Board of Intermediate Education, Telangana",
          "Maharashtra State Board of Secondary and Higher Secondary Education",
          "Central Board of Secondary Education",
          "Board of Intermediate Education, Telangana",
          "Board of Intermediate Education, Telangana",
          "Board of Intermediate Education, Telangana",
          "Board of Intermediate Education, Telangana",
          "Council for the Indian School Certificate Examination",
          "Board of Intermediate Education, Telangana",
          "Board of Intermediate Education, Telangana",
          "Central Board of Secondary Education",
          "Central Board of Secondary Education",
          "Central Board of Secondary Education",
          "Board of Intermediate Education, Telangana",
          "Central Board of Secondary Education",
          "Central Board of Secondary Education",
          "Central Board of Secondary Education",
          "Council for the Indian School Certificate Examination",
          "Central Board of Secondary Education",
          "Maharashtra State Board of Secondary and Higher Secondary Education",
          "Council for the Indian School Certificate Examination",
          "Central Board of Secondary Education",
          "Board of Intermediate Education, Telangana",
          "Board of Secondary Education, Madhya Pradesh",
          "Board of Intermediate Education, Andhra Pradesh",
          "West Bengal Council of Higher Secondary Examination",
          "Council for the Indian School Certificate Examination",
          "Central Board of Secondary Education",
          "Board of Intermediate Education, Telangana",
          "Central Board of Secondary Education",
          "Board of Intermediate Education, Andhra Pradesh",
          "Central Board of Secondary Education",
          "Central Board of Secondary Education",
          "Central Board of Secondary Education",
          "Board of Intermediate Education, Telangana",
          "Board of Intermediate Education, Telangana",
          "Maharashtra State Board of Secondary and Higher Secondary Education",
          "Board of Intermediate Education, Telangana",
          "Board of Intermediate Education, Telangana",
          "Central Board of Secondary Education",
          "Central Board of Secondary Education",
          "Central Board of Secondary Education",
          "Board of Intermediate Education, Telangana",
          "Central Board of Secondary Education",
          "Maharashtra State Board of Secondary and Higher Secondary Education",
          "Central Board of Secondary Education",
          "Board of Intermediate Education, Telangana",
          "Maharashtra State Board of Secondary and Higher Secondary Education",
          "Central Board of Secondary Education",
          "Central Board of Secondary Education",
          "Central Board of Secondary Education",
          "Board of Intermediate Education, Telangana",
          "Central Board of Secondary Education",
          "Maharashtra State Board of Secondary and Higher Secondary Education",
          "Central Board of Secondary Education",
          "Central Board of Secondary Education",
          "Council for the Indian School Certificate Examination",
          "Maharashtra State Board of Secondary and Higher Secondary Education",
          "Board of Intermediate Education, Andhra Pradesh",
          "Central Board of Secondary Education",
          "Central Board of Secondary Education",
          "Council for the Indian School Certificate Examination",
          "Maharashtra State Board of Secondary and Higher Secondary Education",
          "Central Board of Secondary Education",
          "Board of Intermediate Education, Telangana",
          "Central Board of Secondary Education",
          "Board of Intermediate Education, Telangana",
          "Board of Intermediate Education, Telangana",
          "Board of Pre-University Examination, Karnataka",
          "Central Board of Secondary Education",
          "Board of Intermediate Education, Telangana",
          "Board of Intermediate Education, Telangana",
          "Board of Intermediate Education, Telangana",
          "Board of Intermediate Education, Telangana",
          "Central Board of Secondary Education",
          "Any Other Board/ University (not covered above)",
          "Council for the Indian School Certificate Examination",
          "Central Board of Secondary Education",
          "Council for the Indian School Certificate Examination",
          "Central Board of Secondary Education",
          "Central Board of Secondary Education",
          "Maharashtra State Board of Secondary and Higher Secondary Education",
          "Board of Intermediate Education, Telangana",
          "Board of Intermediate Education, Andhra Pradesh",
          "Board of Intermediate Education, Andhra Pradesh",
          "Board of Intermediate Education, Telangana",
          "Gujarat Secondary Education Board, Gujarat",
          "Maharashtra State Board of Secondary and Higher Secondary Education",
          "Central Board of Secondary Education",
          "Board of Intermediate Education, Telangana",
          "Central Board of Secondary Education",
          "Board of Intermediate Education, Telangana",
          "Maharashtra State Board of Secondary and Higher Secondary Education",
          "Central Board of Secondary Education",
          "Central Board of Secondary Education",
          "Board of Intermediate Education, Telangana",
          "Gujarat Secondary Education Board, Gujarat",
          "Board of Intermediate Education, Telangana",
          "Central Board of Secondary Education",
          "Board of Intermediate Education, Telangana",
          "Central Board of Secondary Education",
          "Central Board of Secondary Education",
          "Board of Intermediate Education, Telangana",
          "Board of Intermediate Education, Telangana",
          "Maharashtra State Board of Secondary and Higher Secondary Education",
          "Central Board of Secondary Education",
          "Central Board of Secondary Education",
          "Board of Higher Secondary Examination, Kerala",
          "Board of Intermediate Education, Telangana",
          "Board of Intermediate Education, Andhra Pradesh",
          "Board of Intermediate Education, Telangana",
          "Board of Secondary Education, Chhatisgarh",
          "Board of Intermediate Education, Telangana",
          "Central Board of Secondary Education",
          "Board of Intermediate Education, Telangana",
          "Central Board of Secondary Education",
          "Central Board of Secondary Education",
          "Central Board of Secondary Education",
          "Central Board of Secondary Education",
          "Board of Intermediate Education, Telangana",
          "Board of Intermediate Education, Telangana",
          "Board of Intermediate Education, Telangana",
          "Board of Intermediate Education, Telangana",
          "Board of Intermediate Education, Telangana",
          "Board of Intermediate Education, Telangana",
          "Board of Secondary Education, Rajasthan",
          "Central Board of Secondary Education",
          "Central Board of Secondary Education",
          "Board of Intermediate Education, Telangana",
          "Maharashtra State Board of Secondary and Higher Secondary Education",
          "Board of Intermediate Education, Telangana",
          "Central Board of Secondary Education",
          "Central Board of Secondary Education",
          "Central Board of Secondary Education",
          "Maharashtra State Board of Secondary and Higher Secondary Education",
          "Central Board of Secondary Education",
          "Central Board of Secondary Education",
          "Central Board of Secondary Education",
          "Central Board of Secondary Education",
          "Central Board of Secondary Education",
          "Central Board of Secondary Education",
          "Central Board of Secondary Education",
          "Board of Intermediate Education, Telangana",
          "Central Board of Secondary Education",
          "Central Board of Secondary Education",
          "Central Board of Secondary Education",
          "Maharashtra State Board of Secondary and Higher Secondary Education",
          "Board of Intermediate Education, Telangana",
          "Central Board of Secondary Education",
          "Any Other Board/ University (not covered above)",
          "Maharashtra State Board of Secondary and Higher Secondary Education",
          "Central Board of Secondary Education",
          "Maharashtra State Board of Secondary and Higher Secondary Education",
          "Maharashtra State Board of Secondary and Higher Secondary Education",
          "Central Board of Secondary Education",
          "Central Board of Secondary Education",
          "Council for the Indian School Certificate Examination",
          "Central Board of Secondary Education",
          "Council for the Indian School Certificate Examination",
          "Board of Intermediate Education, Andhra Pradesh",
          "Board of Intermediate Education, Andhra Pradesh",
          "Board of Intermediate Education, Telangana",
          "Board of Intermediate Education, Telangana",
          "Board of Intermediate Education, Telangana",
          "Board of Intermediate Education, Andhra Pradesh",
          "Board of Intermediate Education, Andhra Pradesh",
          "Central Board of Secondary Education",
          "Central Board of Secondary Education",
          "Central Board of Secondary Education",
          "Central Board of Secondary Education",
          "Central Board of Secondary Education",
          "Board of Intermediate Education, Andhra Pradesh",
          "Board of Intermediate Education, Telangana",
          "Gujarat Secondary Education Board, Gujarat",
          "Central Board of Secondary Education",
          "Central Board of Secondary Education",
          "Central Board of Secondary Education",
          "Central Board of Secondary Education",
          "Board of Intermediate Education, Telangana",
          "Central Board of Secondary Education",
          "Central Board of Secondary Education",
          "Board of Secondary Education, Rajasthan",
          "Central Board of Secondary Education",
          "Board of Intermediate Education, Telangana",
          "Board of Intermediate Education, Andhra Pradesh",
          "Board of Intermediate Education, Telangana",
          "Board of Intermediate Education, Telangana",
          "Central Board of Secondary Education",
          "Board of Intermediate Education, Andhra Pradesh",
          "Board of Intermediate Education, Andhra Pradesh",
          "Council for the Indian School Certificate Examination",
          "Board of Intermediate Education, Andhra Pradesh",
          "Board of Intermediate Education, Andhra Pradesh",
          "Council for the Indian School Certificate Examination",
          "Central Board of Secondary Education",
          "Central Board of Secondary Education",
          "Central Board of Secondary Education",
          "Board of Intermediate Education, Telangana",
          "Central Board of Secondary Education",
          "Central Board of Secondary Education",
          "Board of Intermediate Education, Telangana",
          "Central Board of Secondary Education",
          "Central Board of Secondary Education",
          "Maharashtra State Board of Secondary and Higher Secondary Education",
          "Board of Intermediate Education, Telangana",
          "Central Board of Secondary Education",
          "Central Board of Secondary Education",
          "Board of Intermediate Education, Telangana",
          "Central Board of Secondary Education",
          "Central Board of Secondary Education",
          "Central Board of Secondary Education",
          "Council for the Indian School Certificate Examination",
          "Council for the Indian School Certificate Examination",
          "Central Board of Secondary Education",
          "Board of Intermediate Education, Telangana",
          "Board of Intermediate Education, Telangana",
          "Board of Intermediate Education, Telangana",
          "Maharashtra State Board of Secondary and Higher Secondary Education",
          "Central Board of Secondary Education",
          "Board of Intermediate Education, Telangana",
          "Central Board of Secondary Education",
          "Maharashtra State Board of Secondary and Higher Secondary Education",
          "Central Board of Secondary Education",
          "Central Board of Secondary Education",
          "Central Board of Secondary Education",
          "Board of Intermediate Education, Telangana",
          "Central Board of Secondary Education",
          "Board of Intermediate Education, Telangana",
          "Board of Intermediate Education, Telangana",
          "Central Board of Secondary Education",
          "Central Board of Secondary Education",
          "Board of Intermediate Education, Telangana",
          "Central Board of Secondary Education",
          "Council for the Indian School Certificate Examination",
          "Maharashtra State Board of Secondary and Higher Secondary Education",
          "Board of Intermediate Education, Telangana",
          "Board of Intermediate Education, Telangana",
          "Board of Intermediate Education, Telangana",
          "Central Board of Secondary Education",
          "Board of Pre-University Examination, Karnataka",
          "Central Board of Secondary Education",
          "Central Board of Secondary Education",
          "Central Board of Secondary Education",
          "Central Board of Secondary Education",
          "Board of Intermediate Education, Telangana",
          "Central Board of Secondary Education",
          "Board of Intermediate Education, Telangana",
          "Central Board of Secondary Education",
          "Board of Intermediate Education, Telangana",
          "Central Board of Secondary Education",
          "Central Board of Secondary Education",
          "Central Board of Secondary Education",
          "Board of Intermediate Education, Telangana",
          "Board of Pre-University Examination, Karnataka",
          "Board of Intermediate Education, Andhra Pradesh",
          "Maharashtra State Board of Secondary and Higher Secondary Education",
          "Central Board of Secondary Education",
          "Central Board of Secondary Education",
          "Central Board of Secondary Education",
          "Central Board of Secondary Education",
          "Central Board of Secondary Education",
          "Central Board of Secondary Education",
          "Board of Intermediate Education, Telangana",
          "Maharashtra State Board of Secondary and Higher Secondary Education",
          "Board of Intermediate Education, Telangana",
          "Board of Secondary Education, Madhya Pradesh",
          "Central Board of Secondary Education",
          "Council for the Indian School Certificate Examination",
          "Central Board of Secondary Education",
          "Maharashtra State Board of Secondary and Higher Secondary Education",
          "Central Board of Secondary Education",
          "Maharashtra State Board of Secondary and Higher Secondary Education",
          "Board of Intermediate Education, Telangana",
          "Central Board of Secondary Education",
          "Maharashtra State Board of Secondary and Higher Secondary Education",
          "Central Board of Secondary Education",
          "Maharashtra State Board of Secondary and Higher Secondary Education",
          "Central Board of Secondary Education",
          "Central Board of Secondary Education",
          "Council for the Indian School Certificate Examination",
          "Central Board of Secondary Education",
          "Board of Pre-University Examination, Karnataka",
          "Board of Higher Secondary Examination, Kerala",
          "Central Board of Secondary Education",
          "Central Board of Secondary Education",
          "Central Board of Secondary Education",
          "Central Board of Secondary Education",
          "Central Board of Secondary Education",
          "Maharashtra State Board of Secondary and Higher Secondary Education",
          "Central Board of Secondary Education",
          "Central Board of Secondary Education",
          "Maharashtra State Board of Secondary and Higher Secondary Education",
          "Central Board of Secondary Education",
          "Central Board of Secondary Education",
          "Central Board of Secondary Education",
          "Central Board of Secondary Education",
          "Board of Intermediate Education, Andhra Pradesh",
          "Council for the Indian School Certificate Examination",
          "Maharashtra State Board of Secondary and Higher Secondary Education",
          "Central Board of Secondary Education",
          "Maharashtra State Board of Secondary and Higher Secondary Education"
         ],
         "yaxis": "y"
        }
       ],
       "layout": {
        "barmode": "group",
        "legend": {
         "tracegroupgap": 0
        },
        "margin": {
         "t": 60
        },
        "template": {
         "data": {
          "bar": [
           {
            "error_x": {
             "color": "#2a3f5f"
            },
            "error_y": {
             "color": "#2a3f5f"
            },
            "marker": {
             "line": {
              "color": "#E5ECF6",
              "width": 0.5
             },
             "pattern": {
              "fillmode": "overlay",
              "size": 10,
              "solidity": 0.2
             }
            },
            "type": "bar"
           }
          ],
          "barpolar": [
           {
            "marker": {
             "line": {
              "color": "#E5ECF6",
              "width": 0.5
             },
             "pattern": {
              "fillmode": "overlay",
              "size": 10,
              "solidity": 0.2
             }
            },
            "type": "barpolar"
           }
          ],
          "carpet": [
           {
            "aaxis": {
             "endlinecolor": "#2a3f5f",
             "gridcolor": "white",
             "linecolor": "white",
             "minorgridcolor": "white",
             "startlinecolor": "#2a3f5f"
            },
            "baxis": {
             "endlinecolor": "#2a3f5f",
             "gridcolor": "white",
             "linecolor": "white",
             "minorgridcolor": "white",
             "startlinecolor": "#2a3f5f"
            },
            "type": "carpet"
           }
          ],
          "choropleth": [
           {
            "colorbar": {
             "outlinewidth": 0,
             "ticks": ""
            },
            "type": "choropleth"
           }
          ],
          "contour": [
           {
            "colorbar": {
             "outlinewidth": 0,
             "ticks": ""
            },
            "colorscale": [
             [
              0,
              "#0d0887"
             ],
             [
              0.1111111111111111,
              "#46039f"
             ],
             [
              0.2222222222222222,
              "#7201a8"
             ],
             [
              0.3333333333333333,
              "#9c179e"
             ],
             [
              0.4444444444444444,
              "#bd3786"
             ],
             [
              0.5555555555555556,
              "#d8576b"
             ],
             [
              0.6666666666666666,
              "#ed7953"
             ],
             [
              0.7777777777777778,
              "#fb9f3a"
             ],
             [
              0.8888888888888888,
              "#fdca26"
             ],
             [
              1,
              "#f0f921"
             ]
            ],
            "type": "contour"
           }
          ],
          "contourcarpet": [
           {
            "colorbar": {
             "outlinewidth": 0,
             "ticks": ""
            },
            "type": "contourcarpet"
           }
          ],
          "heatmap": [
           {
            "colorbar": {
             "outlinewidth": 0,
             "ticks": ""
            },
            "colorscale": [
             [
              0,
              "#0d0887"
             ],
             [
              0.1111111111111111,
              "#46039f"
             ],
             [
              0.2222222222222222,
              "#7201a8"
             ],
             [
              0.3333333333333333,
              "#9c179e"
             ],
             [
              0.4444444444444444,
              "#bd3786"
             ],
             [
              0.5555555555555556,
              "#d8576b"
             ],
             [
              0.6666666666666666,
              "#ed7953"
             ],
             [
              0.7777777777777778,
              "#fb9f3a"
             ],
             [
              0.8888888888888888,
              "#fdca26"
             ],
             [
              1,
              "#f0f921"
             ]
            ],
            "type": "heatmap"
           }
          ],
          "heatmapgl": [
           {
            "colorbar": {
             "outlinewidth": 0,
             "ticks": ""
            },
            "colorscale": [
             [
              0,
              "#0d0887"
             ],
             [
              0.1111111111111111,
              "#46039f"
             ],
             [
              0.2222222222222222,
              "#7201a8"
             ],
             [
              0.3333333333333333,
              "#9c179e"
             ],
             [
              0.4444444444444444,
              "#bd3786"
             ],
             [
              0.5555555555555556,
              "#d8576b"
             ],
             [
              0.6666666666666666,
              "#ed7953"
             ],
             [
              0.7777777777777778,
              "#fb9f3a"
             ],
             [
              0.8888888888888888,
              "#fdca26"
             ],
             [
              1,
              "#f0f921"
             ]
            ],
            "type": "heatmapgl"
           }
          ],
          "histogram": [
           {
            "marker": {
             "pattern": {
              "fillmode": "overlay",
              "size": 10,
              "solidity": 0.2
             }
            },
            "type": "histogram"
           }
          ],
          "histogram2d": [
           {
            "colorbar": {
             "outlinewidth": 0,
             "ticks": ""
            },
            "colorscale": [
             [
              0,
              "#0d0887"
             ],
             [
              0.1111111111111111,
              "#46039f"
             ],
             [
              0.2222222222222222,
              "#7201a8"
             ],
             [
              0.3333333333333333,
              "#9c179e"
             ],
             [
              0.4444444444444444,
              "#bd3786"
             ],
             [
              0.5555555555555556,
              "#d8576b"
             ],
             [
              0.6666666666666666,
              "#ed7953"
             ],
             [
              0.7777777777777778,
              "#fb9f3a"
             ],
             [
              0.8888888888888888,
              "#fdca26"
             ],
             [
              1,
              "#f0f921"
             ]
            ],
            "type": "histogram2d"
           }
          ],
          "histogram2dcontour": [
           {
            "colorbar": {
             "outlinewidth": 0,
             "ticks": ""
            },
            "colorscale": [
             [
              0,
              "#0d0887"
             ],
             [
              0.1111111111111111,
              "#46039f"
             ],
             [
              0.2222222222222222,
              "#7201a8"
             ],
             [
              0.3333333333333333,
              "#9c179e"
             ],
             [
              0.4444444444444444,
              "#bd3786"
             ],
             [
              0.5555555555555556,
              "#d8576b"
             ],
             [
              0.6666666666666666,
              "#ed7953"
             ],
             [
              0.7777777777777778,
              "#fb9f3a"
             ],
             [
              0.8888888888888888,
              "#fdca26"
             ],
             [
              1,
              "#f0f921"
             ]
            ],
            "type": "histogram2dcontour"
           }
          ],
          "mesh3d": [
           {
            "colorbar": {
             "outlinewidth": 0,
             "ticks": ""
            },
            "type": "mesh3d"
           }
          ],
          "parcoords": [
           {
            "line": {
             "colorbar": {
              "outlinewidth": 0,
              "ticks": ""
             }
            },
            "type": "parcoords"
           }
          ],
          "pie": [
           {
            "automargin": true,
            "type": "pie"
           }
          ],
          "scatter": [
           {
            "fillpattern": {
             "fillmode": "overlay",
             "size": 10,
             "solidity": 0.2
            },
            "type": "scatter"
           }
          ],
          "scatter3d": [
           {
            "line": {
             "colorbar": {
              "outlinewidth": 0,
              "ticks": ""
             }
            },
            "marker": {
             "colorbar": {
              "outlinewidth": 0,
              "ticks": ""
             }
            },
            "type": "scatter3d"
           }
          ],
          "scattercarpet": [
           {
            "marker": {
             "colorbar": {
              "outlinewidth": 0,
              "ticks": ""
             }
            },
            "type": "scattercarpet"
           }
          ],
          "scattergeo": [
           {
            "marker": {
             "colorbar": {
              "outlinewidth": 0,
              "ticks": ""
             }
            },
            "type": "scattergeo"
           }
          ],
          "scattergl": [
           {
            "marker": {
             "colorbar": {
              "outlinewidth": 0,
              "ticks": ""
             }
            },
            "type": "scattergl"
           }
          ],
          "scattermapbox": [
           {
            "marker": {
             "colorbar": {
              "outlinewidth": 0,
              "ticks": ""
             }
            },
            "type": "scattermapbox"
           }
          ],
          "scatterpolar": [
           {
            "marker": {
             "colorbar": {
              "outlinewidth": 0,
              "ticks": ""
             }
            },
            "type": "scatterpolar"
           }
          ],
          "scatterpolargl": [
           {
            "marker": {
             "colorbar": {
              "outlinewidth": 0,
              "ticks": ""
             }
            },
            "type": "scatterpolargl"
           }
          ],
          "scatterternary": [
           {
            "marker": {
             "colorbar": {
              "outlinewidth": 0,
              "ticks": ""
             }
            },
            "type": "scatterternary"
           }
          ],
          "surface": [
           {
            "colorbar": {
             "outlinewidth": 0,
             "ticks": ""
            },
            "colorscale": [
             [
              0,
              "#0d0887"
             ],
             [
              0.1111111111111111,
              "#46039f"
             ],
             [
              0.2222222222222222,
              "#7201a8"
             ],
             [
              0.3333333333333333,
              "#9c179e"
             ],
             [
              0.4444444444444444,
              "#bd3786"
             ],
             [
              0.5555555555555556,
              "#d8576b"
             ],
             [
              0.6666666666666666,
              "#ed7953"
             ],
             [
              0.7777777777777778,
              "#fb9f3a"
             ],
             [
              0.8888888888888888,
              "#fdca26"
             ],
             [
              1,
              "#f0f921"
             ]
            ],
            "type": "surface"
           }
          ],
          "table": [
           {
            "cells": {
             "fill": {
              "color": "#EBF0F8"
             },
             "line": {
              "color": "white"
             }
            },
            "header": {
             "fill": {
              "color": "#C8D4E3"
             },
             "line": {
              "color": "white"
             }
            },
            "type": "table"
           }
          ]
         },
         "layout": {
          "annotationdefaults": {
           "arrowcolor": "#2a3f5f",
           "arrowhead": 0,
           "arrowwidth": 1
          },
          "autotypenumbers": "strict",
          "coloraxis": {
           "colorbar": {
            "outlinewidth": 0,
            "ticks": ""
           }
          },
          "colorscale": {
           "diverging": [
            [
             0,
             "#8e0152"
            ],
            [
             0.1,
             "#c51b7d"
            ],
            [
             0.2,
             "#de77ae"
            ],
            [
             0.3,
             "#f1b6da"
            ],
            [
             0.4,
             "#fde0ef"
            ],
            [
             0.5,
             "#f7f7f7"
            ],
            [
             0.6,
             "#e6f5d0"
            ],
            [
             0.7,
             "#b8e186"
            ],
            [
             0.8,
             "#7fbc41"
            ],
            [
             0.9,
             "#4d9221"
            ],
            [
             1,
             "#276419"
            ]
           ],
           "sequential": [
            [
             0,
             "#0d0887"
            ],
            [
             0.1111111111111111,
             "#46039f"
            ],
            [
             0.2222222222222222,
             "#7201a8"
            ],
            [
             0.3333333333333333,
             "#9c179e"
            ],
            [
             0.4444444444444444,
             "#bd3786"
            ],
            [
             0.5555555555555556,
             "#d8576b"
            ],
            [
             0.6666666666666666,
             "#ed7953"
            ],
            [
             0.7777777777777778,
             "#fb9f3a"
            ],
            [
             0.8888888888888888,
             "#fdca26"
            ],
            [
             1,
             "#f0f921"
            ]
           ],
           "sequentialminus": [
            [
             0,
             "#0d0887"
            ],
            [
             0.1111111111111111,
             "#46039f"
            ],
            [
             0.2222222222222222,
             "#7201a8"
            ],
            [
             0.3333333333333333,
             "#9c179e"
            ],
            [
             0.4444444444444444,
             "#bd3786"
            ],
            [
             0.5555555555555556,
             "#d8576b"
            ],
            [
             0.6666666666666666,
             "#ed7953"
            ],
            [
             0.7777777777777778,
             "#fb9f3a"
            ],
            [
             0.8888888888888888,
             "#fdca26"
            ],
            [
             1,
             "#f0f921"
            ]
           ]
          },
          "colorway": [
           "#636efa",
           "#EF553B",
           "#00cc96",
           "#ab63fa",
           "#FFA15A",
           "#19d3f3",
           "#FF6692",
           "#B6E880",
           "#FF97FF",
           "#FECB52"
          ],
          "font": {
           "color": "#2a3f5f"
          },
          "geo": {
           "bgcolor": "white",
           "lakecolor": "white",
           "landcolor": "#E5ECF6",
           "showlakes": true,
           "showland": true,
           "subunitcolor": "white"
          },
          "hoverlabel": {
           "align": "left"
          },
          "hovermode": "closest",
          "mapbox": {
           "style": "light"
          },
          "paper_bgcolor": "white",
          "plot_bgcolor": "#E5ECF6",
          "polar": {
           "angularaxis": {
            "gridcolor": "white",
            "linecolor": "white",
            "ticks": ""
           },
           "bgcolor": "#E5ECF6",
           "radialaxis": {
            "gridcolor": "white",
            "linecolor": "white",
            "ticks": ""
           }
          },
          "scene": {
           "xaxis": {
            "backgroundcolor": "#E5ECF6",
            "gridcolor": "white",
            "gridwidth": 2,
            "linecolor": "white",
            "showbackground": true,
            "ticks": "",
            "zerolinecolor": "white"
           },
           "yaxis": {
            "backgroundcolor": "#E5ECF6",
            "gridcolor": "white",
            "gridwidth": 2,
            "linecolor": "white",
            "showbackground": true,
            "ticks": "",
            "zerolinecolor": "white"
           },
           "zaxis": {
            "backgroundcolor": "#E5ECF6",
            "gridcolor": "white",
            "gridwidth": 2,
            "linecolor": "white",
            "showbackground": true,
            "ticks": "",
            "zerolinecolor": "white"
           }
          },
          "shapedefaults": {
           "line": {
            "color": "#2a3f5f"
           }
          },
          "ternary": {
           "aaxis": {
            "gridcolor": "white",
            "linecolor": "white",
            "ticks": ""
           },
           "baxis": {
            "gridcolor": "white",
            "linecolor": "white",
            "ticks": ""
           },
           "bgcolor": "#E5ECF6",
           "caxis": {
            "gridcolor": "white",
            "linecolor": "white",
            "ticks": ""
           }
          },
          "title": {
           "x": 0.05
          },
          "xaxis": {
           "automargin": true,
           "gridcolor": "white",
           "linecolor": "white",
           "ticks": "",
           "title": {
            "standoff": 15
           },
           "zerolinecolor": "white",
           "zerolinewidth": 2
          },
          "yaxis": {
           "automargin": true,
           "gridcolor": "white",
           "linecolor": "white",
           "ticks": "",
           "title": {
            "standoff": 15
           },
           "zerolinecolor": "white",
           "zerolinewidth": 2
          }
         }
        },
        "title": {
         "text": "Average CGPA per Board"
        },
        "xaxis": {
         "anchor": "y",
         "domain": [
          0,
          1
         ],
         "title": {
          "text": "Average CGPA"
         }
        },
        "yaxis": {
         "anchor": "x",
         "domain": [
          0,
          1
         ],
         "title": {
          "text": "Board"
         }
        }
       }
      }
     },
     "metadata": {},
     "output_type": "display_data"
    }
   ],
   "source": [
    "def cgpa_per_board(df):\n",
    "    List = df['Board'].value_counts()\n",
    "    # Histogram to plot average CGPA per board\n",
    "    fig = px.histogram(df, orientation=\"h\", histfunc=\"avg\", x=\"CGPA\", y=\"Board\",barmode='group', text_auto=True)\n",
    "    fig.update_traces(hovertemplate =\n",
    "        '{count}')\n",
    "    fig.update_layout(title=\"Average CGPA per Board\", xaxis_title='Average CGPA', yaxis_title='Board')\n",
    "    fig.show()\n",
    "cgpa_per_board(df)"
   ]
  }
 ],
 "metadata": {
  "kernelspec": {
   "display_name": "Python 3",
   "language": "python",
   "name": "python3"
  },
  "language_info": {
   "codemirror_mode": {
    "name": "ipython",
    "version": 3
   },
   "file_extension": ".py",
   "mimetype": "text/x-python",
   "name": "python",
   "nbconvert_exporter": "python",
   "pygments_lexer": "ipython3",
   "version": "3.11.4"
  }
 },
 "nbformat": 4,
 "nbformat_minor": 2
}
